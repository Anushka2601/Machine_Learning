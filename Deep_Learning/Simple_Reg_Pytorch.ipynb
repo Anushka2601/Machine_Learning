{
 "cells": [
  {
   "cell_type": "code",
   "execution_count": 1,
   "metadata": {},
   "outputs": [],
   "source": [
    "import torch\n",
    "import pandas as pd\n",
    "import numpy as np\n",
    "import torch.nn as nn\n",
    "from sklearn.model_selection import train_test_split \n",
    "from sklearn.metrics import r2_score, mean_squared_error as mse\n",
    "from sklearn.preprocessing import MinMaxScaler"
   ]
  },
  {
   "cell_type": "code",
   "execution_count": 2,
   "metadata": {},
   "outputs": [
    {
     "data": {
      "text/html": [
       "<div>\n",
       "<style scoped>\n",
       "    .dataframe tbody tr th:only-of-type {\n",
       "        vertical-align: middle;\n",
       "    }\n",
       "\n",
       "    .dataframe tbody tr th {\n",
       "        vertical-align: top;\n",
       "    }\n",
       "\n",
       "    .dataframe thead th {\n",
       "        text-align: right;\n",
       "    }\n",
       "</style>\n",
       "<table border=\"1\" class=\"dataframe\">\n",
       "  <thead>\n",
       "    <tr style=\"text-align: right;\">\n",
       "      <th></th>\n",
       "      <th>price</th>\n",
       "      <th>lotsize</th>\n",
       "      <th>bedrooms</th>\n",
       "      <th>bathrms</th>\n",
       "      <th>stories</th>\n",
       "      <th>garagepl</th>\n",
       "      <th>driveway_yes</th>\n",
       "      <th>recroom_yes</th>\n",
       "      <th>fullbase_yes</th>\n",
       "      <th>gashw_yes</th>\n",
       "      <th>airco_yes</th>\n",
       "      <th>prefarea_yes</th>\n",
       "    </tr>\n",
       "  </thead>\n",
       "  <tbody>\n",
       "    <tr>\n",
       "      <th>0</th>\n",
       "      <td>42000.0</td>\n",
       "      <td>5850.0</td>\n",
       "      <td>3.0</td>\n",
       "      <td>1.0</td>\n",
       "      <td>2.0</td>\n",
       "      <td>1.0</td>\n",
       "      <td>1.0</td>\n",
       "      <td>0.0</td>\n",
       "      <td>1.0</td>\n",
       "      <td>0.0</td>\n",
       "      <td>0.0</td>\n",
       "      <td>0.0</td>\n",
       "    </tr>\n",
       "    <tr>\n",
       "      <th>1</th>\n",
       "      <td>38500.0</td>\n",
       "      <td>4000.0</td>\n",
       "      <td>2.0</td>\n",
       "      <td>1.0</td>\n",
       "      <td>1.0</td>\n",
       "      <td>0.0</td>\n",
       "      <td>1.0</td>\n",
       "      <td>0.0</td>\n",
       "      <td>0.0</td>\n",
       "      <td>0.0</td>\n",
       "      <td>0.0</td>\n",
       "      <td>0.0</td>\n",
       "    </tr>\n",
       "    <tr>\n",
       "      <th>2</th>\n",
       "      <td>49500.0</td>\n",
       "      <td>3060.0</td>\n",
       "      <td>3.0</td>\n",
       "      <td>1.0</td>\n",
       "      <td>1.0</td>\n",
       "      <td>0.0</td>\n",
       "      <td>1.0</td>\n",
       "      <td>0.0</td>\n",
       "      <td>0.0</td>\n",
       "      <td>0.0</td>\n",
       "      <td>0.0</td>\n",
       "      <td>0.0</td>\n",
       "    </tr>\n",
       "    <tr>\n",
       "      <th>3</th>\n",
       "      <td>60500.0</td>\n",
       "      <td>6650.0</td>\n",
       "      <td>3.0</td>\n",
       "      <td>1.0</td>\n",
       "      <td>2.0</td>\n",
       "      <td>0.0</td>\n",
       "      <td>1.0</td>\n",
       "      <td>1.0</td>\n",
       "      <td>0.0</td>\n",
       "      <td>0.0</td>\n",
       "      <td>0.0</td>\n",
       "      <td>0.0</td>\n",
       "    </tr>\n",
       "    <tr>\n",
       "      <th>4</th>\n",
       "      <td>61000.0</td>\n",
       "      <td>6360.0</td>\n",
       "      <td>2.0</td>\n",
       "      <td>1.0</td>\n",
       "      <td>1.0</td>\n",
       "      <td>0.0</td>\n",
       "      <td>1.0</td>\n",
       "      <td>0.0</td>\n",
       "      <td>0.0</td>\n",
       "      <td>0.0</td>\n",
       "      <td>0.0</td>\n",
       "      <td>0.0</td>\n",
       "    </tr>\n",
       "  </tbody>\n",
       "</table>\n",
       "</div>"
      ],
      "text/plain": [
       "     price  lotsize  bedrooms  bathrms  stories  garagepl  driveway_yes  \\\n",
       "0  42000.0   5850.0       3.0      1.0      2.0       1.0           1.0   \n",
       "1  38500.0   4000.0       2.0      1.0      1.0       0.0           1.0   \n",
       "2  49500.0   3060.0       3.0      1.0      1.0       0.0           1.0   \n",
       "3  60500.0   6650.0       3.0      1.0      2.0       0.0           1.0   \n",
       "4  61000.0   6360.0       2.0      1.0      1.0       0.0           1.0   \n",
       "\n",
       "   recroom_yes  fullbase_yes  gashw_yes  airco_yes  prefarea_yes  \n",
       "0          0.0           1.0        0.0        0.0           0.0  \n",
       "1          0.0           0.0        0.0        0.0           0.0  \n",
       "2          0.0           0.0        0.0        0.0           0.0  \n",
       "3          1.0           0.0        0.0        0.0           0.0  \n",
       "4          0.0           0.0        0.0        0.0           0.0  "
      ]
     },
     "execution_count": 2,
     "metadata": {},
     "output_type": "execute_result"
    }
   ],
   "source": [
    "df = pd.read_csv(\"C:/Training/Academy/Statistics (Python)/Cases/Real Estate/Housing.csv\")\n",
    "dum_df = pd.get_dummies(df,drop_first=True)\n",
    "dum_df = dum_df.astype(float)\n",
    "dum_df.head()"
   ]
  },
  {
   "cell_type": "code",
   "execution_count": 3,
   "metadata": {},
   "outputs": [
    {
     "data": {
      "text/plain": [
       "(546, 12)"
      ]
     },
     "execution_count": 3,
     "metadata": {},
     "output_type": "execute_result"
    }
   ],
   "source": [
    "dum_df.shape"
   ]
  },
  {
   "cell_type": "code",
   "execution_count": 4,
   "metadata": {},
   "outputs": [],
   "source": [
    "X = dum_df.iloc[:,1:]\n",
    "y = dum_df['price']\n",
    "scaler = MinMaxScaler()\n",
    "scalerY = MinMaxScaler()\n",
    "X_train, X_test, y_train, y_test = train_test_split(X, y, test_size = 0.3, \n",
    "                                                    random_state=23)\n",
    "y_train = scalerY.fit_transform(y_train.values.reshape(-1, 1))\n",
    "X_train = scaler.fit_transform(X_train)\n",
    "#y_test = scalerY.transform(y_test.values.reshape(-1, 1))\n",
    "X_test = scaler.transform(X_test)"
   ]
  },
  {
   "cell_type": "code",
   "execution_count": 5,
   "metadata": {},
   "outputs": [
    {
     "name": "stdout",
     "output_type": "stream",
     "text": [
      "torch.Size([382, 11])\n",
      "torch.Size([382, 1])\n"
     ]
    }
   ],
   "source": [
    "X_torch = torch.from_numpy(X_train)\n",
    "y_torch = torch.from_numpy(y_train)\n",
    "print(X_torch.size())\n",
    "print(y_torch.size())"
   ]
  },
  {
   "cell_type": "code",
   "execution_count": 6,
   "metadata": {},
   "outputs": [],
   "source": [
    "torch.manual_seed(23)\n",
    "# Create a model\n",
    "model = nn.Sequential(nn.Linear(in_features=X_train.shape[1], out_features=8),\n",
    "                      nn.ReLU(),\n",
    "                      nn.Linear(8,6),\n",
    "                      nn.ReLU(),\n",
    "                      nn.Linear(6,4),\n",
    "                      nn.ReLU(),\n",
    "                      nn.Linear(4, 3),\n",
    "                      nn.ReLU(),\n",
    "                      nn.Linear(3,1),\n",
    "                      nn.ReLU())"
   ]
  },
  {
   "cell_type": "code",
   "execution_count": 7,
   "metadata": {},
   "outputs": [
    {
     "data": {
      "text/plain": [
       "Adam (\n",
       "Parameter Group 0\n",
       "    amsgrad: False\n",
       "    betas: (0.9, 0.999)\n",
       "    capturable: False\n",
       "    differentiable: False\n",
       "    eps: 1e-08\n",
       "    foreach: None\n",
       "    fused: None\n",
       "    lr: 0.001\n",
       "    maximize: False\n",
       "    weight_decay: 0\n",
       ")"
      ]
     },
     "execution_count": 7,
     "metadata": {},
     "output_type": "execute_result"
    }
   ],
   "source": [
    "criterion = torch.nn.MSELoss()\n",
    "# Construct the optimizer (Stochastic Gradient Descent in this case)\n",
    "optimizer = torch.optim.Adam(model.parameters(), lr = 0.001)\n",
    "optimizer"
   ]
  },
  {
   "cell_type": "markdown",
   "metadata": {},
   "source": [
    "Initail Weights"
   ]
  },
  {
   "cell_type": "code",
   "execution_count": 8,
   "metadata": {},
   "outputs": [
    {
     "data": {
      "text/plain": [
       "Parameter containing:\n",
       "tensor([[-0.0433, -0.1273, -0.0468, -0.0862,  0.2760, -0.2352, -0.1246,  0.2536,\n",
       "          0.0528, -0.2232,  0.1042],\n",
       "        [-0.2395,  0.1735,  0.0325, -0.0209, -0.1622, -0.1680, -0.0996, -0.0277,\n",
       "         -0.1496,  0.0790, -0.1986],\n",
       "        [-0.1132, -0.1824,  0.0281, -0.2887,  0.2442,  0.2077,  0.2611, -0.1236,\n",
       "         -0.0137, -0.0128, -0.0941],\n",
       "        [ 0.1044,  0.0961, -0.1882, -0.0274, -0.2383,  0.1274,  0.1634,  0.0310,\n",
       "         -0.2528, -0.1189,  0.1770],\n",
       "        [-0.1313,  0.0414, -0.2199, -0.0468, -0.1842, -0.2538, -0.1663, -0.1138,\n",
       "          0.2585,  0.2574,  0.1214],\n",
       "        [ 0.1681,  0.0995, -0.1351,  0.1339, -0.0150, -0.2048, -0.0473,  0.1629,\n",
       "         -0.0395,  0.0133,  0.0892],\n",
       "        [ 0.1051, -0.2302, -0.1703,  0.1509,  0.2103, -0.0927,  0.1740,  0.0780,\n",
       "          0.2308,  0.1270, -0.0150],\n",
       "        [ 0.2325, -0.1317, -0.0337,  0.0919,  0.1691, -0.2744, -0.0111,  0.2391,\n",
       "          0.2764,  0.1646,  0.1470]], requires_grad=True)"
      ]
     },
     "execution_count": 8,
     "metadata": {},
     "output_type": "execute_result"
    }
   ],
   "source": [
    "model[0].weight"
   ]
  },
  {
   "cell_type": "code",
   "execution_count": 9,
   "metadata": {},
   "outputs": [
    {
     "data": {
      "text/plain": [
       "Sequential(\n",
       "  (0): Linear(in_features=11, out_features=8, bias=True)\n",
       "  (1): ReLU()\n",
       "  (2): Linear(in_features=8, out_features=6, bias=True)\n",
       "  (3): ReLU()\n",
       "  (4): Linear(in_features=6, out_features=4, bias=True)\n",
       "  (5): ReLU()\n",
       "  (6): Linear(in_features=4, out_features=3, bias=True)\n",
       "  (7): ReLU()\n",
       "  (8): Linear(in_features=3, out_features=1, bias=True)\n",
       "  (9): ReLU()\n",
       ")"
      ]
     },
     "execution_count": 9,
     "metadata": {},
     "output_type": "execute_result"
    }
   ],
   "source": [
    "model"
   ]
  },
  {
   "cell_type": "code",
   "execution_count": 10,
   "metadata": {},
   "outputs": [
    {
     "name": "stdout",
     "output_type": "stream",
     "text": [
      "torch.Size([382, 1])\n",
      "torch.Size([382, 1])\n"
     ]
    }
   ],
   "source": [
    "y_pred = model(X_torch.float())\n",
    "#y_torch = y_torch.unsqueeze(1)\n",
    "print(y_torch.shape)\n",
    "print(y_pred.shape)"
   ]
  },
  {
   "cell_type": "code",
   "execution_count": 11,
   "metadata": {},
   "outputs": [
    {
     "name": "stdout",
     "output_type": "stream",
     "text": [
      "epoch:  1  loss:  0.14013861119747162\n",
      "epoch:  101  loss:  0.050157006829977036\n",
      "epoch:  201  loss:  0.03031545877456665\n",
      "epoch:  301  loss:  0.022157352417707443\n",
      "epoch:  401  loss:  0.014629005454480648\n",
      "epoch:  501  loss:  0.010371306911110878\n",
      "epoch:  601  loss:  0.008616790175437927\n",
      "epoch:  701  loss:  0.007804907392710447\n",
      "epoch:  801  loss:  0.007258238736540079\n",
      "epoch:  901  loss:  0.006876250263303518\n"
     ]
    }
   ],
   "source": [
    "# Gradient Descent\n",
    "\n",
    "for epoch in np.arange(0,1000):\n",
    "   # Forward pass: Compute predicted y by passing x to the model\n",
    "   y_pred = model(X_torch.float())\n",
    "\n",
    "   # Compute and print loss\n",
    "   loss = criterion(y_pred, y_torch.float())\n",
    "   #print('epoch: ', epoch+1,' loss: ', loss.item())\n",
    "\n",
    "   # Zero gradients, perform a backward pass, and update the weights.\n",
    "   optimizer.zero_grad()\n",
    "\n",
    "   # perform a backward pass (backpropagation)\n",
    "   loss.backward()\n",
    "\n",
    "   # Update the parameters\n",
    "   optimizer.step()\n",
    "   if epoch % 100 == 0:\n",
    "       print('epoch: ', epoch+1,' loss: ', loss.item())"
   ]
  },
  {
   "cell_type": "code",
   "execution_count": 12,
   "metadata": {},
   "outputs": [
    {
     "data": {
      "text/plain": [
       "array([0.45926726, 0.1443369 , 0.20523548, 0.14433706, 0.1933908 ],\n",
       "      dtype=float32)"
      ]
     },
     "execution_count": 12,
     "metadata": {},
     "output_type": "execute_result"
    }
   ],
   "source": [
    "#model = model.eval()\n",
    "X_torch_test = torch.from_numpy(X_test)\n",
    "y_pred = model(X_torch_test.float())\n",
    "y_pred = y_pred.detach().numpy()\n",
    "y_pred = y_pred.reshape(y_test.shape[0],)\n",
    "y_pred[:5]"
   ]
  },
  {
   "cell_type": "code",
   "execution_count": 13,
   "metadata": {},
   "outputs": [
    {
     "data": {
      "text/plain": [
       "array([[100779.09 ],\n",
       "       [ 48815.586],\n",
       "       [ 58863.855],\n",
       "       [ 48815.617],\n",
       "       [ 56909.48 ]], dtype=float32)"
      ]
     },
     "execution_count": 13,
     "metadata": {},
     "output_type": "execute_result"
    }
   ],
   "source": [
    "y_pred = y_pred.reshape(-1,1)\n",
    "y_pred_orig = scalerY.inverse_transform(y_pred)\n",
    "y_pred_orig[:5]"
   ]
  },
  {
   "cell_type": "code",
   "execution_count": 14,
   "metadata": {},
   "outputs": [
    {
     "data": {
      "text/plain": [
       "231    87000.0\n",
       "155    60000.0\n",
       "424    65500.0\n",
       "268    54000.0\n",
       "19     45000.0\n",
       "Name: price, dtype: float64"
      ]
     },
     "execution_count": 14,
     "metadata": {},
     "output_type": "execute_result"
    }
   ],
   "source": [
    "y_test.iloc[:5]"
   ]
  },
  {
   "cell_type": "markdown",
   "metadata": {},
   "source": [
    "### Test Set R2 Score"
   ]
  },
  {
   "cell_type": "code",
   "execution_count": 15,
   "metadata": {},
   "outputs": [
    {
     "name": "stdout",
     "output_type": "stream",
     "text": [
      "0.5625960372869746\n"
     ]
    }
   ],
   "source": [
    "print(r2_score(y_test,y_pred_orig))"
   ]
  },
  {
   "cell_type": "markdown",
   "metadata": {},
   "source": [
    "### Test Set MSE"
   ]
  },
  {
   "cell_type": "code",
   "execution_count": 16,
   "metadata": {},
   "outputs": [
    {
     "data": {
      "text/plain": [
       "282051566.03874516"
      ]
     },
     "execution_count": 16,
     "metadata": {},
     "output_type": "execute_result"
    }
   ],
   "source": [
    "mse(y_test,y_pred_orig)"
   ]
  },
  {
   "cell_type": "code",
   "execution_count": null,
   "metadata": {},
   "outputs": [],
   "source": []
  },
  {
   "cell_type": "code",
   "execution_count": null,
   "metadata": {},
   "outputs": [],
   "source": []
  }
 ],
 "metadata": {
  "kernelspec": {
   "display_name": "Python 3 (ipykernel)",
   "language": "python",
   "name": "python3"
  },
  "language_info": {
   "codemirror_mode": {
    "name": "ipython",
    "version": 3
   },
   "file_extension": ".py",
   "mimetype": "text/x-python",
   "name": "python",
   "nbconvert_exporter": "python",
   "pygments_lexer": "ipython3",
   "version": "3.11.5"
  }
 },
 "nbformat": 4,
 "nbformat_minor": 4
}
