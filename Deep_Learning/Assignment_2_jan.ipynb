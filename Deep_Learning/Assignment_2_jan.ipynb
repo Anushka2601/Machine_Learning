{
 "cells": [
  {
   "cell_type": "markdown",
   "id": "055eb78a-ecbf-47d9-be18-c44d55ba6903",
   "metadata": {},
   "source": [
    "Consider the dataset in Cases/Bankruptcy. Y=D, X:R1,,,R24 Run the MLP with PyTorch Code with Layers as ( 24,  15,  10, 5, 1)   and  ( 24, 13, 7, 1)"
   ]
  },
  {
   "cell_type": "code",
   "execution_count": 50,
   "id": "f145a1d8-c80a-44c1-99a3-77118c1f1d9d",
   "metadata": {},
   "outputs": [],
   "source": [
    "import torch\n",
    "import pandas as pd\n",
    "import numpy as np\n",
    "import torch.nn as nn\n",
    "from sklearn.model_selection import train_test_split \n",
    "from sklearn.metrics import accuracy_score, log_loss,r2_score\n",
    "from sklearn.preprocessing import MinMaxScaler"
   ]
  },
  {
   "cell_type": "code",
   "execution_count": 2,
   "id": "4773fb26-5cb4-4c53-b8b8-ad33db87e5db",
   "metadata": {},
   "outputs": [],
   "source": [
    "bank=pd.read_csv(\"Bankruptcy.csv\",index_col=0)"
   ]
  },
  {
   "cell_type": "code",
   "execution_count": 3,
   "id": "c1827d24-7cf9-4a58-95f2-7e01fbeda8f5",
   "metadata": {},
   "outputs": [
    {
     "data": {
      "text/html": [
       "<div>\n",
       "<style scoped>\n",
       "    .dataframe tbody tr th:only-of-type {\n",
       "        vertical-align: middle;\n",
       "    }\n",
       "\n",
       "    .dataframe tbody tr th {\n",
       "        vertical-align: top;\n",
       "    }\n",
       "\n",
       "    .dataframe thead th {\n",
       "        text-align: right;\n",
       "    }\n",
       "</style>\n",
       "<table border=\"1\" class=\"dataframe\">\n",
       "  <thead>\n",
       "    <tr style=\"text-align: right;\">\n",
       "      <th></th>\n",
       "      <th>D</th>\n",
       "      <th>YR</th>\n",
       "      <th>R1</th>\n",
       "      <th>R2</th>\n",
       "      <th>R3</th>\n",
       "      <th>R4</th>\n",
       "      <th>R5</th>\n",
       "      <th>R6</th>\n",
       "      <th>R7</th>\n",
       "      <th>R8</th>\n",
       "      <th>...</th>\n",
       "      <th>R15</th>\n",
       "      <th>R16</th>\n",
       "      <th>R17</th>\n",
       "      <th>R18</th>\n",
       "      <th>R19</th>\n",
       "      <th>R20</th>\n",
       "      <th>R21</th>\n",
       "      <th>R22</th>\n",
       "      <th>R23</th>\n",
       "      <th>R24</th>\n",
       "    </tr>\n",
       "    <tr>\n",
       "      <th>NO</th>\n",
       "      <th></th>\n",
       "      <th></th>\n",
       "      <th></th>\n",
       "      <th></th>\n",
       "      <th></th>\n",
       "      <th></th>\n",
       "      <th></th>\n",
       "      <th></th>\n",
       "      <th></th>\n",
       "      <th></th>\n",
       "      <th></th>\n",
       "      <th></th>\n",
       "      <th></th>\n",
       "      <th></th>\n",
       "      <th></th>\n",
       "      <th></th>\n",
       "      <th></th>\n",
       "      <th></th>\n",
       "      <th></th>\n",
       "      <th></th>\n",
       "      <th></th>\n",
       "    </tr>\n",
       "  </thead>\n",
       "  <tbody>\n",
       "    <tr>\n",
       "      <th>1</th>\n",
       "      <td>0</td>\n",
       "      <td>78</td>\n",
       "      <td>0.23</td>\n",
       "      <td>0.08</td>\n",
       "      <td>0.02</td>\n",
       "      <td>0.03</td>\n",
       "      <td>0.46</td>\n",
       "      <td>0.12</td>\n",
       "      <td>0.19</td>\n",
       "      <td>10.36</td>\n",
       "      <td>...</td>\n",
       "      <td>0.05</td>\n",
       "      <td>0.57</td>\n",
       "      <td>0.15</td>\n",
       "      <td>0.23</td>\n",
       "      <td>3.56</td>\n",
       "      <td>0.26</td>\n",
       "      <td>1.55</td>\n",
       "      <td>0.43</td>\n",
       "      <td>0.11</td>\n",
       "      <td>0.17</td>\n",
       "    </tr>\n",
       "    <tr>\n",
       "      <th>2</th>\n",
       "      <td>0</td>\n",
       "      <td>77</td>\n",
       "      <td>0.19</td>\n",
       "      <td>0.07</td>\n",
       "      <td>0.09</td>\n",
       "      <td>0.12</td>\n",
       "      <td>0.02</td>\n",
       "      <td>0.02</td>\n",
       "      <td>0.03</td>\n",
       "      <td>3.13</td>\n",
       "      <td>...</td>\n",
       "      <td>0.09</td>\n",
       "      <td>0.12</td>\n",
       "      <td>0.16</td>\n",
       "      <td>0.22</td>\n",
       "      <td>3.78</td>\n",
       "      <td>1.29</td>\n",
       "      <td>1.40</td>\n",
       "      <td>0.06</td>\n",
       "      <td>0.07</td>\n",
       "      <td>0.10</td>\n",
       "    </tr>\n",
       "    <tr>\n",
       "      <th>3</th>\n",
       "      <td>0</td>\n",
       "      <td>72</td>\n",
       "      <td>0.07</td>\n",
       "      <td>0.02</td>\n",
       "      <td>0.03</td>\n",
       "      <td>0.05</td>\n",
       "      <td>0.06</td>\n",
       "      <td>0.10</td>\n",
       "      <td>0.14</td>\n",
       "      <td>2.41</td>\n",
       "      <td>...</td>\n",
       "      <td>-0.03</td>\n",
       "      <td>0.02</td>\n",
       "      <td>0.02</td>\n",
       "      <td>0.04</td>\n",
       "      <td>13.29</td>\n",
       "      <td>1.61</td>\n",
       "      <td>1.43</td>\n",
       "      <td>0.03</td>\n",
       "      <td>0.05</td>\n",
       "      <td>0.07</td>\n",
       "    </tr>\n",
       "    <tr>\n",
       "      <th>4</th>\n",
       "      <td>0</td>\n",
       "      <td>80</td>\n",
       "      <td>0.07</td>\n",
       "      <td>0.03</td>\n",
       "      <td>0.04</td>\n",
       "      <td>0.04</td>\n",
       "      <td>0.04</td>\n",
       "      <td>0.06</td>\n",
       "      <td>0.06</td>\n",
       "      <td>5.55</td>\n",
       "      <td>...</td>\n",
       "      <td>-0.02</td>\n",
       "      <td>0.01</td>\n",
       "      <td>0.02</td>\n",
       "      <td>0.02</td>\n",
       "      <td>5.36</td>\n",
       "      <td>1.30</td>\n",
       "      <td>1.12</td>\n",
       "      <td>-0.06</td>\n",
       "      <td>-0.08</td>\n",
       "      <td>-0.09</td>\n",
       "    </tr>\n",
       "    <tr>\n",
       "      <th>5</th>\n",
       "      <td>0</td>\n",
       "      <td>81</td>\n",
       "      <td>0.09</td>\n",
       "      <td>0.02</td>\n",
       "      <td>0.03</td>\n",
       "      <td>0.04</td>\n",
       "      <td>0.06</td>\n",
       "      <td>0.08</td>\n",
       "      <td>0.11</td>\n",
       "      <td>2.85</td>\n",
       "      <td>...</td>\n",
       "      <td>0.02</td>\n",
       "      <td>0.07</td>\n",
       "      <td>0.10</td>\n",
       "      <td>0.14</td>\n",
       "      <td>7.74</td>\n",
       "      <td>1.48</td>\n",
       "      <td>1.41</td>\n",
       "      <td>0.03</td>\n",
       "      <td>0.04</td>\n",
       "      <td>0.06</td>\n",
       "    </tr>\n",
       "    <tr>\n",
       "      <th>...</th>\n",
       "      <td>...</td>\n",
       "      <td>...</td>\n",
       "      <td>...</td>\n",
       "      <td>...</td>\n",
       "      <td>...</td>\n",
       "      <td>...</td>\n",
       "      <td>...</td>\n",
       "      <td>...</td>\n",
       "      <td>...</td>\n",
       "      <td>...</td>\n",
       "      <td>...</td>\n",
       "      <td>...</td>\n",
       "      <td>...</td>\n",
       "      <td>...</td>\n",
       "      <td>...</td>\n",
       "      <td>...</td>\n",
       "      <td>...</td>\n",
       "      <td>...</td>\n",
       "      <td>...</td>\n",
       "      <td>...</td>\n",
       "      <td>...</td>\n",
       "    </tr>\n",
       "    <tr>\n",
       "      <th>128</th>\n",
       "      <td>1</td>\n",
       "      <td>77</td>\n",
       "      <td>0.27</td>\n",
       "      <td>0.03</td>\n",
       "      <td>0.07</td>\n",
       "      <td>0.10</td>\n",
       "      <td>0.09</td>\n",
       "      <td>0.18</td>\n",
       "      <td>0.26</td>\n",
       "      <td>7.58</td>\n",
       "      <td>...</td>\n",
       "      <td>0.11</td>\n",
       "      <td>0.06</td>\n",
       "      <td>0.12</td>\n",
       "      <td>0.17</td>\n",
       "      <td>7.56</td>\n",
       "      <td>2.07</td>\n",
       "      <td>1.45</td>\n",
       "      <td>0.06</td>\n",
       "      <td>0.13</td>\n",
       "      <td>0.19</td>\n",
       "    </tr>\n",
       "    <tr>\n",
       "      <th>129</th>\n",
       "      <td>1</td>\n",
       "      <td>77</td>\n",
       "      <td>0.32</td>\n",
       "      <td>0.03</td>\n",
       "      <td>0.03</td>\n",
       "      <td>0.09</td>\n",
       "      <td>0.05</td>\n",
       "      <td>0.06</td>\n",
       "      <td>0.16</td>\n",
       "      <td>3.24</td>\n",
       "      <td>...</td>\n",
       "      <td>0.17</td>\n",
       "      <td>0.07</td>\n",
       "      <td>0.09</td>\n",
       "      <td>0.26</td>\n",
       "      <td>5.99</td>\n",
       "      <td>1.27</td>\n",
       "      <td>2.74</td>\n",
       "      <td>0.06</td>\n",
       "      <td>0.08</td>\n",
       "      <td>0.21</td>\n",
       "    </tr>\n",
       "    <tr>\n",
       "      <th>130</th>\n",
       "      <td>1</td>\n",
       "      <td>78</td>\n",
       "      <td>0.08</td>\n",
       "      <td>0.01</td>\n",
       "      <td>0.02</td>\n",
       "      <td>0.05</td>\n",
       "      <td>0.04</td>\n",
       "      <td>0.07</td>\n",
       "      <td>0.15</td>\n",
       "      <td>3.82</td>\n",
       "      <td>...</td>\n",
       "      <td>0.19</td>\n",
       "      <td>0.07</td>\n",
       "      <td>0.12</td>\n",
       "      <td>0.26</td>\n",
       "      <td>7.14</td>\n",
       "      <td>1.89</td>\n",
       "      <td>2.10</td>\n",
       "      <td>0.07</td>\n",
       "      <td>0.12</td>\n",
       "      <td>0.26</td>\n",
       "    </tr>\n",
       "    <tr>\n",
       "      <th>131</th>\n",
       "      <td>1</td>\n",
       "      <td>78</td>\n",
       "      <td>0.14</td>\n",
       "      <td>0.01</td>\n",
       "      <td>0.05</td>\n",
       "      <td>0.07</td>\n",
       "      <td>0.02</td>\n",
       "      <td>0.09</td>\n",
       "      <td>0.14</td>\n",
       "      <td>8.18</td>\n",
       "      <td>...</td>\n",
       "      <td>0.07</td>\n",
       "      <td>0.02</td>\n",
       "      <td>0.10</td>\n",
       "      <td>0.15</td>\n",
       "      <td>170.96</td>\n",
       "      <td>4.55</td>\n",
       "      <td>1.45</td>\n",
       "      <td>0.02</td>\n",
       "      <td>0.10</td>\n",
       "      <td>0.14</td>\n",
       "    </tr>\n",
       "    <tr>\n",
       "      <th>132</th>\n",
       "      <td>1</td>\n",
       "      <td>78</td>\n",
       "      <td>0.26</td>\n",
       "      <td>0.07</td>\n",
       "      <td>0.12</td>\n",
       "      <td>0.17</td>\n",
       "      <td>0.00</td>\n",
       "      <td>0.01</td>\n",
       "      <td>0.01</td>\n",
       "      <td>6.13</td>\n",
       "      <td>...</td>\n",
       "      <td>0.05</td>\n",
       "      <td>0.04</td>\n",
       "      <td>0.07</td>\n",
       "      <td>0.10</td>\n",
       "      <td>5.44</td>\n",
       "      <td>1.84</td>\n",
       "      <td>1.40</td>\n",
       "      <td>0.05</td>\n",
       "      <td>0.08</td>\n",
       "      <td>0.12</td>\n",
       "    </tr>\n",
       "  </tbody>\n",
       "</table>\n",
       "<p>132 rows × 26 columns</p>\n",
       "</div>"
      ],
      "text/plain": [
       "     D  YR    R1    R2    R3    R4    R5    R6    R7     R8  ...   R15   R16  \\\n",
       "NO                                                           ...               \n",
       "1    0  78  0.23  0.08  0.02  0.03  0.46  0.12  0.19  10.36  ...  0.05  0.57   \n",
       "2    0  77  0.19  0.07  0.09  0.12  0.02  0.02  0.03   3.13  ...  0.09  0.12   \n",
       "3    0  72  0.07  0.02  0.03  0.05  0.06  0.10  0.14   2.41  ... -0.03  0.02   \n",
       "4    0  80  0.07  0.03  0.04  0.04  0.04  0.06  0.06   5.55  ... -0.02  0.01   \n",
       "5    0  81  0.09  0.02  0.03  0.04  0.06  0.08  0.11   2.85  ...  0.02  0.07   \n",
       "..  ..  ..   ...   ...   ...   ...   ...   ...   ...    ...  ...   ...   ...   \n",
       "128  1  77  0.27  0.03  0.07  0.10  0.09  0.18  0.26   7.58  ...  0.11  0.06   \n",
       "129  1  77  0.32  0.03  0.03  0.09  0.05  0.06  0.16   3.24  ...  0.17  0.07   \n",
       "130  1  78  0.08  0.01  0.02  0.05  0.04  0.07  0.15   3.82  ...  0.19  0.07   \n",
       "131  1  78  0.14  0.01  0.05  0.07  0.02  0.09  0.14   8.18  ...  0.07  0.02   \n",
       "132  1  78  0.26  0.07  0.12  0.17  0.00  0.01  0.01   6.13  ...  0.05  0.04   \n",
       "\n",
       "      R17   R18     R19   R20   R21   R22   R23   R24  \n",
       "NO                                                     \n",
       "1    0.15  0.23    3.56  0.26  1.55  0.43  0.11  0.17  \n",
       "2    0.16  0.22    3.78  1.29  1.40  0.06  0.07  0.10  \n",
       "3    0.02  0.04   13.29  1.61  1.43  0.03  0.05  0.07  \n",
       "4    0.02  0.02    5.36  1.30  1.12 -0.06 -0.08 -0.09  \n",
       "5    0.10  0.14    7.74  1.48  1.41  0.03  0.04  0.06  \n",
       "..    ...   ...     ...   ...   ...   ...   ...   ...  \n",
       "128  0.12  0.17    7.56  2.07  1.45  0.06  0.13  0.19  \n",
       "129  0.09  0.26    5.99  1.27  2.74  0.06  0.08  0.21  \n",
       "130  0.12  0.26    7.14  1.89  2.10  0.07  0.12  0.26  \n",
       "131  0.10  0.15  170.96  4.55  1.45  0.02  0.10  0.14  \n",
       "132  0.07  0.10    5.44  1.84  1.40  0.05  0.08  0.12  \n",
       "\n",
       "[132 rows x 26 columns]"
      ]
     },
     "execution_count": 3,
     "metadata": {},
     "output_type": "execute_result"
    }
   ],
   "source": [
    "bank"
   ]
  },
  {
   "cell_type": "code",
   "execution_count": 4,
   "id": "f09b255d-2c89-45f2-a0af-77ade5f5df73",
   "metadata": {},
   "outputs": [],
   "source": [
    "X=bank.drop(['D','YR'],axis=1)\t"
   ]
  },
  {
   "cell_type": "code",
   "execution_count": 5,
   "id": "18c5ff54-3bfd-4228-9f74-aad7b616c693",
   "metadata": {},
   "outputs": [
    {
     "data": {
      "text/plain": [
       "(132, 24)"
      ]
     },
     "execution_count": 5,
     "metadata": {},
     "output_type": "execute_result"
    }
   ],
   "source": [
    "X.shape"
   ]
  },
  {
   "cell_type": "code",
   "execution_count": 6,
   "id": "a030fdcf-bbe8-4c87-a220-89e68f227b57",
   "metadata": {},
   "outputs": [],
   "source": [
    "y=bank['D'].values"
   ]
  },
  {
   "cell_type": "code",
   "execution_count": 7,
   "id": "30e8ce56-1e1c-48ed-be62-31ff6296db31",
   "metadata": {},
   "outputs": [],
   "source": [
    "\n",
    "scaler = MinMaxScaler()\n",
    "X_train, X_test, y_train, y_test = train_test_split(X, y, test_size = 0.3, \n",
    "                                                    random_state=23,stratify=y)\n",
    "X_scl_trn = scaler.fit_transform(X_train) \n",
    "X_scl_tst = scaler.transform(X_test) "
   ]
  },
  {
   "cell_type": "code",
   "execution_count": 8,
   "id": "1a52811a-1f19-4547-a1b5-296708cc7822",
   "metadata": {},
   "outputs": [
    {
     "name": "stdout",
     "output_type": "stream",
     "text": [
      "torch.Size([92, 24])\n",
      "torch.Size([92])\n"
     ]
    }
   ],
   "source": [
    "X_torch = torch.from_numpy(X_scl_trn)\n",
    "y_torch = torch.from_numpy(y_train)\n",
    "print(X_torch.size())\n",
    "print(y_torch.size())"
   ]
  },
  {
   "cell_type": "code",
   "execution_count": 9,
   "id": "ed027665-16fd-446d-901d-c960e03a6414",
   "metadata": {},
   "outputs": [
    {
     "data": {
      "text/plain": [
       "torch.Tensor"
      ]
     },
     "execution_count": 9,
     "metadata": {},
     "output_type": "execute_result"
    }
   ],
   "source": [
    "type(X_torch)"
   ]
  },
  {
   "cell_type": "code",
   "execution_count": 10,
   "id": "1da2dfe7-f2a2-47f0-b222-81cf6e526976",
   "metadata": {},
   "outputs": [
    {
     "data": {
      "text/plain": [
       "24"
      ]
     },
     "execution_count": 10,
     "metadata": {},
     "output_type": "execute_result"
    }
   ],
   "source": [
    "X_scl_trn.shape[1]"
   ]
  },
  {
   "cell_type": "code",
   "execution_count": 11,
   "id": "3d24ebcf-c242-43d8-a22c-f2776f406e02",
   "metadata": {},
   "outputs": [],
   "source": [
    "#torch.manual_seed(23)\n",
    "# Create a model\n",
    "#model = nn.Sequential(nn.Linear(in_features=X_scl_trn.shape[1], out_features=24),\n",
    " #                    nn.Linear(24, 15 ),\n",
    "  #                    nn.ReLU(),\n",
    "   #                   nn.Linear(15, 10),\n",
    "    #                  nn.ReLU(),\n",
    "     #                 nn.Linear(10,5),\n",
    "      #                nn.ReLU(),\n",
    "       #               nn.Linear(5,1),\n",
    "        #              nn.Sigmoid())"
   ]
  },
  {
   "cell_type": "code",
   "execution_count": 12,
   "id": "acc18ceb-76d2-4304-b9b3-f4c7291d8fc7",
   "metadata": {},
   "outputs": [],
   "source": [
    "#model.parameters"
   ]
  },
  {
   "cell_type": "code",
   "execution_count": 13,
   "id": "52ce5490-078d-4f72-812e-0aeb73210731",
   "metadata": {},
   "outputs": [],
   "source": [
    "#criterion = torch.nn.BCELoss()\n",
    "#optimizer = torch.optim.SGD(model.parameters(), lr = 0.001)\n",
    "#optimizer"
   ]
  },
  {
   "cell_type": "code",
   "execution_count": 14,
   "id": "26cbf622-375d-4536-ab6c-b3c1adb92dcc",
   "metadata": {},
   "outputs": [],
   "source": [
    "#y_torch.size()"
   ]
  },
  {
   "cell_type": "code",
   "execution_count": 15,
   "id": "6a90a6b8-e9a6-45d3-a7d5-18a027585378",
   "metadata": {},
   "outputs": [],
   "source": [
    "#y_pred = model(X_torch.float())\n",
    "#y_torch = y_torch.unsqueeze(1)\n",
    "#print(y_torch.shape)\n",
    "#print(y_pred.shape)"
   ]
  },
  {
   "cell_type": "code",
   "execution_count": 16,
   "id": "aa6f4c30-76ff-4256-b4cc-c05831b0963c",
   "metadata": {},
   "outputs": [],
   "source": [
    "#y_pred[:5]"
   ]
  },
  {
   "cell_type": "code",
   "execution_count": 17,
   "id": "41db49c8-d91c-4a7f-9dc0-1709f4c9af87",
   "metadata": {},
   "outputs": [],
   "source": [
    "#loss = criterion(y_pred, y_torch.float())\n",
    "#loss"
   ]
  },
  {
   "cell_type": "code",
   "execution_count": 18,
   "id": "4d1f42f2-2331-4243-8e5e-12707b77da41",
   "metadata": {},
   "outputs": [],
   "source": [
    "#for epoch in np.arange(0,1000):\n",
    "       # Forward pass: Compute predicted y by passing x to the model\n",
    " #      y_pred_prob = model(X_torch.float())\n",
    "\n",
    "       # Compute and print loss\n",
    "#     loss = criterion(y_pred_prob, y_torch.float())\n",
    " #      if epoch%100 == 0:\n",
    "  #        print('epoch: ', epoch+1,' loss: ', loss.item())\n",
    "\n",
    "       # Zero gradients, perform a backward pass, and update the weights.\n",
    "   #    optimizer.zero_grad()\n",
    "\n",
    "       # perform a backward pass (backpropagation)\n",
    "    #   loss.backward()\n",
    "\n",
    "       # Update the parameters\n",
    "     #  optimizer.step()\n",
    "#print('epoch: ', epoch+1,' loss: ', loss.item())"
   ]
  },
  {
   "cell_type": "raw",
   "id": "c2b8ff9c-4ca8-4fc4-84c7-aded4052b5a5",
   "metadata": {},
   "source": [
    "Training set log loss"
   ]
  },
  {
   "cell_type": "code",
   "execution_count": 19,
   "id": "cab17f17-5300-4ac1-bcb1-671dcac3bbe1",
   "metadata": {},
   "outputs": [],
   "source": [
    "#loss"
   ]
  },
  {
   "cell_type": "code",
   "execution_count": 20,
   "id": "58ba6a9c-6e4c-4a44-b3a5-317adc348fcc",
   "metadata": {},
   "outputs": [],
   "source": [
    "#X_torch_test = torch.from_numpy(X_scl_tst)\n",
    "#type(X_torch_test)"
   ]
  },
  {
   "cell_type": "code",
   "execution_count": 21,
   "id": "040c4dde-e34b-4e49-9517-c71ce82791f7",
   "metadata": {},
   "outputs": [],
   "source": [
    "#y_pred_prob = model(X_torch_test.float()) # Equivalent predict_proba / predict\n",
    "#type(y_pred_prob)"
   ]
  },
  {
   "cell_type": "code",
   "execution_count": 22,
   "id": "db7c1375-2f3e-44eb-b8d9-6c533016528b",
   "metadata": {},
   "outputs": [],
   "source": [
    "#y_pred_prob"
   ]
  },
  {
   "cell_type": "code",
   "execution_count": 23,
   "id": "46a7d86d-1844-4a79-945c-1098d574dfaf",
   "metadata": {},
   "outputs": [],
   "source": [
    "#y_pred_prob = nn.Sigmoid()(y_pred_prob)\n",
    "#y_pred_prob"
   ]
  },
  {
   "cell_type": "code",
   "execution_count": 24,
   "id": "8476ff2b-ceed-43f2-bcd8-e27be9636ef3",
   "metadata": {},
   "outputs": [],
   "source": [
    "#y_pred_prob = y_pred_prob.detach().numpy()\n",
    "#type(y_pred_prob)"
   ]
  },
  {
   "cell_type": "code",
   "execution_count": 25,
   "id": "486686e4-d9d1-4b72-a3a8-c890b6755119",
   "metadata": {},
   "outputs": [],
   "source": [
    "#y_pred = np.where(y_pred_prob >= 0.5,1,0)\n",
    "\n",
    "#y_pred[:5]"
   ]
  },
  {
   "cell_type": "code",
   "execution_count": 26,
   "id": "a2b83fb3-2769-4745-ad11-a8ed63957bd4",
   "metadata": {},
   "outputs": [],
   "source": [
    "#print(accuracy_score(y_test,y_pred))"
   ]
  },
  {
   "cell_type": "code",
   "execution_count": 27,
   "id": "c427fc05-dd81-411b-9a50-c59172dcf182",
   "metadata": {},
   "outputs": [],
   "source": [
    "#log_loss(y_test, y_pred_prob)"
   ]
  },
  {
   "cell_type": "markdown",
   "id": "3ee171f0-ebf2-444d-b69a-9fb52d33e705",
   "metadata": {},
   "source": [
    "0.7129465202106335 & accuracy_score=0.5"
   ]
  },
  {
   "cell_type": "code",
   "execution_count": 28,
   "id": "a71ce136-a995-4f2a-a5f2-b111e332874f",
   "metadata": {},
   "outputs": [],
   "source": [
    "torch.manual_seed(23)\n",
    "# Create a model\n",
    "model = nn.Sequential(nn.Linear(in_features=X_scl_trn.shape[1], out_features=24),\n",
    "                      nn.ReLU(),\n",
    "                      nn.Linear(24,13),\n",
    "                      nn.ReLU(),\n",
    "                      nn.Linear(13, 7),\n",
    "                      nn.ReLU(),\n",
    "                      nn.Linear(7,1),\n",
    "    \n",
    "                      nn.Sigmoid())"
   ]
  },
  {
   "cell_type": "code",
   "execution_count": 29,
   "id": "1612898d-1629-43af-b381-ff80ff4e5da1",
   "metadata": {},
   "outputs": [
    {
     "data": {
      "text/plain": [
       "SGD (\n",
       "Parameter Group 0\n",
       "    dampening: 0\n",
       "    differentiable: False\n",
       "    foreach: None\n",
       "    lr: 0.001\n",
       "    maximize: False\n",
       "    momentum: 0\n",
       "    nesterov: False\n",
       "    weight_decay: 0\n",
       ")"
      ]
     },
     "execution_count": 29,
     "metadata": {},
     "output_type": "execute_result"
    }
   ],
   "source": [
    "criterion = torch.nn.BCELoss()\n",
    "optimizer = torch.optim.SGD(model.parameters(), lr = 0.001)\n",
    "optimizer"
   ]
  },
  {
   "cell_type": "code",
   "execution_count": 30,
   "id": "c6a103c6-d4a1-402d-9e1b-512b863e7e03",
   "metadata": {},
   "outputs": [
    {
     "name": "stdout",
     "output_type": "stream",
     "text": [
      "torch.Size([92, 1])\n",
      "torch.Size([92, 1])\n"
     ]
    }
   ],
   "source": [
    "y_pred = model(X_torch.float())\n",
    "y_torch = y_torch.unsqueeze(1)\n",
    "print(y_torch.shape)\n",
    "print(y_pred.shape)"
   ]
  },
  {
   "cell_type": "code",
   "execution_count": 31,
   "id": "ec2589c2-ea72-4528-8232-2894917800ba",
   "metadata": {},
   "outputs": [
    {
     "data": {
      "text/plain": [
       "tensor(0.6986, grad_fn=<BinaryCrossEntropyBackward0>)"
      ]
     },
     "execution_count": 31,
     "metadata": {},
     "output_type": "execute_result"
    }
   ],
   "source": [
    "loss = criterion(y_pred, y_torch.float())\n",
    "loss"
   ]
  },
  {
   "cell_type": "code",
   "execution_count": 32,
   "id": "b9ffa5d3-3b27-4b2d-a6ad-d41119d0fa7c",
   "metadata": {},
   "outputs": [
    {
     "name": "stdout",
     "output_type": "stream",
     "text": [
      "epoch:  1  loss:  0.6985804438591003\n",
      "epoch:  101  loss:  0.6981284022331238\n",
      "epoch:  201  loss:  0.6977104544639587\n",
      "epoch:  301  loss:  0.6973186731338501\n",
      "epoch:  401  loss:  0.6969509720802307\n",
      "epoch:  501  loss:  0.6966062784194946\n",
      "epoch:  601  loss:  0.6962832808494568\n",
      "epoch:  701  loss:  0.6959800720214844\n",
      "epoch:  801  loss:  0.6956954598426819\n",
      "epoch:  901  loss:  0.6954275965690613\n"
     ]
    }
   ],
   "source": [
    "for epoch in np.arange(0,1000):\n",
    "       # Forward pass: Compute predicted y by passing x to the model\n",
    "       y_pred_prob = model(X_torch.float())\n",
    "\n",
    "       # Compute and print loss\n",
    "       loss = criterion(y_pred_prob, y_torch.float())\n",
    "       if epoch%100 == 0:\n",
    "          print('epoch: ', epoch+1,' loss: ', loss.item())\n",
    "\n",
    "       # Zero gradients, perform a backward pass, and update the weights.\n",
    "       optimizer.zero_grad()\n",
    "\n",
    "       # perform a backward pass (backpropagation)\n",
    "       loss.backward()\n",
    "\n",
    "       # Update the parameters\n",
    "       optimizer.step()\n",
    "#print('epoch: ', epoch+1,' loss: ', loss.item())"
   ]
  },
  {
   "cell_type": "code",
   "execution_count": 33,
   "id": "9be3053f-4a0b-49e9-a1fe-553324ca4097",
   "metadata": {},
   "outputs": [
    {
     "data": {
      "text/plain": [
       "torch.Tensor"
      ]
     },
     "execution_count": 33,
     "metadata": {},
     "output_type": "execute_result"
    }
   ],
   "source": [
    "X_torch_test = torch.from_numpy(X_scl_tst)\n",
    "type(X_torch_test)"
   ]
  },
  {
   "cell_type": "code",
   "execution_count": 34,
   "id": "214be423-4aac-43ab-a5fd-6064303f6058",
   "metadata": {},
   "outputs": [
    {
     "data": {
      "text/plain": [
       "torch.Tensor"
      ]
     },
     "execution_count": 34,
     "metadata": {},
     "output_type": "execute_result"
    }
   ],
   "source": [
    "y_pred_prob = model(X_torch_test.float()) # Equivalent predict_proba / predict\n",
    "type(y_pred_prob)"
   ]
  },
  {
   "cell_type": "code",
   "execution_count": 35,
   "id": "9c9f3549-8557-4748-b06f-4326ff988f45",
   "metadata": {},
   "outputs": [
    {
     "data": {
      "text/plain": [
       "tensor([[0.6134],\n",
       "        [0.6137],\n",
       "        [0.6136],\n",
       "        [0.6137],\n",
       "        [0.6136],\n",
       "        [0.6139],\n",
       "        [0.6135],\n",
       "        [0.6135],\n",
       "        [0.6135],\n",
       "        [0.6138],\n",
       "        [0.6139],\n",
       "        [0.6139],\n",
       "        [0.6138],\n",
       "        [0.6137],\n",
       "        [0.6138],\n",
       "        [0.6135],\n",
       "        [0.6137],\n",
       "        [0.6138],\n",
       "        [0.6136],\n",
       "        [0.6137],\n",
       "        [0.6134],\n",
       "        [0.6135],\n",
       "        [0.6139],\n",
       "        [0.6137],\n",
       "        [0.6137],\n",
       "        [0.6140],\n",
       "        [0.6137],\n",
       "        [0.6137],\n",
       "        [0.6138],\n",
       "        [0.6137],\n",
       "        [0.6135],\n",
       "        [0.6136],\n",
       "        [0.6135],\n",
       "        [0.6139],\n",
       "        [0.6135],\n",
       "        [0.6134],\n",
       "        [0.6135],\n",
       "        [0.6137],\n",
       "        [0.6139],\n",
       "        [0.6137]], grad_fn=<SigmoidBackward0>)"
      ]
     },
     "execution_count": 35,
     "metadata": {},
     "output_type": "execute_result"
    }
   ],
   "source": [
    "y_pred_prob = nn.Sigmoid()(y_pred_prob)\n",
    "y_pred_prob"
   ]
  },
  {
   "cell_type": "code",
   "execution_count": 36,
   "id": "03ed0461-6f18-44f2-9e12-777089a2b15c",
   "metadata": {},
   "outputs": [
    {
     "data": {
      "text/plain": [
       "numpy.ndarray"
      ]
     },
     "execution_count": 36,
     "metadata": {},
     "output_type": "execute_result"
    }
   ],
   "source": [
    "y_pred_prob = y_pred_prob.detach().numpy()\n",
    "type(y_pred_prob)"
   ]
  },
  {
   "cell_type": "code",
   "execution_count": 37,
   "id": "ce3aaa0d-c6cb-4118-ade4-19b006020a12",
   "metadata": {},
   "outputs": [
    {
     "data": {
      "text/plain": [
       "array([[1],\n",
       "       [1],\n",
       "       [1],\n",
       "       [1],\n",
       "       [1]])"
      ]
     },
     "execution_count": 37,
     "metadata": {},
     "output_type": "execute_result"
    }
   ],
   "source": [
    "y_pred = np.where(y_pred_prob >= 0.5,1,0)\n",
    "\n",
    "y_pred[:5]"
   ]
  },
  {
   "cell_type": "code",
   "execution_count": 38,
   "id": "ef6b9a43-2cc1-4a1e-a739-f6eadba24695",
   "metadata": {},
   "outputs": [
    {
     "name": "stdout",
     "output_type": "stream",
     "text": [
      "0.5\n"
     ]
    }
   ],
   "source": [
    "print(accuracy_score(y_test,y_pred))"
   ]
  },
  {
   "cell_type": "code",
   "execution_count": 39,
   "id": "59fcd105-8d12-4ae7-a02a-955919d1dc69",
   "metadata": {},
   "outputs": [
    {
     "data": {
      "text/plain": [
       "0.7196042529753102"
      ]
     },
     "execution_count": 39,
     "metadata": {},
     "output_type": "execute_result"
    }
   ],
   "source": [
    "log_loss(y_test, y_pred_prob)"
   ]
  },
  {
   "cell_type": "markdown",
   "id": "83fa3279-d467-4e43-b1b5-c3e3338b4ec7",
   "metadata": {},
   "source": [
    "accuracy_score(y_test,y_pred)-0.5<br>\n",
    "log_loss(y_test, y_pred_prob)-0.7196042529753102"
   ]
  },
  {
   "cell_type": "markdown",
   "id": "00f505f2-cd66-4009-9f54-5cc0a2db7667",
   "metadata": {},
   "source": [
    "Consider the dataset  in Cases/Concrete Strength Y=Strength. Run the MLP with PyTorch Code with Layers as ( features, 5,3,2 , 1)   and  ( features, 10, 5, 1)"
   ]
  },
  {
   "cell_type": "code",
   "execution_count": 60,
   "id": "ebf599ce-c490-4022-b8a1-24b85f3e916b",
   "metadata": {},
   "outputs": [],
   "source": [
    "con=pd.read_csv(\"Concrete_Data.csv\")"
   ]
  },
  {
   "cell_type": "code",
   "execution_count": 61,
   "id": "da3b9c01-427e-4589-9b42-d8f10d1cf463",
   "metadata": {},
   "outputs": [
    {
     "data": {
      "text/html": [
       "<div>\n",
       "<style scoped>\n",
       "    .dataframe tbody tr th:only-of-type {\n",
       "        vertical-align: middle;\n",
       "    }\n",
       "\n",
       "    .dataframe tbody tr th {\n",
       "        vertical-align: top;\n",
       "    }\n",
       "\n",
       "    .dataframe thead th {\n",
       "        text-align: right;\n",
       "    }\n",
       "</style>\n",
       "<table border=\"1\" class=\"dataframe\">\n",
       "  <thead>\n",
       "    <tr style=\"text-align: right;\">\n",
       "      <th></th>\n",
       "      <th>Cement</th>\n",
       "      <th>Blast</th>\n",
       "      <th>Fly</th>\n",
       "      <th>Water</th>\n",
       "      <th>Superplasticizer</th>\n",
       "      <th>Coarse</th>\n",
       "      <th>Fine</th>\n",
       "      <th>Age</th>\n",
       "      <th>Strength</th>\n",
       "    </tr>\n",
       "  </thead>\n",
       "  <tbody>\n",
       "    <tr>\n",
       "      <th>0</th>\n",
       "      <td>540.0</td>\n",
       "      <td>0.0</td>\n",
       "      <td>0.0</td>\n",
       "      <td>162.0</td>\n",
       "      <td>2.5</td>\n",
       "      <td>1040.0</td>\n",
       "      <td>676.0</td>\n",
       "      <td>28</td>\n",
       "      <td>79.99</td>\n",
       "    </tr>\n",
       "    <tr>\n",
       "      <th>1</th>\n",
       "      <td>540.0</td>\n",
       "      <td>0.0</td>\n",
       "      <td>0.0</td>\n",
       "      <td>162.0</td>\n",
       "      <td>2.5</td>\n",
       "      <td>1055.0</td>\n",
       "      <td>676.0</td>\n",
       "      <td>28</td>\n",
       "      <td>61.89</td>\n",
       "    </tr>\n",
       "    <tr>\n",
       "      <th>2</th>\n",
       "      <td>332.5</td>\n",
       "      <td>142.5</td>\n",
       "      <td>0.0</td>\n",
       "      <td>228.0</td>\n",
       "      <td>0.0</td>\n",
       "      <td>932.0</td>\n",
       "      <td>594.0</td>\n",
       "      <td>270</td>\n",
       "      <td>40.27</td>\n",
       "    </tr>\n",
       "    <tr>\n",
       "      <th>3</th>\n",
       "      <td>332.5</td>\n",
       "      <td>142.5</td>\n",
       "      <td>0.0</td>\n",
       "      <td>228.0</td>\n",
       "      <td>0.0</td>\n",
       "      <td>932.0</td>\n",
       "      <td>594.0</td>\n",
       "      <td>365</td>\n",
       "      <td>41.05</td>\n",
       "    </tr>\n",
       "    <tr>\n",
       "      <th>4</th>\n",
       "      <td>198.6</td>\n",
       "      <td>132.4</td>\n",
       "      <td>0.0</td>\n",
       "      <td>192.0</td>\n",
       "      <td>0.0</td>\n",
       "      <td>978.4</td>\n",
       "      <td>825.5</td>\n",
       "      <td>360</td>\n",
       "      <td>44.30</td>\n",
       "    </tr>\n",
       "    <tr>\n",
       "      <th>...</th>\n",
       "      <td>...</td>\n",
       "      <td>...</td>\n",
       "      <td>...</td>\n",
       "      <td>...</td>\n",
       "      <td>...</td>\n",
       "      <td>...</td>\n",
       "      <td>...</td>\n",
       "      <td>...</td>\n",
       "      <td>...</td>\n",
       "    </tr>\n",
       "    <tr>\n",
       "      <th>1025</th>\n",
       "      <td>276.4</td>\n",
       "      <td>116.0</td>\n",
       "      <td>90.3</td>\n",
       "      <td>179.6</td>\n",
       "      <td>8.9</td>\n",
       "      <td>870.1</td>\n",
       "      <td>768.3</td>\n",
       "      <td>28</td>\n",
       "      <td>44.28</td>\n",
       "    </tr>\n",
       "    <tr>\n",
       "      <th>1026</th>\n",
       "      <td>322.2</td>\n",
       "      <td>0.0</td>\n",
       "      <td>115.6</td>\n",
       "      <td>196.0</td>\n",
       "      <td>10.4</td>\n",
       "      <td>817.9</td>\n",
       "      <td>813.4</td>\n",
       "      <td>28</td>\n",
       "      <td>31.18</td>\n",
       "    </tr>\n",
       "    <tr>\n",
       "      <th>1027</th>\n",
       "      <td>148.5</td>\n",
       "      <td>139.4</td>\n",
       "      <td>108.6</td>\n",
       "      <td>192.7</td>\n",
       "      <td>6.1</td>\n",
       "      <td>892.4</td>\n",
       "      <td>780.0</td>\n",
       "      <td>28</td>\n",
       "      <td>23.70</td>\n",
       "    </tr>\n",
       "    <tr>\n",
       "      <th>1028</th>\n",
       "      <td>159.1</td>\n",
       "      <td>186.7</td>\n",
       "      <td>0.0</td>\n",
       "      <td>175.6</td>\n",
       "      <td>11.3</td>\n",
       "      <td>989.6</td>\n",
       "      <td>788.9</td>\n",
       "      <td>28</td>\n",
       "      <td>32.77</td>\n",
       "    </tr>\n",
       "    <tr>\n",
       "      <th>1029</th>\n",
       "      <td>260.9</td>\n",
       "      <td>100.5</td>\n",
       "      <td>78.3</td>\n",
       "      <td>200.6</td>\n",
       "      <td>8.6</td>\n",
       "      <td>864.5</td>\n",
       "      <td>761.5</td>\n",
       "      <td>28</td>\n",
       "      <td>32.40</td>\n",
       "    </tr>\n",
       "  </tbody>\n",
       "</table>\n",
       "<p>1030 rows × 9 columns</p>\n",
       "</div>"
      ],
      "text/plain": [
       "      Cement  Blast    Fly  Water  Superplasticizer  Coarse   Fine  Age  \\\n",
       "0      540.0    0.0    0.0  162.0               2.5  1040.0  676.0   28   \n",
       "1      540.0    0.0    0.0  162.0               2.5  1055.0  676.0   28   \n",
       "2      332.5  142.5    0.0  228.0               0.0   932.0  594.0  270   \n",
       "3      332.5  142.5    0.0  228.0               0.0   932.0  594.0  365   \n",
       "4      198.6  132.4    0.0  192.0               0.0   978.4  825.5  360   \n",
       "...      ...    ...    ...    ...               ...     ...    ...  ...   \n",
       "1025   276.4  116.0   90.3  179.6               8.9   870.1  768.3   28   \n",
       "1026   322.2    0.0  115.6  196.0              10.4   817.9  813.4   28   \n",
       "1027   148.5  139.4  108.6  192.7               6.1   892.4  780.0   28   \n",
       "1028   159.1  186.7    0.0  175.6              11.3   989.6  788.9   28   \n",
       "1029   260.9  100.5   78.3  200.6               8.6   864.5  761.5   28   \n",
       "\n",
       "      Strength  \n",
       "0        79.99  \n",
       "1        61.89  \n",
       "2        40.27  \n",
       "3        41.05  \n",
       "4        44.30  \n",
       "...        ...  \n",
       "1025     44.28  \n",
       "1026     31.18  \n",
       "1027     23.70  \n",
       "1028     32.77  \n",
       "1029     32.40  \n",
       "\n",
       "[1030 rows x 9 columns]"
      ]
     },
     "execution_count": 61,
     "metadata": {},
     "output_type": "execute_result"
    }
   ],
   "source": [
    "con"
   ]
  },
  {
   "cell_type": "code",
   "execution_count": 62,
   "id": "d5387bf9-342c-4fdc-b0fa-2d8ce3bb32ba",
   "metadata": {},
   "outputs": [],
   "source": [
    "X=con.drop(['Strength'],axis=1)\n",
    "y=con['Strength'].values"
   ]
  },
  {
   "cell_type": "code",
   "execution_count": 63,
   "id": "aa2253e0-b5a7-4cf0-b056-429bd8b90bfd",
   "metadata": {},
   "outputs": [],
   "source": [
    "\n",
    "#scaler = MinMaxScaler()\n",
    "X_train, X_test, y_train, y_test = train_test_split(X, y, test_size = 0.3, \n",
    "                                                    random_state=23)\n",
    "#X_scl_trn = scaler.fit_transform(X_train) \n",
    "#X_scl_tst = scaler.transform(X_test) "
   ]
  },
  {
   "cell_type": "code",
   "execution_count": 64,
   "id": "455d999d-efac-4c70-a312-d96e50981c4f",
   "metadata": {},
   "outputs": [
    {
     "name": "stdout",
     "output_type": "stream",
     "text": [
      "torch.Size([721, 8])\n",
      "torch.Size([721])\n"
     ]
    }
   ],
   "source": [
    "X_torch = torch.from_numpy(X_scl_trn)\n",
    "y_torch = torch.from_numpy(y_train)\n",
    "print(X_torch.size())\n",
    "print(y_torch.size())"
   ]
  },
  {
   "cell_type": "code",
   "execution_count": 79,
   "id": "259b9f0a-ec9e-47f4-9795-c978c42ad694",
   "metadata": {},
   "outputs": [],
   "source": [
    "torch.manual_seed(23)\n",
    "# Create a model\n",
    "model = nn.Sequential(nn.Linear(in_features=X_scl_trn.shape[1], out_features=8),\n",
    "                      nn.ReLU(),\n",
    "                      nn.Linear(5,3),\n",
    "                      nn.ReLU(),\n",
    "                      nn.Linear(3, 2),\n",
    "                      nn.ReLU(),\n",
    "                      nn.Linear(2,1))"
   ]
  },
  {
   "cell_type": "code",
   "execution_count": 80,
   "id": "4650aac7-2ba9-41f4-afcc-b01a3350fe16",
   "metadata": {},
   "outputs": [
    {
     "data": {
      "text/plain": [
       "SGD (\n",
       "Parameter Group 0\n",
       "    dampening: 0\n",
       "    differentiable: False\n",
       "    foreach: None\n",
       "    lr: 0.001\n",
       "    maximize: False\n",
       "    momentum: 0\n",
       "    nesterov: False\n",
       "    weight_decay: 0\n",
       ")"
      ]
     },
     "execution_count": 80,
     "metadata": {},
     "output_type": "execute_result"
    }
   ],
   "source": [
    "criterion = torch.nn.BCELoss()\n",
    "optimizer = torch.optim.SGD(model.parameters(), lr = 0.001)\n",
    "optimizer"
   ]
  },
  {
   "cell_type": "code",
   "execution_count": 81,
   "id": "2965cb53-3c06-4974-acd5-2c7ff51ce645",
   "metadata": {},
   "outputs": [],
   "source": [
    "#y_pred_prob = model(X_torch_test.float()) # Equivalent predict_proba / predict\n",
    "#type(y_pred_prob)"
   ]
  },
  {
   "cell_type": "code",
   "execution_count": 82,
   "id": "9cfc3805-bdb5-4d47-9b0d-776dc2a675ba",
   "metadata": {},
   "outputs": [],
   "source": [
    "#y_pred_prob = nn.ReLU()(y_pred_prob)\n",
    "#y_pred_prob"
   ]
  },
  {
   "cell_type": "code",
   "execution_count": 83,
   "id": "370b0a60-dcaf-42db-af85-412f4e193282",
   "metadata": {},
   "outputs": [],
   "source": [
    "#y_pred_prob = y_pred_prob.detach().numpy()\n",
    "#type(y_pred_prob)"
   ]
  },
  {
   "cell_type": "code",
   "execution_count": 84,
   "id": "960059e1-d8df-41cd-b7cd-bfa848d269bf",
   "metadata": {},
   "outputs": [
    {
     "data": {
      "text/plain": [
       "array([[1],\n",
       "       [1],\n",
       "       [1],\n",
       "       [1],\n",
       "       [1]])"
      ]
     },
     "execution_count": 84,
     "metadata": {},
     "output_type": "execute_result"
    }
   ],
   "source": [
    "y_pred = np.where(y_pred_prob >= 0.5,1,0)\n",
    "\n",
    "y_pred[:5]"
   ]
  },
  {
   "cell_type": "code",
   "execution_count": 85,
   "id": "9e22f3bd-16f2-413a-b46b-b92b39a6b10f",
   "metadata": {},
   "outputs": [
    {
     "ename": "ValueError",
     "evalue": "Found input variables with inconsistent numbers of samples: [309, 40]",
     "output_type": "error",
     "traceback": [
      "\u001b[1;31m---------------------------------------------------------------------------\u001b[0m",
      "\u001b[1;31mValueError\u001b[0m                                Traceback (most recent call last)",
      "Cell \u001b[1;32mIn[85], line 1\u001b[0m\n\u001b[1;32m----> 1\u001b[0m \u001b[38;5;28mprint\u001b[39m(\u001b[43mr2_score\u001b[49m\u001b[43m(\u001b[49m\u001b[43my_test\u001b[49m\u001b[43m,\u001b[49m\u001b[43my_pred\u001b[49m\u001b[43m)\u001b[49m)\n",
      "File \u001b[1;32mD:\\Python\\Lib\\site-packages\\sklearn\\utils\\_param_validation.py:214\u001b[0m, in \u001b[0;36mvalidate_params.<locals>.decorator.<locals>.wrapper\u001b[1;34m(*args, **kwargs)\u001b[0m\n\u001b[0;32m    208\u001b[0m \u001b[38;5;28;01mtry\u001b[39;00m:\n\u001b[0;32m    209\u001b[0m     \u001b[38;5;28;01mwith\u001b[39;00m config_context(\n\u001b[0;32m    210\u001b[0m         skip_parameter_validation\u001b[38;5;241m=\u001b[39m(\n\u001b[0;32m    211\u001b[0m             prefer_skip_nested_validation \u001b[38;5;129;01mor\u001b[39;00m global_skip_validation\n\u001b[0;32m    212\u001b[0m         )\n\u001b[0;32m    213\u001b[0m     ):\n\u001b[1;32m--> 214\u001b[0m         \u001b[38;5;28;01mreturn\u001b[39;00m \u001b[43mfunc\u001b[49m\u001b[43m(\u001b[49m\u001b[38;5;241;43m*\u001b[39;49m\u001b[43margs\u001b[49m\u001b[43m,\u001b[49m\u001b[43m \u001b[49m\u001b[38;5;241;43m*\u001b[39;49m\u001b[38;5;241;43m*\u001b[39;49m\u001b[43mkwargs\u001b[49m\u001b[43m)\u001b[49m\n\u001b[0;32m    215\u001b[0m \u001b[38;5;28;01mexcept\u001b[39;00m InvalidParameterError \u001b[38;5;28;01mas\u001b[39;00m e:\n\u001b[0;32m    216\u001b[0m     \u001b[38;5;66;03m# When the function is just a wrapper around an estimator, we allow\u001b[39;00m\n\u001b[0;32m    217\u001b[0m     \u001b[38;5;66;03m# the function to delegate validation to the estimator, but we replace\u001b[39;00m\n\u001b[0;32m    218\u001b[0m     \u001b[38;5;66;03m# the name of the estimator by the name of the function in the error\u001b[39;00m\n\u001b[0;32m    219\u001b[0m     \u001b[38;5;66;03m# message to avoid confusion.\u001b[39;00m\n\u001b[0;32m    220\u001b[0m     msg \u001b[38;5;241m=\u001b[39m re\u001b[38;5;241m.\u001b[39msub(\n\u001b[0;32m    221\u001b[0m         \u001b[38;5;124mr\u001b[39m\u001b[38;5;124m\"\u001b[39m\u001b[38;5;124mparameter of \u001b[39m\u001b[38;5;124m\\\u001b[39m\u001b[38;5;124mw+ must be\u001b[39m\u001b[38;5;124m\"\u001b[39m,\n\u001b[0;32m    222\u001b[0m         \u001b[38;5;124mf\u001b[39m\u001b[38;5;124m\"\u001b[39m\u001b[38;5;124mparameter of \u001b[39m\u001b[38;5;132;01m{\u001b[39;00mfunc\u001b[38;5;241m.\u001b[39m\u001b[38;5;18m__qualname__\u001b[39m\u001b[38;5;132;01m}\u001b[39;00m\u001b[38;5;124m must be\u001b[39m\u001b[38;5;124m\"\u001b[39m,\n\u001b[0;32m    223\u001b[0m         \u001b[38;5;28mstr\u001b[39m(e),\n\u001b[0;32m    224\u001b[0m     )\n",
      "File \u001b[1;32mD:\\Python\\Lib\\site-packages\\sklearn\\metrics\\_regression.py:989\u001b[0m, in \u001b[0;36mr2_score\u001b[1;34m(y_true, y_pred, sample_weight, multioutput, force_finite)\u001b[0m\n\u001b[0;32m    848\u001b[0m \u001b[38;5;129m@validate_params\u001b[39m(\n\u001b[0;32m    849\u001b[0m     {\n\u001b[0;32m    850\u001b[0m         \u001b[38;5;124m\"\u001b[39m\u001b[38;5;124my_true\u001b[39m\u001b[38;5;124m\"\u001b[39m: [\u001b[38;5;124m\"\u001b[39m\u001b[38;5;124marray-like\u001b[39m\u001b[38;5;124m\"\u001b[39m],\n\u001b[1;32m   (...)\u001b[0m\n\u001b[0;32m    868\u001b[0m     force_finite\u001b[38;5;241m=\u001b[39m\u001b[38;5;28;01mTrue\u001b[39;00m,\n\u001b[0;32m    869\u001b[0m ):\n\u001b[0;32m    870\u001b[0m \u001b[38;5;250m    \u001b[39m\u001b[38;5;124;03m\"\"\":math:`R^2` (coefficient of determination) regression score function.\u001b[39;00m\n\u001b[0;32m    871\u001b[0m \n\u001b[0;32m    872\u001b[0m \u001b[38;5;124;03m    Best possible score is 1.0 and it can be negative (because the\u001b[39;00m\n\u001b[1;32m   (...)\u001b[0m\n\u001b[0;32m    987\u001b[0m \u001b[38;5;124;03m    -inf\u001b[39;00m\n\u001b[0;32m    988\u001b[0m \u001b[38;5;124;03m    \"\"\"\u001b[39;00m\n\u001b[1;32m--> 989\u001b[0m     y_type, y_true, y_pred, multioutput \u001b[38;5;241m=\u001b[39m \u001b[43m_check_reg_targets\u001b[49m\u001b[43m(\u001b[49m\n\u001b[0;32m    990\u001b[0m \u001b[43m        \u001b[49m\u001b[43my_true\u001b[49m\u001b[43m,\u001b[49m\u001b[43m \u001b[49m\u001b[43my_pred\u001b[49m\u001b[43m,\u001b[49m\u001b[43m \u001b[49m\u001b[43mmultioutput\u001b[49m\n\u001b[0;32m    991\u001b[0m \u001b[43m    \u001b[49m\u001b[43m)\u001b[49m\n\u001b[0;32m    992\u001b[0m     check_consistent_length(y_true, y_pred, sample_weight)\n\u001b[0;32m    994\u001b[0m     \u001b[38;5;28;01mif\u001b[39;00m _num_samples(y_pred) \u001b[38;5;241m<\u001b[39m \u001b[38;5;241m2\u001b[39m:\n",
      "File \u001b[1;32mD:\\Python\\Lib\\site-packages\\sklearn\\metrics\\_regression.py:99\u001b[0m, in \u001b[0;36m_check_reg_targets\u001b[1;34m(y_true, y_pred, multioutput, dtype)\u001b[0m\n\u001b[0;32m     65\u001b[0m \u001b[38;5;28;01mdef\u001b[39;00m \u001b[38;5;21m_check_reg_targets\u001b[39m(y_true, y_pred, multioutput, dtype\u001b[38;5;241m=\u001b[39m\u001b[38;5;124m\"\u001b[39m\u001b[38;5;124mnumeric\u001b[39m\u001b[38;5;124m\"\u001b[39m):\n\u001b[0;32m     66\u001b[0m \u001b[38;5;250m    \u001b[39m\u001b[38;5;124;03m\"\"\"Check that y_true and y_pred belong to the same regression task.\u001b[39;00m\n\u001b[0;32m     67\u001b[0m \n\u001b[0;32m     68\u001b[0m \u001b[38;5;124;03m    Parameters\u001b[39;00m\n\u001b[1;32m   (...)\u001b[0m\n\u001b[0;32m     97\u001b[0m \u001b[38;5;124;03m        correct keyword.\u001b[39;00m\n\u001b[0;32m     98\u001b[0m \u001b[38;5;124;03m    \"\"\"\u001b[39;00m\n\u001b[1;32m---> 99\u001b[0m     \u001b[43mcheck_consistent_length\u001b[49m\u001b[43m(\u001b[49m\u001b[43my_true\u001b[49m\u001b[43m,\u001b[49m\u001b[43m \u001b[49m\u001b[43my_pred\u001b[49m\u001b[43m)\u001b[49m\n\u001b[0;32m    100\u001b[0m     y_true \u001b[38;5;241m=\u001b[39m check_array(y_true, ensure_2d\u001b[38;5;241m=\u001b[39m\u001b[38;5;28;01mFalse\u001b[39;00m, dtype\u001b[38;5;241m=\u001b[39mdtype)\n\u001b[0;32m    101\u001b[0m     y_pred \u001b[38;5;241m=\u001b[39m check_array(y_pred, ensure_2d\u001b[38;5;241m=\u001b[39m\u001b[38;5;28;01mFalse\u001b[39;00m, dtype\u001b[38;5;241m=\u001b[39mdtype)\n",
      "File \u001b[1;32mD:\\Python\\Lib\\site-packages\\sklearn\\utils\\validation.py:407\u001b[0m, in \u001b[0;36mcheck_consistent_length\u001b[1;34m(*arrays)\u001b[0m\n\u001b[0;32m    405\u001b[0m uniques \u001b[38;5;241m=\u001b[39m np\u001b[38;5;241m.\u001b[39munique(lengths)\n\u001b[0;32m    406\u001b[0m \u001b[38;5;28;01mif\u001b[39;00m \u001b[38;5;28mlen\u001b[39m(uniques) \u001b[38;5;241m>\u001b[39m \u001b[38;5;241m1\u001b[39m:\n\u001b[1;32m--> 407\u001b[0m     \u001b[38;5;28;01mraise\u001b[39;00m \u001b[38;5;167;01mValueError\u001b[39;00m(\n\u001b[0;32m    408\u001b[0m         \u001b[38;5;124m\"\u001b[39m\u001b[38;5;124mFound input variables with inconsistent numbers of samples: \u001b[39m\u001b[38;5;132;01m%r\u001b[39;00m\u001b[38;5;124m\"\u001b[39m\n\u001b[0;32m    409\u001b[0m         \u001b[38;5;241m%\u001b[39m [\u001b[38;5;28mint\u001b[39m(l) \u001b[38;5;28;01mfor\u001b[39;00m l \u001b[38;5;129;01min\u001b[39;00m lengths]\n\u001b[0;32m    410\u001b[0m     )\n",
      "\u001b[1;31mValueError\u001b[0m: Found input variables with inconsistent numbers of samples: [309, 40]"
     ]
    }
   ],
   "source": [
    "print(r2_score(y_test,y_pred))"
   ]
  },
  {
   "cell_type": "code",
   "execution_count": null,
   "id": "2a7e111d-a5fe-48a4-a5df-dfdfae0b2d22",
   "metadata": {},
   "outputs": [],
   "source": []
  },
  {
   "cell_type": "code",
   "execution_count": null,
   "id": "a423253d-1d41-43d0-ad90-32667ec6c8c2",
   "metadata": {},
   "outputs": [],
   "source": []
  }
 ],
 "metadata": {
  "kernelspec": {
   "display_name": "Python 3 (ipykernel)",
   "language": "python",
   "name": "python3"
  },
  "language_info": {
   "codemirror_mode": {
    "name": "ipython",
    "version": 3
   },
   "file_extension": ".py",
   "mimetype": "text/x-python",
   "name": "python",
   "nbconvert_exporter": "python",
   "pygments_lexer": "ipython3",
   "version": "3.11.6"
  }
 },
 "nbformat": 4,
 "nbformat_minor": 5
}
