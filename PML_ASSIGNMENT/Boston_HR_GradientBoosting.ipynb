{
 "cells": [
  {
   "cell_type": "code",
   "execution_count": 1,
   "id": "8a33be04-a764-43a6-8162-6ce27d491100",
   "metadata": {},
   "outputs": [],
   "source": [
    "import pandas as pd \n",
    "from sklearn.ensemble import GradientBoostingClassifier,GradientBoostingRegressor\n",
    "import matplotlib.pyplot as plt \n",
    "from sklearn.model_selection import StratifiedKFold\n",
    "from sklearn.model_selection import GridSearchCV,KFold,StratifiedKFold\n",
    "#from sklearn.preprocessing import n_estimators\n",
    "import matplotlib.pyplot as plt \n",
    "\n",
    "import numpy as np\n",
    "from sklearn.model_selection import train_test_split"
   ]
  },
  {
   "cell_type": "code",
   "execution_count": 4,
   "id": "10af6f1c-5b44-495e-81d4-ef9518e4767b",
   "metadata": {},
   "outputs": [],
   "source": [
    "hr = pd.read_csv(\"D:\\\\codes\\\\Datasets\\\\Cases\\\\human-resources-analytics\\\\HR_comma_sep.csv\")\n",
    "dum_hr = pd.get_dummies(hr, drop_first=True)\n",
    "X = dum_hr.drop('left', axis=1)\n",
    "y = dum_hr['left']\n",
    "\n",
    "\n",
    "\n",
    "dum_hr = pd.get_dummies(hr, drop_first=True)\n",
    "X = dum_hr.drop('left', axis=1)\n",
    "y = dum_hr['left']\n",
    "\n"
   ]
  },
  {
   "cell_type": "code",
   "execution_count": 5,
   "id": "31ff72e7-5a55-4985-b8fd-c59ddf272456",
   "metadata": {},
   "outputs": [],
   "source": [
    "gra=GradientBoostingClassifier(random_state=23)\n",
    "kfold=StratifiedKFold(n_splits=5,shuffle=True,random_state=23)\n"
   ]
  },
  {
   "cell_type": "code",
   "execution_count": 6,
   "id": "8d8bab21-a20c-4d3e-be02-5800ec233da0",
   "metadata": {},
   "outputs": [],
   "source": [
    "import numpy as np"
   ]
  },
  {
   "cell_type": "code",
   "execution_count": null,
   "id": "fa738394-b187-4edf-a629-0eca292c1ac4",
   "metadata": {},
   "outputs": [
    {
     "name": "stdout",
     "output_type": "stream",
     "text": [
      "Fitting 5 folds for each of 60 candidates, totalling 300 fits\n"
     ]
    }
   ],
   "source": [
    "\n",
    "params={'n_estimators':[25,50,75],'learning_rate':np.linspace(0.001,0.7,5),'max_depth':[None,2,3,5]}\n",
    "\n",
    "gcv = GridSearchCV(gra, param_grid=params,cv=kfold, scoring='neg_log_loss',verbose=3,n_jobs=-1)\n",
    "gcv.fit(X, y)\n",
    "print(gcv.best_params_)\n",
    "print(gcv.best_score_)\n"
   ]
  },
  {
   "cell_type": "code",
   "execution_count": null,
   "id": "7940ae62-bac1-45c7-aa31-206ab0896da2",
   "metadata": {},
   "outputs": [],
   "source": [
    "bm_rf=gcv.best_estimator_\n",
    "df_imp=pd.DataFrame({'Features':list(X.columns),'Importance':bm_rf.feature_importances_})\n",
    "df_imp=df_imp[df_imp['Importance']>0].sort_values('Importance')\n",
    "\n",
    "plt.barh(df_imp['Features'],df_imp['Importance'])\n",
    "plt.title('Tree')\n",
    "plt.show()"
   ]
  },
  {
   "cell_type": "code",
   "execution_count": null,
   "id": "d1577cbf-f044-4554-be1f-55fcd066540b",
   "metadata": {},
   "outputs": [],
   "source": [
    "boston=pd.read_csv(\"D:\\\\codes\\\\Datasets\\\\Cases\\\\Boston Housing\\\\Boston.csv\")\n",
    "X=boston.drop(['medv'],axis=1)\n",
    "y=boston['medv']\n",
    "\n",
    "from sklearn.ensemble import GradientBoostingRegressor\n",
    "ada=GradientBoostingRegressor(random_state=23)\n",
    "kfold=KFold(n_splits=5,shuffle=True,random_state=23)\n",
    "\n",
    "params={'n_estimators':[25,50,75],'learning_rate':np.linspace(0.001,0.7,5),'max_depth':[None,2,3,5]}\n",
    "\n",
    "gcv = GridSearchCV(ada, param_grid=params,cv=kfold, scoring='r2',n_jobs=-1)\n",
    "gcv.fit(X, y)\n",
    "print(gcv.best_params_)\n",
    "print(gcv.best_score_)\n",
    "bm_rf=gcv.best_estimator_"
   ]
  },
  {
   "cell_type": "code",
   "execution_count": 3,
   "id": "142e2dd9-c6d1-4626-bcae-d061e671c770",
   "metadata": {},
   "outputs": [
    {
     "data": {
      "image/png": "[encoded data removed]",
      "text/plain": [
       "<Figure size 640x480 with 1 Axes>"
      ]
     },
     "metadata": {},
     "output_type": "display_data"
    }
   ],
   "source": [
    "df_imp=pd.DataFrame({'Features':list(X.columns),'Importance':bm_rf.feature_importances_})\n",
    "df_imp=df_imp[df_imp['Importance']>0].sort_values('Importance')\n",
    "\n",
    "plt.barh(df_imp['Features'],df_imp['Importance'])\n",
    "plt.title('Tree')\n",
    "plt.show()\n"
   ]
  },
  {
   "cell_type": "code",
   "execution_count": null,
   "id": "6aa43dfe-3dd8-499d-9f7f-1dcb24a21792",
   "metadata": {},
   "outputs": [],
   "source": []
  }
 ],
 "metadata": {
  "kernelspec": {
   "display_name": "Python 3 (ipykernel)",
   "language": "python",
   "name": "python3"
  },
  "language_info": {
   "codemirror_mode": {
    "name": "ipython",
    "version": 3
   },
   "file_extension": ".py",
   "mimetype": "text/x-python",
   "name": "python",
   "nbconvert_exporter": "python",
   "pygments_lexer": "ipython3",
   "version": "3.12.1"
  }
 },
 "nbformat": 4,
 "nbformat_minor": 5
}
