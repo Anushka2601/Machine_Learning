{
 "cells": [
  {
   "cell_type": "code",
   "execution_count": 13,
   "id": "820b110f-ec59-4b50-8c25-cfee903a433c",
   "metadata": {},
   "outputs": [],
   "source": [
    "import numpy as np \n",
    "import pandas as pd \n",
    "from sklearn.model_selection import train_test_split\n",
    "from sklearn.preprocessing import StandardScaler \n",
    "from sklearn.linear_model import LinearRegression ,Ridge ,Lasso ,ElasticNet\n",
    "from sklearn.metrics import r2_score"
   ]
  },
  {
   "cell_type": "code",
   "execution_count": 2,
   "id": "823cc265-1e4a-43df-b5a2-6ea0cfd0cffb",
   "metadata": {},
   "outputs": [],
   "source": [
    "np.random.seed(42)\n",
    "X=2*np.random.rand(100,1)\n",
    "y=4+3*X+np.random.randn(100,1)\n"
   ]
  },
  {
   "cell_type": "code",
   "execution_count": 4,
   "id": "12af7dfe-c8af-4242-a67f-b4e8b411dc75",
   "metadata": {},
   "outputs": [],
   "source": [
    "X_train,X_test,y_train,y_test=train_test_split(X,y,test_size=0.2,random_state=42)"
   ]
  },
  {
   "cell_type": "code",
   "execution_count": 5,
   "id": "1dbb1adb-1790-44fd-a9c9-e20478458e10",
   "metadata": {},
   "outputs": [],
   "source": [
    "scaler=StandardScaler()"
   ]
  },
  {
   "cell_type": "code",
   "execution_count": 6,
   "id": "0f41a983-4224-41bb-be88-f8533fb05a2b",
   "metadata": {},
   "outputs": [],
   "source": [
    "X_train_scaled=scaler.fit_transform(X_train)"
   ]
  },
  {
   "cell_type": "code",
   "execution_count": 7,
   "id": "6703348a-de0e-4740-bba7-d78e7c848734",
   "metadata": {},
   "outputs": [],
   "source": [
    "X_test_scaled=scaler.transform(X_test)"
   ]
  },
  {
   "cell_type": "code",
   "execution_count": 18,
   "id": "5dfd985b-a96b-463a-92d9-b4dca367c0a3",
   "metadata": {},
   "outputs": [
    {
     "data": {
      "text/plain": [
       "0.8072059636181392"
      ]
     },
     "execution_count": 18,
     "metadata": {},
     "output_type": "execute_result"
    }
   ],
   "source": [
    "lr=LinearRegression()\n",
    "lr.fit(X_train_scaled,y_train)\n",
    "y_pred_linear=lr.predict(X_test_scaled)\n",
    "r2_linear=r2_score(y_test,y_pred_linear)\n",
    "r2_linear"
   ]
  },
  {
   "cell_type": "code",
   "execution_count": 17,
   "id": "86f5c727-ca23-4ff4-bf18-9ae60997344c",
   "metadata": {},
   "outputs": [
    {
     "data": {
      "text/plain": [
       "0.8076861170483087"
      ]
     },
     "execution_count": 17,
     "metadata": {},
     "output_type": "execute_result"
    }
   ],
   "source": [
    "rr=Ridge(alpha=0.5)\n",
    "rr.fit(X_train_scaled,y_train)\n",
    "y_pred_rr=rr.predict(X_test_scaled)\n",
    "r2_rr=r2_score(y_test,y_pred_rr)\n",
    "r2_rr"
   ]
  },
  {
   "cell_type": "code",
   "execution_count": 19,
   "id": "9842df4a-4068-495c-b522-375f5965ee9b",
   "metadata": {},
   "outputs": [
    {
     "data": {
      "text/plain": [
       "0.5144489205584122"
      ]
     },
     "execution_count": 19,
     "metadata": {},
     "output_type": "execute_result"
    }
   ],
   "source": [
    "ls=Lasso()\n",
    "ls.fit(X_train_scaled,y_train)\n",
    "y_pred=ls.predict(X_test_scaled)\n",
    "r2_ls=r2_score(y_test,y_pred)\n",
    "r2_ls"
   ]
  },
  {
   "cell_type": "code",
   "execution_count": 26,
   "id": "60fac0d0-60a1-4ce0-bc82-8626b4527c05",
   "metadata": {},
   "outputs": [
    {
     "data": {
      "text/plain": [
       "0.5144489205584122"
      ]
     },
     "execution_count": 26,
     "metadata": {},
     "output_type": "execute_result"
    }
   ],
   "source": [
    "el=ElasticNet(alpha=1,l1_ratio=0.1) \n",
    "el.fit(X_train_scaled,y_train)\n",
    "y_pred=el.predict(X_test_scaled)\n",
    "r2_el=r2_score(y_test,y_pred)\n",
    "r2_ls"
   ]
  },
  {
   "cell_type": "markdown",
   "id": "9fa70eee-af09-4f51-89fc-88d9c9ebffae",
   "metadata": {},
   "source": []
  },
  {
   "cell_type": "code",
   "execution_count": null,
   "id": "a779a0ef-670a-44b2-bceb-9b0e17072162",
   "metadata": {},
   "outputs": [],
   "source": [
    "X,y=np."
   ]
  }
 ],
 "metadata": {
  "kernelspec": {
   "display_name": "Python 3 (ipykernel)",
   "language": "python",
   "name": "python3"
  },
  "language_info": {
   "codemirror_mode": {
    "name": "ipython",
    "version": 3
   },
   "file_extension": ".py",
   "mimetype": "text/x-python",
   "name": "python",
   "nbconvert_exporter": "python",
   "pygments_lexer": "ipython3",
   "version": "3.12.0"
  }
 },
 "nbformat": 4,
 "nbformat_minor": 5
}
