{
 "cells": [
  {
   "cell_type": "code",
   "execution_count": 1,
   "id": "6b91e961-5b80-4a2a-9001-580fefa5e87b",
   "metadata": {},
   "outputs": [],
   "source": [
    "\n",
    "import pandas as pd \n",
    "import numpy as np \n",
    "\n",
    "import pandas as pd \n",
    "import numpy as np \n",
    "from sklearn.tree import DecisionTreeClassifier,plot_tree\n",
    "from sklearn.model_selection import KFold \n",
    "from sklearn.model_selection import StratifiedKFold\n",
    "from sklearn.model_selection import GridSearchCV\n",
    "from sklearn.preprocessing import LabelEncoder\n",
    "import matplotlib.pyplot as plt \n",
    "from sklearn.model_selection import train_test_split\n",
    "from sklearn.metrics import log_loss,accuracy_score\n",
    "from sklearn.ensemble import RandomForestClassifier \n",
    "\n",
    "from sklearn.ensemble import RandomForestClassifier\n",
    "from sklearn.model_selection import GridSearchCV,KFold,StratifiedKFold\n",
    " #from sklearn.preprocessing import n_estimators\n",
    "import matplotlib.pyplot as plt \n",
    "import warnings\n",
    "warnings.filterwarnings(\"ignore\")\n"
   ]
  },
  {
   "cell_type": "code",
   "execution_count": 5,
   "id": "4f2a9b39-cfa1-46f8-bd83-7d442bbac45a",
   "metadata": {},
   "outputs": [],
   "source": [
    "\n",
    "boston=pd.read_csv(\"D:\\\\codes\\\\Datasets\\\\Cases\\\\Boston Housing\\\\Boston.csv\")\n",
    "X=boston.drop(['medv'],axis=1)\n",
    "y=boston['medv']\n",
    "\n",
    "from sklearn.ensemble import RandomForestRegressor,BaggingRegressor\n",
    "rf=RandomForestRegressor(random_state=23,n_jobs=-1)\n",
    "kfold=KFold(n_splits=5,shuffle=True,random_state=23)\n"
   ]
  },
  {
   "cell_type": "code",
   "execution_count": 10,
   "id": "19c8aa6d-e0c3-455b-adbc-252a1abb86bf",
   "metadata": {},
   "outputs": [],
   "source": [
    "\n",
    "bagg =BaggingRegressor(rf, n_estimators=20,random_state=23,n_jobs=-1)\n",
    "params={'estimator__max_depth':[None,2,34,5,6,7],'estimator__min_samples_leaf': [1,2,3,4,5,6,10], 'estimator__min_samples_split': [2,3,4,5,6,10,20],'estimator__max_features':[3,6,9,11,13]}\n",
    "#print(bagg.get_params())\n"
   ]
  },
  {
   "cell_type": "code",
   "execution_count": 9,
   "id": "84390c2d-c1fa-49b9-93eb-7db16f0d9a38",
   "metadata": {},
   "outputs": [
    {
     "name": "stdout",
     "output_type": "stream",
     "text": [
      "{'base_estimator': 'deprecated', 'bootstrap': True, 'bootstrap_features': False, 'estimator__bootstrap': True, 'estimator__ccp_alpha': 0.0, 'estimator__criterion': 'squared_error', 'estimator__max_depth': None, 'estimator__max_features': 1.0, 'estimator__max_leaf_nodes': None, 'estimator__max_samples': None, 'estimator__min_impurity_decrease': 0.0, 'estimator__min_samples_leaf': 1, 'estimator__min_samples_split': 2, 'estimator__min_weight_fraction_leaf': 0.0, 'estimator__n_estimators': 100, 'estimator__n_jobs': -1, 'estimator__oob_score': False, 'estimator__random_state': 23, 'estimator__verbose': 0, 'estimator__warm_start': False, 'estimator': RandomForestRegressor(n_jobs=-1, random_state=23), 'max_features': 1.0, 'max_samples': 1.0, 'n_estimators': 20, 'n_jobs': -1, 'oob_score': False, 'random_state': 23, 'verbose': 0, 'warm_start': False}\n"
     ]
    }
   ],
   "source": [
    "print(bagg.get_params())"
   ]
  },
  {
   "cell_type": "code",
   "execution_count": null,
   "id": "c0fe6c2f-8aad-405a-89c3-4cf85bd76ec5",
   "metadata": {},
   "outputs": [],
   "source": [
    "\n",
    "gcv=GridSearchCV(bagg, param_grid=params,cv=kfold,scoring='r2',n_jobs=-1)\n",
    "#print(bagg.get_params())\n",
    "gcv.fit(X, y)\n",
    "print(gcv.best_params_)\n",
    "print(gcv.best_score_) \n",
    "\n"
   ]
  },
  {
   "cell_type": "code",
   "execution_count": null,
   "id": "ee61240d-671d-4cbe-a838-16d554ab3795",
   "metadata": {},
   "outputs": [],
   "source": [
    "\n",
    "\n",
    "bm_rf=gcv.best_estimator_\n",
    "\n",
    "\n",
    "df_imp=pd.DataFrame({'Features':list(X.columns),'Importance':bm_rf.feature_importances_})\n",
    "df_imp=df_imp[df_imp['Importance']>0].sort_values('Importance')\n",
    "\n",
    "plt.barh(df_imp['Features'],df_imp['Importance'])\n",
    "plt.title('Tree')\n",
    "plt.show()"
   ]
  }
 ],
 "metadata": {
  "kernelspec": {
   "display_name": "Python 3 (ipykernel)",
   "language": "python",
   "name": "python3"
  },
  "language_info": {
   "codemirror_mode": {
    "name": "ipython",
    "version": 3
   },
   "file_extension": ".py",
   "mimetype": "text/x-python",
   "name": "python",
   "nbconvert_exporter": "python",
   "pygments_lexer": "ipython3",
   "version": "3.12.1"
  }
 },
 "nbformat": 4,
 "nbformat_minor": 5
}
