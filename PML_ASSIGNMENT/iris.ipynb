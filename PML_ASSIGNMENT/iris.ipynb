{
 "cells": [
  {
   "cell_type": "code",
   "execution_count": 49,
   "id": "1a16379e-3216-4249-8305-319714c29460",
   "metadata": {},
   "outputs": [],
   "source": [
    "import numpy as np \n",
    "import pandas as pd \n",
    "from sklearn.svm import SVC\n",
    "from sklearn.model_selection import train_test_split\n",
    "from sklearn.metrics import accuracy_score\n",
    "from sklearn.model_selection import KFold\n",
    "\n",
    "#from sklearn.model_selection import StratifiedKFold \n",
    "from sklearn.model_selection import StratifiedKFold \n",
    "from sklearn.model_selection import GridSearchCV\n",
    "from sklearn.linear_model import LogisticRegression\n",
    "import warnings \n",
    "warnings.filterwarnings(\"ignore\")"
   ]
  },
  {
   "cell_type": "code",
   "execution_count": 50,
   "id": "1fdbfeab-33c0-40dc-8978-b59e8f89dabd",
   "metadata": {},
   "outputs": [],
   "source": [
    "df=pd.read_csv(\"D:\\\\codes\\\\AdvanceAnalytics\\\\Datasets\\\\iris.csv\")"
   ]
  },
  {
   "cell_type": "code",
   "execution_count": 68,
   "id": "33c18f77-bc6e-44a4-8331-86e9c0d1b05f",
   "metadata": {},
   "outputs": [
    {
     "data": {
      "text/plain": [
       "0"
      ]
     },
     "execution_count": 68,
     "metadata": {},
     "output_type": "execute_result"
    }
   ],
   "source": [
    "df['Species']"
   ]
  },
  {
   "cell_type": "code",
   "execution_count": 65,
   "id": "5fd099a1-e02e-4d2e-b7b9-daaf6b09cf9e",
   "metadata": {},
   "outputs": [
    {
     "data": {
      "text/html": [
       "<div>\n",
       "<style scoped>\n",
       "    .dataframe tbody tr th:only-of-type {\n",
       "        vertical-align: middle;\n",
       "    }\n",
       "\n",
       "    .dataframe tbody tr th {\n",
       "        vertical-align: top;\n",
       "    }\n",
       "\n",
       "    .dataframe thead th {\n",
       "        text-align: right;\n",
       "    }\n",
       "</style>\n",
       "<table border=\"1\" class=\"dataframe\">\n",
       "  <thead>\n",
       "    <tr style=\"text-align: right;\">\n",
       "      <th></th>\n",
       "      <th>Sepal.Length</th>\n",
       "      <th>Sepal.Width</th>\n",
       "      <th>Petal.Length</th>\n",
       "      <th>Petal.Width</th>\n",
       "      <th>Species</th>\n",
       "    </tr>\n",
       "  </thead>\n",
       "  <tbody>\n",
       "    <tr>\n",
       "      <th>0</th>\n",
       "      <td>5.1</td>\n",
       "      <td>3.5</td>\n",
       "      <td>1.4</td>\n",
       "      <td>0.2</td>\n",
       "      <td>setosa</td>\n",
       "    </tr>\n",
       "    <tr>\n",
       "      <th>1</th>\n",
       "      <td>4.9</td>\n",
       "      <td>3.0</td>\n",
       "      <td>1.4</td>\n",
       "      <td>0.2</td>\n",
       "      <td>setosa</td>\n",
       "    </tr>\n",
       "    <tr>\n",
       "      <th>2</th>\n",
       "      <td>4.7</td>\n",
       "      <td>3.2</td>\n",
       "      <td>1.3</td>\n",
       "      <td>0.2</td>\n",
       "      <td>setosa</td>\n",
       "    </tr>\n",
       "    <tr>\n",
       "      <th>3</th>\n",
       "      <td>4.6</td>\n",
       "      <td>3.1</td>\n",
       "      <td>1.5</td>\n",
       "      <td>0.2</td>\n",
       "      <td>setosa</td>\n",
       "    </tr>\n",
       "    <tr>\n",
       "      <th>4</th>\n",
       "      <td>5.0</td>\n",
       "      <td>3.6</td>\n",
       "      <td>1.4</td>\n",
       "      <td>0.2</td>\n",
       "      <td>setosa</td>\n",
       "    </tr>\n",
       "    <tr>\n",
       "      <th>...</th>\n",
       "      <td>...</td>\n",
       "      <td>...</td>\n",
       "      <td>...</td>\n",
       "      <td>...</td>\n",
       "      <td>...</td>\n",
       "    </tr>\n",
       "    <tr>\n",
       "      <th>145</th>\n",
       "      <td>6.7</td>\n",
       "      <td>3.0</td>\n",
       "      <td>5.2</td>\n",
       "      <td>2.3</td>\n",
       "      <td>virginica</td>\n",
       "    </tr>\n",
       "    <tr>\n",
       "      <th>146</th>\n",
       "      <td>6.3</td>\n",
       "      <td>2.5</td>\n",
       "      <td>5.0</td>\n",
       "      <td>1.9</td>\n",
       "      <td>virginica</td>\n",
       "    </tr>\n",
       "    <tr>\n",
       "      <th>147</th>\n",
       "      <td>6.5</td>\n",
       "      <td>3.0</td>\n",
       "      <td>5.2</td>\n",
       "      <td>2.0</td>\n",
       "      <td>virginica</td>\n",
       "    </tr>\n",
       "    <tr>\n",
       "      <th>148</th>\n",
       "      <td>6.2</td>\n",
       "      <td>3.4</td>\n",
       "      <td>5.4</td>\n",
       "      <td>2.3</td>\n",
       "      <td>virginica</td>\n",
       "    </tr>\n",
       "    <tr>\n",
       "      <th>149</th>\n",
       "      <td>5.9</td>\n",
       "      <td>3.0</td>\n",
       "      <td>5.1</td>\n",
       "      <td>1.8</td>\n",
       "      <td>virginica</td>\n",
       "    </tr>\n",
       "  </tbody>\n",
       "</table>\n",
       "<p>150 rows × 5 columns</p>\n",
       "</div>"
      ],
      "text/plain": [
       "     Sepal.Length  Sepal.Width  Petal.Length  Petal.Width    Species\n",
       "0             5.1          3.5           1.4          0.2     setosa\n",
       "1             4.9          3.0           1.4          0.2     setosa\n",
       "2             4.7          3.2           1.3          0.2     setosa\n",
       "3             4.6          3.1           1.5          0.2     setosa\n",
       "4             5.0          3.6           1.4          0.2     setosa\n",
       "..            ...          ...           ...          ...        ...\n",
       "145           6.7          3.0           5.2          2.3  virginica\n",
       "146           6.3          2.5           5.0          1.9  virginica\n",
       "147           6.5          3.0           5.2          2.0  virginica\n",
       "148           6.2          3.4           5.4          2.3  virginica\n",
       "149           5.9          3.0           5.1          1.8  virginica\n",
       "\n",
       "[150 rows x 5 columns]"
      ]
     },
     "execution_count": 65,
     "metadata": {},
     "output_type": "execute_result"
    }
   ],
   "source": [
    "df"
   ]
  },
  {
   "cell_type": "code",
   "execution_count": 51,
   "id": "357a6b48-38c7-47a0-af1e-837388fbd863",
   "metadata": {},
   "outputs": [
    {
     "name": "stdout",
     "output_type": "stream",
     "text": [
      "Sepal.Length    0\n",
      "Sepal.Width     0\n",
      "Petal.Length    0\n",
      "Petal.Width     0\n",
      "Species         0\n",
      "dtype: int64\n",
      "(150, 5)\n",
      "       Sepal.Length  Sepal.Width  Petal.Length  Petal.Width\n",
      "count    150.000000   150.000000    150.000000   150.000000\n",
      "mean       5.843333     3.057333      3.758000     1.199333\n",
      "std        0.828066     0.435866      1.765298     0.762238\n",
      "min        4.300000     2.000000      1.000000     0.100000\n",
      "25%        5.100000     2.800000      1.600000     0.300000\n",
      "50%        5.800000     3.000000      4.350000     1.300000\n",
      "75%        6.400000     3.300000      5.100000     1.800000\n",
      "max        7.900000     4.400000      6.900000     2.500000\n"
     ]
    }
   ],
   "source": [
    "print(df.isnull().sum())\n",
    "print(df.shape)\n",
    "print(df.describe())\n"
   ]
  },
  {
   "cell_type": "code",
   "execution_count": 52,
   "id": "146a3b68-6fe3-4680-b3bc-d6a557666848",
   "metadata": {},
   "outputs": [],
   "source": [
    "X=df.drop(['Species'],axis=1)\n",
    "y=df['Species']"
   ]
  },
  {
   "cell_type": "code",
   "execution_count": 53,
   "id": "608ebdc7-84d8-4033-b4b1-03086e99f91c",
   "metadata": {},
   "outputs": [],
   "source": [
    "X_train,X_test,y_train,y_test=train_test_split(X,y,test_size=0.3,random_state=23,stratify=y)"
   ]
  },
  {
   "cell_type": "code",
   "execution_count": 54,
   "id": "a0f17384-2f87-4c95-994c-5458a952c4d7",
   "metadata": {},
   "outputs": [
    {
     "name": "stdout",
     "output_type": "stream",
     "text": [
      "(105, 4)\n",
      "(45, 4)\n",
      "(105,)\n",
      "(45,)\n"
     ]
    }
   ],
   "source": [
    "print(X_train.shape)\n",
    "print(X_test.shape)\n",
    "print(y_train.shape)\n",
    "print(y_test.shape)"
   ]
  },
  {
   "cell_type": "code",
   "execution_count": 55,
   "id": "7b2a0a74-da6a-46fa-892a-f2efc62cc02a",
   "metadata": {},
   "outputs": [
    {
     "name": "stdout",
     "output_type": "stream",
     "text": [
      "Accuracy_score 0.9555555555555556\n"
     ]
    }
   ],
   "source": [
    "svm=SVC(kernel='linear')\n",
    "svm.fit(X_train,y_train)\n",
    "y_pred=svm.predict(X_test)\n",
    "print(\"Accuracy_score\",accuracy_score(y_test,y_pred))"
   ]
  },
  {
   "cell_type": "code",
   "execution_count": 56,
   "id": "05fcf168-1f98-4993-850b-7fc1cf0aedc8",
   "metadata": {},
   "outputs": [
    {
     "name": "stdout",
     "output_type": "stream",
     "text": [
      "best params: {'C': 2.105342105263158, 'gamma': 0.001}\n",
      "best score: 0.9800000000000001\n"
     ]
    }
   ],
   "source": [
    "# GCV and kfold \n",
    "params={'C':np.linspace(0.0001,10,20),'gamma':np.linspace(0.001,5,10)}\n",
    "kfold=StratifiedKFold(n_splits=5,shuffle=True,random_state=23)\n",
    "\n",
    "\n",
    "svm=SVC(kernel='linear')\n",
    "#svm.fit(X,y)\n",
    "gcv=GridSearchCV(svm,param_grid=params,cv=kfold)\n",
    "gcv.fit(X,y)\n",
    "print(\"best params:\",gcv.best_params_)\n",
    "print(\"best score:\",gcv.best_score_)\n"
   ]
  },
  {
   "cell_type": "code",
   "execution_count": 57,
   "id": "f36fb7d6-ae6b-4c0e-8435-3efb2b9ce12a",
   "metadata": {},
   "outputs": [
    {
     "name": "stdout",
     "output_type": "stream",
     "text": [
      "best params:  {'C': 0.5264105263157894, 'gamma': 0.001}\n",
      "best score :  -0.10066963817754004\n"
     ]
    }
   ],
   "source": [
    "svm=SVC(kernel='linear',probability=True,random_state=23)\n",
    "svm.fit(X,y)\n",
    "\n",
    "gcv=GridSearchCV(svm, param_grid=params,cv=kfold,scoring='neg_log_loss')\n",
    "\n",
    "gcv.fit(X,y)\n",
    "print(\"best params: \",gcv.best_params_)\n",
    "print(\"best score : \",gcv.best_score_)\n",
    "\n"
   ]
  },
  {
   "cell_type": "code",
   "execution_count": 58,
   "id": "282d8757-b1ea-44c5-b10b-24824367887b",
   "metadata": {},
   "outputs": [],
   "source": [
    "#using knn "
   ]
  },
  {
   "cell_type": "code",
   "execution_count": 59,
   "id": "e9d50ff1-15a0-4977-be34-3672288facbb",
   "metadata": {},
   "outputs": [],
   "source": [
    "from sklearn.neighbors import KNeighborsClassifier"
   ]
  },
  {
   "cell_type": "code",
   "execution_count": 60,
   "id": "a7e9dfa9-3705-4c31-b571-704e3f8612d7",
   "metadata": {},
   "outputs": [
    {
     "name": "stdout",
     "output_type": "stream",
     "text": [
      "Accuracy_score: 0.9333333333333333\n"
     ]
    }
   ],
   "source": [
    "knn=KNeighborsClassifier()\n",
    "knn.fit(X_train,y_train)\n",
    "y_pred=knn.predict(X_test)\n",
    "print(\"Accuracy_score:\",accuracy_score(y_test,y_pred))"
   ]
  },
  {
   "cell_type": "code",
   "execution_count": 61,
   "id": "ede6f7ac-3cc4-4d22-a8f0-27fb4d491a5b",
   "metadata": {},
   "outputs": [
    {
     "name": "stdout",
     "output_type": "stream",
     "text": [
      "Accuracy_score: 0.9555555555555556\n"
     ]
    }
   ],
   "source": [
    "#using naiveBayes\n",
    "lr=LogisticRegression()\n",
    "lr.fit(X_train,y_train)\n",
    "y_pred=lr.predict(X_test)\n",
    "print(\"Accuracy_score:\",accuracy_score(y_test,y_pred))"
   ]
  },
  {
   "cell_type": "code",
   "execution_count": 62,
   "id": "08989b75-4825-42f7-9220-388a7fefde2c",
   "metadata": {},
   "outputs": [
    {
     "name": "stdout",
     "output_type": "stream",
     "text": [
      "{'n_neighbors': 7}\n",
      "-0.08822643859485543\n"
     ]
    }
   ],
   "source": [
    "from sklearn.model_selection import GridSearchCV \n",
    "from sklearn.model_selection import StratifiedKFold \n",
    "knn = KNeighborsClassifier()\n",
    "kfold = StratifiedKFold(n_splits=5, shuffle=True,\n",
    "                        random_state=23)\n",
    "\n",
    "params = {'n_neighbors': [1,3,5,7,9,11,13,15,17]}\n",
    "gcv = GridSearchCV(knn, param_grid=params,\n",
    "                   cv=kfold, scoring='neg_log_loss')\n",
    "gcv.fit(X, y)\n",
    "print(gcv.best_params_)\n",
    "print(gcv.best_score_)\n"
   ]
  },
  {
   "cell_type": "code",
   "execution_count": 64,
   "id": "a06a04b1-c9ec-4376-b327-fea9473c1e35",
   "metadata": {},
   "outputs": [
    {
     "name": "stdout",
     "output_type": "stream",
     "text": [
      "{'l1_ratio': 0.0, 'penalty': 'l1'}\n",
      "0.9800000000000001\n"
     ]
    }
   ],
   "source": [
    "\n",
    "\n",
    "lr=LogisticRegression(solver='saga')\n",
    "kfold=StratifiedKFold(n_splits=5,shuffle=True,random_state=23)\n",
    "params={'penalty':['l1','l2','elasticnet',None],\n",
    "        'l1_ratio':np.linspace(0,1,5)}\n",
    "\n",
    "gcv=GridSearchCV(lr,param_grid=params,cv=kfold)\n",
    "gcv.fit(X,y)\n",
    "print(gcv.best_params_)\n",
    "print(gcv.best_score_)\n"
   ]
  },
  {
   "cell_type": "code",
   "execution_count": null,
   "id": "45dca85a-f270-4824-83e5-b993f30a4df1",
   "metadata": {},
   "outputs": [],
   "source": []
  },
  {
   "cell_type": "code",
   "execution_count": null,
   "id": "bd0b5626-9458-40d0-8cc0-8c1d5c4a07bb",
   "metadata": {},
   "outputs": [],
   "source": []
  }
 ],
 "metadata": {
  "kernelspec": {
   "display_name": "Python 3 (ipykernel)",
   "language": "python",
   "name": "python3"
  },
  "language_info": {
   "codemirror_mode": {
    "name": "ipython",
    "version": 3
   },
   "file_extension": ".py",
   "mimetype": "text/x-python",
   "name": "python",
   "nbconvert_exporter": "python",
   "pygments_lexer": "ipython3",
   "version": "3.12.0"
  }
 },
 "nbformat": 4,
 "nbformat_minor": 5
}
