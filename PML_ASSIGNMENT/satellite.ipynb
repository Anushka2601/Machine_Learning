{
 "cells": [
  {
   "cell_type": "code",
   "execution_count": 31,
   "id": "68f50272-6d1b-486f-93c7-8b2604d8ed89",
   "metadata": {},
   "outputs": [],
   "source": [
    "import pandas as pd \n",
    "import numpy as np \n",
    "import matplotlib.pyplot as plt \n"
   ]
  },
  {
   "cell_type": "code",
   "execution_count": 32,
   "id": "b3edcb6c-b83c-4813-81fe-7cd151c3155e",
   "metadata": {},
   "outputs": [],
   "source": [
    "sat=pd.read_csv(\"D:\\\\codes\\\\Datasets\\\\Cases\\\\Satellite Imaging\\\\Satellite.csv\",sep=';')"
   ]
  },
  {
   "cell_type": "code",
   "execution_count": 58,
   "id": "bcf14605-db61-4888-b875-6e898591cd8c",
   "metadata": {},
   "outputs": [],
   "source": [
    "X=sat.drop([\"classes\"],axis=1).values"
   ]
  },
  {
   "cell_type": "code",
   "execution_count": 59,
   "id": "ad147744-351b-4789-a7df-b6a10ff86325",
   "metadata": {},
   "outputs": [
    {
     "data": {
      "text/plain": [
       "array([[ 92, 115, 120, ..., 107, 113,  87],\n",
       "       [ 84, 102, 106, ...,  99, 104,  79],\n",
       "       [ 84, 102, 102, ...,  99, 104,  79],\n",
       "       ...,\n",
       "       [ 56,  68,  91, ...,  83,  92,  74],\n",
       "       [ 56,  68,  87, ...,  83,  92,  70],\n",
       "       [ 60,  71,  91, ...,  79, 108,  92]], dtype=int64)"
      ]
     },
     "execution_count": 59,
     "metadata": {},
     "output_type": "execute_result"
    }
   ],
   "source": [
    "X"
   ]
  },
  {
   "cell_type": "code",
   "execution_count": 56,
   "id": "b08498b0-2e66-4dd8-b41e-487e46db32a0",
   "metadata": {},
   "outputs": [],
   "source": [
    "y=sat['classes'].values"
   ]
  },
  {
   "cell_type": "code",
   "execution_count": 57,
   "id": "bf475c68-ee0c-4d78-ab81-2f0dc6502031",
   "metadata": {},
   "outputs": [
    {
     "data": {
      "text/plain": [
       "array([2, 2, 2, ..., 4, 4, 4])"
      ]
     },
     "execution_count": 57,
     "metadata": {},
     "output_type": "execute_result"
    }
   ],
   "source": [
    "y"
   ]
  },
  {
   "cell_type": "code",
   "execution_count": 33,
   "id": "98a43e77-2d5d-40ed-b07b-25c9b7bcfc8c",
   "metadata": {},
   "outputs": [],
   "source": [
    "from sklearn.ensemble import GradientBoostingClassifier "
   ]
  },
  {
   "cell_type": "code",
   "execution_count": 40,
   "id": "0df05846-9e09-4001-8e66-8241d522feac",
   "metadata": {},
   "outputs": [],
   "source": [
    "from sklearn.model_selection import StratifiedKFold\n",
    "\n",
    "\n",
    "import matplotlib.pyplot as plt\n",
    "\n",
    "from sklearn.model_selection import GridSearchCV,KFold,StratifiedKFold\n",
    "#from sklearn.preprocessing import n_estimators\n",
    "import matplotlib.pyplot as plt"
   ]
  },
  {
   "cell_type": "code",
   "execution_count": 41,
   "id": "dbda3c18-e53a-488c-871d-c8ad987f1216",
   "metadata": {},
   "outputs": [],
   "source": [
    "from xgboost import XGBClassifier"
   ]
  },
  {
   "cell_type": "code",
   "execution_count": 42,
   "id": "50283e7c-cdc4-47b9-90a6-f17391fabf2d",
   "metadata": {},
   "outputs": [],
   "source": [
    "from sklearn.preprocessing import LabelEncoder"
   ]
  },
  {
   "cell_type": "code",
   "execution_count": 60,
   "id": "104d226b-5516-4db8-990a-4659a4a6c164",
   "metadata": {},
   "outputs": [],
   "source": [
    "xgb=XGBClassifier(random_state=23)"
   ]
  },
  {
   "cell_type": "code",
   "execution_count": 61,
   "id": "1b128181-42ff-4375-af60-721196fdbc3d",
   "metadata": {},
   "outputs": [],
   "source": [
    "from sklearn import preprocessing"
   ]
  },
  {
   "cell_type": "code",
   "execution_count": 62,
   "id": "fdde2ade-75e7-4e4c-a6e6-a57263b7f1e0",
   "metadata": {},
   "outputs": [],
   "source": [
    "label_encoder=LabelEncoder()"
   ]
  },
  {
   "cell_type": "code",
   "execution_count": 46,
   "id": "da7ae26f-cd79-4b4f-9ec6-db4f564e8321",
   "metadata": {},
   "outputs": [],
   "source": [
    "sat['classes']= label_encoder.fit_transform(sat['classes']) "
   ]
  },
  {
   "cell_type": "code",
   "execution_count": 64,
   "id": "18aa8fa0-c5da-451d-9133-b9a1965e68f5",
   "metadata": {},
   "outputs": [
    {
     "name": "stdout",
     "output_type": "stream",
     "text": [
      "{'learning_rate': 0.17575, 'max_depth': 5, 'n_estimators': 75}\n"
     ]
    }
   ],
   "source": [
    "\n",
    "kfold=StratifiedKFold(n_splits=5,random_state=23,shuffle=True)\n",
    "params={'n_estimators':[25,50,75],'learning_rate':np.linspace(0.001,0.7,5),'max_depth':[None,2,3,5]}\n",
    "\n",
    "gcv=GridSearchCV(xgb,param_grid=params,cv=kfold,scoring='neg_log_loss')\n",
    "gcv.fit(X,y)\n",
    "\n",
    "print(gcv.best_params_)\n"
   ]
  },
  {
   "cell_type": "code",
   "execution_count": 65,
   "id": "8fbcd3ea-61aa-4aa9-8432-7dcdec66fae9",
   "metadata": {},
   "outputs": [
    {
     "name": "stdout",
     "output_type": "stream",
     "text": [
      "-0.2332634730947914\n"
     ]
    }
   ],
   "source": [
    "print(gcv.best_score_)"
   ]
  },
  {
   "cell_type": "code",
   "execution_count": null,
   "id": "db504a34-7570-4ea5-8f7e-84d497aa297a",
   "metadata": {},
   "outputs": [],
   "source": []
  }
 ],
 "metadata": {
  "kernelspec": {
   "display_name": "Python 3 (ipykernel)",
   "language": "python",
   "name": "python3"
  },
  "language_info": {
   "codemirror_mode": {
    "name": "ipython",
    "version": 3
   },
   "file_extension": ".py",
   "mimetype": "text/x-python",
   "name": "python",
   "nbconvert_exporter": "python",
   "pygments_lexer": "ipython3",
   "version": "3.12.1"
  }
 },
 "nbformat": 4,
 "nbformat_minor": 5
}
