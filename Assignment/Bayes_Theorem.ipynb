{
 "cells": [
  {
   "cell_type": "code",
   "execution_count": 1,
   "id": "3ed9a149-b9d9-4092-acf4-7bfcd4c0715c",
   "metadata": {},
   "outputs": [],
   "source": [
    "import numpy as np "
   ]
  },
  {
   "cell_type": "code",
   "execution_count": 3,
   "id": "1c223c30-59b6-4ed3-99c3-475005c5fc80",
   "metadata": {},
   "outputs": [
    {
     "name": "stdout",
     "output_type": "stream",
     "text": [
      "Prior Probability of Disease: 0.01\n",
      "Likelihood of Positive Test Given Disease: 0.95\n",
      "Likelihood of Positive Test Given No Disease: 0.05\n",
      "Marginal Likelihood of Positive Test: 0.059000000000000004\n",
      "Posterior Probability of Disease Given Positive Test: 0.16101694915254236\n"
     ]
    }
   ],
   "source": [
    "def bayes_theorem(prior_prob,likelihood,marginal_likelihood):\n",
    "    posterior_prob=(likelihood*prior_prob)/marginal_likelihood\n",
    "    return posterior_prob \n",
    "\n",
    "#given probablities \n",
    "\n",
    "prior_prob_disease=0.01\n",
    "likelihood_positive_given_disease=0.95\n",
    "likelihood_positive_given_no_disease=0.05\n",
    "\n",
    "#calculate the mmarginal likelihood \n",
    "\n",
    "marginal_likelihood_positive=(likelihood_positive_given_disease*prior_prob_disease)+(likelihood_positive_given_no_disease*(1-prior_prob_disease))\n",
    "\n",
    "# Use Bayes' theorem to calculate the posterior probability\n",
    "posterior_prob_disease_given_positive = bayes_theorem(prior_prob_disease, likelihood_positive_given_disease, marginal_likelihood_positive)\n",
    "\n",
    "# Print the results\n",
    "print(f\"Prior Probability of Disease: {prior_prob_disease}\")\n",
    "print(f\"Likelihood of Positive Test Given Disease: {likelihood_positive_given_disease}\")\n",
    "print(f\"Likelihood of Positive Test Given No Disease: {likelihood_positive_given_no_disease}\")\n",
    "print(f\"Marginal Likelihood of Positive Test: {marginal_likelihood_positive}\")\n",
    "print(f\"Posterior Probability of Disease Given Positive Test: {posterior_prob_disease_given_positive}\")\n",
    "\n"
   ]
  },
  {
   "cell_type": "code",
   "execution_count": null,
   "id": "8636b2b8-b55a-4cc4-b253-bd9f5d8a0984",
   "metadata": {},
   "outputs": [],
   "source": []
  }
 ],
 "metadata": {
  "kernelspec": {
   "display_name": "Python 3 (ipykernel)",
   "language": "python",
   "name": "python3"
  },
  "language_info": {
   "codemirror_mode": {
    "name": "ipython",
    "version": 3
   },
   "file_extension": ".py",
   "mimetype": "text/x-python",
   "name": "python",
   "nbconvert_exporter": "python",
   "pygments_lexer": "ipython3",
   "version": "3.12.0"
  }
 },
 "nbformat": 4,
 "nbformat_minor": 5
}
