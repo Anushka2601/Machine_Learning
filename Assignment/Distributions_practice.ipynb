{
 "cells": [
  {
   "cell_type": "markdown",
   "id": "ca7e215e-4fa2-4bf0-9759-ee8f0a661eb8",
   "metadata": {},
   "source": [
    "Binomial Distribution "
   ]
  },
  {
   "cell_type": "markdown",
   "id": "a4515b71-1bd6-4b2c-b5d9-5800f5bb1526",
   "metadata": {},
   "source": [
    "Fashion Trend online is an e-commerce company that sells women apparel . it is observed that 10% of their customer returns the item purchase by them for many reasons ,on a specific day 20 customers purchase the fto .<br>\n",
    "1]exactly 5 customer will return the item .<br>\n",
    "2]maximum of 5 customer will return the item.<br>\n",
    "3]more than 5 customer will return the item ."
   ]
  },
  {
   "cell_type": "code",
   "execution_count": 26,
   "id": "97586a12-b812-494a-80cd-561eb921eecc",
   "metadata": {},
   "outputs": [],
   "source": [
    "import numpy as np \n",
    "import pandas as pd \n",
    "from scipy.stats import binom \n",
    "import scipy.stats as stats\n",
    "from scipy.stats import poisson\n",
    "from scipy.stats import expon"
   ]
  },
  {
   "cell_type": "code",
   "execution_count": 8,
   "id": "3a203897-a865-46cd-8e62-c1291cb3b020",
   "metadata": {},
   "outputs": [
    {
     "name": "stdout",
     "output_type": "stream",
     "text": [
      "probablity of exactly 5 customer will return the item is  0.031921361119954424\n"
     ]
    }
   ],
   "source": [
    "p=0.1\n",
    "n=20\n",
    "x=5\n",
    "res=binom.pmf(5,20,0.1)\n",
    "print(\"probablity of exactly 5 customer will return the item is \",res)\n"
   ]
  },
  {
   "cell_type": "code",
   "execution_count": 9,
   "id": "0b6e5929-503d-46c0-864f-63c15b243526",
   "metadata": {},
   "outputs": [
    {
     "name": "stdout",
     "output_type": "stream",
     "text": [
      "probablity of maximum 5 customer will return the item is 0.988746865835491\n"
     ]
    }
   ],
   "source": [
    "#maximum of 5 customer i.e. <6 \n",
    "\n",
    "res=binom.cdf(5,20,0.1)\n",
    "print(\"probablity of maximum 5 customer will return the item is\",res)"
   ]
  },
  {
   "cell_type": "code",
   "execution_count": 10,
   "id": "eaa1e97d-9991-4c79-9f18-4a6cc942391b",
   "metadata": {},
   "outputs": [
    {
     "name": "stdout",
     "output_type": "stream",
     "text": [
      "probablity of getting more then 5 is  0.011253134164509015\n"
     ]
    }
   ],
   "source": [
    "# more than 5 customer wi; return the item .....\n",
    "#prbablity of more than 5 items means 1-probablity of maximum 5 customer will return the item \n",
    "\n",
    "res1=1-binom.cdf(5,20,0.1)\n",
    "print(\"probablity of getting more then 5 is \",res1)"
   ]
  },
  {
   "cell_type": "code",
   "execution_count": 11,
   "id": "80db9beb-01ca-48f2-b8ac-2845bd6034c3",
   "metadata": {},
   "outputs": [
    {
     "data": {
      "text/plain": [
       "0.011253134164509019"
      ]
     },
     "execution_count": 11,
     "metadata": {},
     "output_type": "execute_result"
    }
   ],
   "source": [
    "res2=binom.sf(5,20,0.1)\n",
    "res2"
   ]
  },
  {
   "cell_type": "code",
   "execution_count": 18,
   "id": "73bba908-98d4-41dc-be7f-1f8f853490a6",
   "metadata": {},
   "outputs": [
    {
     "name": "stdout",
     "output_type": "stream",
     "text": [
      "mean is :  2.0 variance is : 1.8\n"
     ]
    }
   ],
   "source": [
    "# to get mean and variance \n",
    "\n",
    "mean,var=stats.binom.stats(20,0.1)\n",
    "print(\"mean is : \",mean ,\"variance is :\",var)"
   ]
  },
  {
   "cell_type": "markdown",
   "id": "5bbb9572-0881-4a1d-9db6-616e9279947c",
   "metadata": {},
   "source": [
    "Poisson Distribution "
   ]
  },
  {
   "cell_type": "markdown",
   "id": "f669a233-a38d-445f-8694-3ef5df09ad37",
   "metadata": {},
   "source": [
    "The number of call arriving at a call center follows a poisson distribution at 10 calls per hour .<br>\n",
    "1]calculate the probablity that the number of calls will be maximum 5<br>\n",
    "2]calculate the probablity that the number of calls over a 3 hour period will exceed 30.<br>"
   ]
  },
  {
   "cell_type": "code",
   "execution_count": 21,
   "id": "4f1514c2-2730-4799-9ae6-509c31bfc604",
   "metadata": {},
   "outputs": [
    {
     "name": "stdout",
     "output_type": "stream",
     "text": [
      "probablity of number of calls will be maximum is : 0.06708596287903189\n"
     ]
    }
   ],
   "source": [
    "x<6\n",
    "n=10 \n",
    "\n",
    "res=poisson.cdf(5,10)\n",
    "print(\"probablity of number of calls will be maximum is :\",res)\n"
   ]
  },
  {
   "cell_type": "code",
   "execution_count": 23,
   "id": "d7073992-fb94-4ae5-b90c-d3085ca9de01",
   "metadata": {},
   "outputs": [
    {
     "name": "stdout",
     "output_type": "stream",
     "text": [
      "probablity of that the number of calls over a 3 hr period will be: 0.45164848742208863\n"
     ]
    }
   ],
   "source": [
    "x>=30 \n",
    "res2=1-poisson.cdf(30,30)\n",
    "\n",
    "print(\"probablity of that the number of calls over a 3 hr period will be:\",res2)"
   ]
  },
  {
   "cell_type": "code",
   "execution_count": 24,
   "id": "ab72316c-cb2c-4a65-9ab1-4c33ae145107",
   "metadata": {},
   "outputs": [
    {
     "data": {
      "text/plain": [
       "7.983794659911252e-08"
      ]
     },
     "execution_count": 24,
     "metadata": {},
     "output_type": "execute_result"
    }
   ],
   "source": [
    "res3=poisson.sf(30,10)"
   ]
  },
  {
   "cell_type": "markdown",
   "id": "e66d6f5e-c083-4ca4-b0b4-c57708e1d36a",
   "metadata": {},
   "source": [
    "Exponential Distribution "
   ]
  },
  {
   "cell_type": "markdown",
   "id": "e7f8fe6e-9d72-4658-9673-335a54f8828d",
   "metadata": {},
   "source": [
    "The time to failure of an aionic system follows an exponential distribution with a mean time between failures(MTBF) of 1000 hours.calculate <br>\n",
    "1]The probablity that the system will fail before 1000 hours<br>\n",
    "2]the probablity that will not fail upto 2000 hours<br>\n",
    "3]the time by which 10% of the system will fail(i.e. calculate P10 life)."
   ]
  },
  {
   "cell_type": "code",
   "execution_count": 27,
   "id": "8257daaa-13cf-4b14-8eb9-30d8071fa15b",
   "metadata": {},
   "outputs": [
    {
     "data": {
      "text/plain": [
       "0.6321201909489325"
      ]
     },
     "execution_count": 27,
     "metadata": {},
     "output_type": "execute_result"
    }
   ],
   "source": [
    "res=expon.cdf(1000,1/1000,1000)\n",
    "res"
   ]
  },
  {
   "cell_type": "code",
   "execution_count": 28,
   "id": "09cf90a2-2bed-4ca1-8ea0-83c5ec2ac851",
   "metadata": {},
   "outputs": [
    {
     "data": {
      "text/plain": [
       "0.8646645814280364"
      ]
     },
     "execution_count": 28,
     "metadata": {},
     "output_type": "execute_result"
    }
   ],
   "source": [
    "res2=expon.cdf(2000,1/1000,1000)\n",
    "res2"
   ]
  },
  {
   "cell_type": "code",
   "execution_count": 29,
   "id": "d4ca7c25-b0c0-497a-8f63-3f086d439b06",
   "metadata": {},
   "outputs": [
    {
     "data": {
      "text/plain": [
       "105.36151565782632"
      ]
     },
     "execution_count": 29,
     "metadata": {},
     "output_type": "execute_result"
    }
   ],
   "source": [
    "res3=expon.ppf(0.1,1/1000,1000)\n",
    "res3"
   ]
  },
  {
   "cell_type": "code",
   "execution_count": null,
   "id": "6abb1d71-2749-4b99-812a-0a9822a0d148",
   "metadata": {},
   "outputs": [],
   "source": []
  }
 ],
 "metadata": {
  "kernelspec": {
   "display_name": "Python 3 (ipykernel)",
   "language": "python",
   "name": "python3"
  },
  "language_info": {
   "codemirror_mode": {
    "name": "ipython",
    "version": 3
   },
   "file_extension": ".py",
   "mimetype": "text/x-python",
   "name": "python",
   "nbconvert_exporter": "python",
   "pygments_lexer": "ipython3",
   "version": "3.12.0"
  }
 },
 "nbformat": 4,
 "nbformat_minor": 5
}
