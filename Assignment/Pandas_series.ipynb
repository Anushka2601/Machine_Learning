{
 "cells": [
  {
   "cell_type": "code",
   "execution_count": 1,
   "id": "18496bef-f10f-4ea5-9759-21037146b7be",
   "metadata": {},
   "outputs": [],
   "source": [
    "import numpy as np\n"
   ]
  },
  {
   "cell_type": "code",
   "execution_count": 2,
   "id": "522d37f1-55f8-4582-ad18-96d466743e18",
   "metadata": {},
   "outputs": [],
   "source": [
    "import pandas as pd"
   ]
  },
  {
   "cell_type": "code",
   "execution_count": 3,
   "id": "251c620a-a3a6-4a92-98cf-d91d4f930276",
   "metadata": {},
   "outputs": [
    {
     "name": "stdout",
     "output_type": "stream",
     "text": [
      "0    89\n",
      "1    45\n",
      "2    65\n",
      "3    78\n",
      "4    41\n",
      "dtype: int64\n"
     ]
    }
   ],
   "source": [
    "l=[89,45,65,78,41]\n",
    "s=pd.Series(l)\n",
    "print(s)"
   ]
  },
  {
   "cell_type": "code",
   "execution_count": 4,
   "id": "fe8b52e6-0bc4-4ba7-8234-bd1593dd2657",
   "metadata": {},
   "outputs": [
    {
     "name": "stdout",
     "output_type": "stream",
     "text": [
      "a    89\n",
      "b    45\n",
      "c    65\n",
      "d    78\n",
      "e    41\n",
      "dtype: int64\n"
     ]
    }
   ],
   "source": [
    "l=[89,45,65,78,41]\n",
    "s=pd.Series(l,index=['a','b','c','d','e'])\n",
    "print(s)"
   ]
  },
  {
   "cell_type": "code",
   "execution_count": 5,
   "id": "3db0ca86-b294-48f4-bb3f-280457dc042a",
   "metadata": {},
   "outputs": [
    {
     "name": "stdout",
     "output_type": "stream",
     "text": [
      "2.1.2\n"
     ]
    }
   ],
   "source": [
    "print(pd.__version__)"
   ]
  },
  {
   "cell_type": "code",
   "execution_count": 6,
   "id": "5b892150-a965-4c3f-821c-33e50cf751e9",
   "metadata": {},
   "outputs": [
    {
     "name": "stdout",
     "output_type": "stream",
     "text": [
      "0    78\n",
      "1    89\n",
      "2    52\n",
      "3    46\n",
      "4    12\n",
      "dtype: int64\n"
     ]
    }
   ],
   "source": [
    "tup=(78,89,52,46,12)\n",
    "s=pd.Series(tup)\n",
    "print(s)"
   ]
  },
  {
   "cell_type": "code",
   "execution_count": 7,
   "id": "63c0d603-0d3b-4614-bb58-9f4718a0c816",
   "metadata": {},
   "outputs": [
    {
     "name": "stdout",
     "output_type": "stream",
     "text": [
      "1    78\n",
      "2    89\n",
      "3    52\n",
      "4    46\n",
      "5    12\n",
      "dtype: int64\n"
     ]
    }
   ],
   "source": [
    "tup=(78,89,52,46,12)\n",
    "s=pd.Series(tup,index=[1,2,3,4,5])\n",
    "print(s)"
   ]
  },
  {
   "cell_type": "code",
   "execution_count": 8,
   "id": "9b97f05d-ab60-4d87-a13b-4e2404ac6425",
   "metadata": {},
   "outputs": [
    {
     "name": "stdout",
     "output_type": "stream",
     "text": [
      "1     10\n",
      "2     11\n",
      "3     12\n",
      "4     13\n",
      "5     14\n",
      "6     15\n",
      "7     16\n",
      "8     17\n",
      "9     18\n",
      "10    19\n",
      "dtype: int32\n"
     ]
    }
   ],
   "source": [
    "p=np.arange(10,20)\n",
    "q=pd.Series(p,index=[1,2,3,4,5,6,7,8,9,10])\n",
    "print(q)"
   ]
  },
  {
   "cell_type": "markdown",
   "id": "9829a9d3-a2bf-4024-8672-c37ff7160e29",
   "metadata": {},
   "source": [
    "Accessing series values"
   ]
  },
  {
   "cell_type": "code",
   "execution_count": 9,
   "id": "10d35cae-9a12-4cee-83fa-566f539495a6",
   "metadata": {},
   "outputs": [
    {
     "name": "stdout",
     "output_type": "stream",
     "text": [
      "<class 'pandas.core.series.Series'>\n",
      "Index: 10 entries, 1 to 10\n",
      "Series name: None\n",
      "Non-Null Count  Dtype\n",
      "--------------  -----\n",
      "10 non-null     int32\n",
      "dtypes: int32(1)\n",
      "memory usage: 120.0 bytes\n"
     ]
    }
   ],
   "source": [
    "q.info()"
   ]
  },
  {
   "cell_type": "code",
   "execution_count": 10,
   "id": "b7799f18-f4c6-459d-bebe-21091ff6e47e",
   "metadata": {},
   "outputs": [
    {
     "name": "stdout",
     "output_type": "stream",
     "text": [
      "a    10\n",
      "b    11\n",
      "c    12\n",
      "d    13\n",
      "e    14\n",
      "f    15\n",
      "g    16\n",
      "h    17\n",
      "i    18\n",
      "j    19\n",
      "dtype: int32\n"
     ]
    }
   ],
   "source": [
    "p=np.arange(10,20)\n",
    "q=pd.Series(p,index=['a','b','c','d','e','f','g','h','i','j'])\n",
    "print(q)"
   ]
  },
  {
   "cell_type": "code",
   "execution_count": 11,
   "id": "1542aae7-315e-498f-83d9-996d8cd0417c",
   "metadata": {},
   "outputs": [
    {
     "name": "stdout",
     "output_type": "stream",
     "text": [
      "a     45\n",
      "b     89\n",
      "c    100\n",
      "dtype: int64\n"
     ]
    }
   ],
   "source": [
    "d={'a':45,'b':89,'c':100}\n",
    "d2=pd.Series(d)\n",
    "print(d2)"
   ]
  },
  {
   "cell_type": "code",
   "execution_count": 12,
   "id": "0bb20c32-8eb8-469f-b317-f05fe4c44127",
   "metadata": {},
   "outputs": [
    {
     "name": "stdout",
     "output_type": "stream",
     "text": [
      "a     45\n",
      "b     89\n",
      "c    100\n",
      "dtype: int64\n"
     ]
    }
   ],
   "source": [
    "print(d2)"
   ]
  },
  {
   "cell_type": "code",
   "execution_count": 13,
   "id": "3640c8e2-c765-49f8-9b0a-3e133db7f687",
   "metadata": {},
   "outputs": [
    {
     "name": "stderr",
     "output_type": "stream",
     "text": [
      "C:\\Users\\Lenovo\\AppData\\Local\\Temp\\ipykernel_22684\\2956578697.py:1: FutureWarning: Series.__getitem__ treating keys as positions is deprecated. In a future version, integer keys will always be treated as labels (consistent with DataFrame behavior). To access a value by position, use `ser.iloc[pos]`\n",
      "  d2[2]\n"
     ]
    },
    {
     "data": {
      "text/plain": [
       "100"
      ]
     },
     "execution_count": 13,
     "metadata": {},
     "output_type": "execute_result"
    }
   ],
   "source": [
    "d2[2]"
   ]
  },
  {
   "cell_type": "markdown",
   "id": "7fe16a5b-98ef-4177-8fa8-9e05699e656d",
   "metadata": {},
   "source": [
    "Que 1 write a pandas program to add,subtract,multiple and divide two pandas series"
   ]
  },
  {
   "cell_type": "code",
   "execution_count": 14,
   "id": "22f54850-a672-4131-9b0b-f5985f346042",
   "metadata": {},
   "outputs": [
    {
     "name": "stdout",
     "output_type": "stream",
     "text": [
      "a     45\n",
      "b     89\n",
      "c    100\n",
      "dtype: int64\n",
      "-----------------------------------------------------\n",
      "a     89\n",
      "b    112\n",
      "c    185\n",
      "dtype: int64\n"
     ]
    }
   ],
   "source": [
    "d={'a':45,'b':89,'c':100}\n",
    "d2=pd.Series(d)\n",
    "print(d2)\n",
    "print(\"-----------------------------------------------------\")\n",
    "d={'a':89,'b':112,'c':185}\n",
    "d3=pd.Series(d)\n",
    "print(d3)"
   ]
  },
  {
   "cell_type": "code",
   "execution_count": 15,
   "id": "d230b29f-f1ee-47c8-8a06-b0a3cb2107f7",
   "metadata": {},
   "outputs": [
    {
     "name": "stdout",
     "output_type": "stream",
     "text": [
      "a    134\n",
      "b    201\n",
      "c    285\n",
      "dtype: int64\n"
     ]
    }
   ],
   "source": [
    "print(d2.add(d3))"
   ]
  },
  {
   "cell_type": "code",
   "execution_count": 16,
   "id": "f6306aaa-0e96-45bd-bc13-fc6afc1e7512",
   "metadata": {},
   "outputs": [
    {
     "name": "stdout",
     "output_type": "stream",
     "text": [
      "a   -44\n",
      "b   -23\n",
      "c   -85\n",
      "dtype: int64\n"
     ]
    }
   ],
   "source": [
    "print(d2.sub(d3))"
   ]
  },
  {
   "cell_type": "code",
   "execution_count": 17,
   "id": "b6cacc7a-21d8-46a7-b392-858f7f09bf91",
   "metadata": {},
   "outputs": [
    {
     "name": "stdout",
     "output_type": "stream",
     "text": [
      "a     4005\n",
      "b     9968\n",
      "c    18500\n",
      "dtype: int64\n"
     ]
    }
   ],
   "source": [
    "print(d2.mul(d3))"
   ]
  },
  {
   "cell_type": "code",
   "execution_count": 18,
   "id": "22d4c512-1875-47b2-b5e2-abf3d8acc8c3",
   "metadata": {},
   "outputs": [
    {
     "name": "stdout",
     "output_type": "stream",
     "text": [
      "a    0.505618\n",
      "b    0.794643\n",
      "c    0.540541\n",
      "dtype: float64\n"
     ]
    }
   ],
   "source": [
    "print(d2.div(d3))"
   ]
  },
  {
   "cell_type": "code",
   "execution_count": 19,
   "id": "1da2f3de-0cdf-4c80-b2c0-fae5f8ac4383",
   "metadata": {},
   "outputs": [
    {
     "name": "stdout",
     "output_type": "stream",
     "text": [
      "a    0\n",
      "b    0\n",
      "c    0\n",
      "dtype: int64\n"
     ]
    }
   ],
   "source": [
    "print(d2//d3)"
   ]
  },
  {
   "cell_type": "code",
   "execution_count": 20,
   "id": "f4ef97bf-8397-4bf0-8342-6ddc35ea5bb4",
   "metadata": {},
   "outputs": [
    {
     "name": "stdout",
     "output_type": "stream",
     "text": [
      "a    44\n",
      "b    23\n",
      "c    85\n",
      "dtype: int64\n"
     ]
    }
   ],
   "source": [
    "print(d3%d2)"
   ]
  },
  {
   "cell_type": "markdown",
   "id": "65b5ddb1-58e5-46d3-8085-76e5df9ad8bb",
   "metadata": {},
   "source": [
    "write aprogram to convert the dictonary into pandas series"
   ]
  },
  {
   "cell_type": "code",
   "execution_count": 21,
   "id": "0185b784-8a5d-4ee8-83d8-6af9798a0e17",
   "metadata": {},
   "outputs": [
    {
     "name": "stdout",
     "output_type": "stream",
     "text": [
      "a     45\n",
      "b     89\n",
      "c    100\n",
      "dtype: int64\n"
     ]
    }
   ],
   "source": [
    "d={'a':45,'b':89,'c':100}\n",
    "d2=pd.Series(d)\n",
    "print(d2)"
   ]
  },
  {
   "cell_type": "markdown",
   "id": "e373aa7b-2824-4226-8490-01aa71466a90",
   "metadata": {},
   "source": [
    "write aprogram to convert a numpy array to a pandas series"
   ]
  },
  {
   "cell_type": "code",
   "execution_count": 22,
   "id": "8f920917-e35d-4d8e-9ac9-60c312845844",
   "metadata": {},
   "outputs": [
    {
     "name": "stdout",
     "output_type": "stream",
     "text": [
      "0     10\n",
      "1     11\n",
      "2     12\n",
      "3     13\n",
      "4     14\n",
      "5     15\n",
      "6     16\n",
      "7     17\n",
      "8     18\n",
      "9     19\n",
      "10    20\n",
      "11    21\n",
      "12    22\n",
      "13    23\n",
      "14    24\n",
      "15    25\n",
      "16    26\n",
      "17    27\n",
      "18    28\n",
      "19    29\n",
      "dtype: int32\n"
     ]
    }
   ],
   "source": [
    "d=np.arange(10,30)\n",
    "d3=pd.Series(d)\n",
    "print(d3)"
   ]
  },
  {
   "cell_type": "markdown",
   "id": "7cdb3098-3306-4f7d-b751-2deaf4040ca8",
   "metadata": {},
   "source": [
    "write a pandas program to create a subset of a given based on a value and condition "
   ]
  },
  {
   "cell_type": "code",
   "execution_count": 23,
   "id": "dfcdec7b-a90f-4ae4-9ff5-690650f0c843",
   "metadata": {},
   "outputs": [
    {
     "name": "stdout",
     "output_type": "stream",
     "text": [
      "0      0\n",
      "1      1\n",
      "2      2\n",
      "3      3\n",
      "4      4\n",
      "5      5\n",
      "6      6\n",
      "7      7\n",
      "8      8\n",
      "9      9\n",
      "10    10\n",
      "dtype: int32\n"
     ]
    }
   ],
   "source": [
    "arr=np.arange(0,11)\n",
    "d4=pd.Series(arr)\n",
    "print(d4)"
   ]
  },
  {
   "cell_type": "code",
   "execution_count": 24,
   "id": "bbebd9f5-b21d-474b-8b73-2a3cf7bade38",
   "metadata": {},
   "outputs": [
    {
     "data": {
      "text/plain": [
       "0    0\n",
       "1    1\n",
       "2    2\n",
       "3    3\n",
       "4    4\n",
       "5    5\n",
       "dtype: int32"
      ]
     },
     "execution_count": 24,
     "metadata": {},
     "output_type": "execute_result"
    }
   ],
   "source": [
    "#subset of the above data series \n",
    "\n",
    "d4[:6]"
   ]
  },
  {
   "cell_type": "code",
   "execution_count": 25,
   "id": "53c95103-3de9-41b6-b5aa-f9dce02d54a4",
   "metadata": {},
   "outputs": [
    {
     "data": {
      "text/plain": [
       "0    0\n",
       "1    1\n",
       "2    2\n",
       "3    3\n",
       "4    4\n",
       "5    5\n",
       "dtype: int32"
      ]
     },
     "execution_count": 25,
     "metadata": {},
     "output_type": "execute_result"
    }
   ],
   "source": [
    "d4.iloc[:6]"
   ]
  },
  {
   "cell_type": "code",
   "execution_count": 26,
   "id": "8c832c0b-884f-4d51-99e3-7f3d24e63a1f",
   "metadata": {},
   "outputs": [
    {
     "name": "stdout",
     "output_type": "stream",
     "text": [
      "0     10\n",
      "1     11\n",
      "2     12\n",
      "3     13\n",
      "4     14\n",
      "5     15\n",
      "6     16\n",
      "7     17\n",
      "8     18\n",
      "9     19\n",
      "10    20\n",
      "11    21\n",
      "12    22\n",
      "13    23\n",
      "14    24\n",
      "15    25\n",
      "16    26\n",
      "17    27\n",
      "18    28\n",
      "19    29\n",
      "dtype: int32\n",
      "----------------------------------------------------------------------\n",
      "min value is  10\n",
      "-----------------------------------------------------------------\n",
      "max value is  29\n",
      "------------------------------------------------------\n",
      "sum is 390\n"
     ]
    }
   ],
   "source": [
    "d=np.arange(10,30)\n",
    "d3=pd.Series(d)\n",
    "print(d3)\n",
    "print(\"----------------------------------------------------------------------\")\n",
    "\n",
    "print(\"min value is \",min(d3))\n",
    "\n",
    "print(\"-----------------------------------------------------------------\")\n",
    "print(\"max value is \",max(d3))\n",
    "\n",
    "print(\"------------------------------------------------------\")\n",
    "\n",
    "print(\"sum is\",sum(d3))\n",
    "\n"
   ]
  },
  {
   "cell_type": "markdown",
   "id": "90c97783-2f5d-495b-800f-5a9d71f7c85a",
   "metadata": {},
   "source": [
    "DATAFRAME"
   ]
  },
  {
   "cell_type": "markdown",
   "id": "c73ec82e-ee2c-4c73-b2de-f4d60147a848",
   "metadata": {},
   "source": [
    "que-1 sample python dict. data and list labels\n"
   ]
  },
  {
   "cell_type": "code",
   "execution_count": 27,
   "id": "275417a4-7938-4872-8ca7-ce69b4d43354",
   "metadata": {},
   "outputs": [
    {
     "name": "stdout",
     "output_type": "stream",
     "text": [
      "       name qualify  score\n",
      "a      Sonu     yes   12.5\n",
      "b      Raja      no    9.0\n",
      "c    Ketaki     yes   16.5\n",
      "d      Rupa      no    NaN\n",
      "e     Radha      no    9.0\n",
      "f    Reshma     yes   20.0\n",
      "g    Keshav     yes   14.5\n",
      "h  Narendra      no    NaN\n",
      "i      Rani      no    8.0\n",
      "j     Kittu     yes   19.0\n"
     ]
    }
   ],
   "source": [
    "exam_data={'name':['Sonu','Raja','Ketaki','Rupa','Radha','Reshma','Keshav','Narendra','Rani','Kittu'],'qualify':['yes','no','yes','no','no','yes','yes','no','no','yes'],'score':[12.5,9,16.5,np.nan,9,20,14.5,np.nan,8,19],'qualify':['yes','no','yes','no','no','yes','yes','no','no','yes']}\n",
    "labels=['a','b','c','d','e','f','g','h','i','j']\n",
    "\n",
    "d=pd.DataFrame(exam_data,labels)\n",
    "print(d)\n",
    "\n"
   ]
  },
  {
   "cell_type": "markdown",
   "id": "a585a968-4058-4956-896b-56b4319c12bb",
   "metadata": {},
   "source": [
    "Question 2"
   ]
  },
  {
   "cell_type": "code",
   "execution_count": 28,
   "id": "e228410a-47ca-4fb6-bb60-a65753366327",
   "metadata": {},
   "outputs": [
    {
     "name": "stdout",
     "output_type": "stream",
     "text": [
      "<class 'pandas.core.frame.DataFrame'>\n",
      "Index: 10 entries, a to j\n",
      "Data columns (total 3 columns):\n",
      " #   Column   Non-Null Count  Dtype  \n",
      "---  ------   --------------  -----  \n",
      " 0   name     10 non-null     object \n",
      " 1   qualify  10 non-null     object \n",
      " 2   score    8 non-null      float64\n",
      "dtypes: float64(1), object(2)\n",
      "memory usage: 320.0+ bytes\n"
     ]
    }
   ],
   "source": [
    "d.info()"
   ]
  },
  {
   "cell_type": "markdown",
   "id": "8e70abc1-d277-4eed-b596-222d7ca6df8d",
   "metadata": {},
   "source": [
    "Question3"
   ]
  },
  {
   "cell_type": "code",
   "execution_count": 29,
   "id": "2fafe3b0-082c-491c-96c5-74f52e8ff6b6",
   "metadata": {},
   "outputs": [
    {
     "data": {
      "text/html": [
       "<div>\n",
       "<style scoped>\n",
       "    .dataframe tbody tr th:only-of-type {\n",
       "        vertical-align: middle;\n",
       "    }\n",
       "\n",
       "    .dataframe tbody tr th {\n",
       "        vertical-align: top;\n",
       "    }\n",
       "\n",
       "    .dataframe thead th {\n",
       "        text-align: right;\n",
       "    }\n",
       "</style>\n",
       "<table border=\"1\" class=\"dataframe\">\n",
       "  <thead>\n",
       "    <tr style=\"text-align: right;\">\n",
       "      <th></th>\n",
       "      <th>name</th>\n",
       "      <th>qualify</th>\n",
       "      <th>score</th>\n",
       "    </tr>\n",
       "  </thead>\n",
       "  <tbody>\n",
       "    <tr>\n",
       "      <th>a</th>\n",
       "      <td>Sonu</td>\n",
       "      <td>yes</td>\n",
       "      <td>12.5</td>\n",
       "    </tr>\n",
       "    <tr>\n",
       "      <th>b</th>\n",
       "      <td>Raja</td>\n",
       "      <td>no</td>\n",
       "      <td>9.0</td>\n",
       "    </tr>\n",
       "    <tr>\n",
       "      <th>c</th>\n",
       "      <td>Ketaki</td>\n",
       "      <td>yes</td>\n",
       "      <td>16.5</td>\n",
       "    </tr>\n",
       "  </tbody>\n",
       "</table>\n",
       "</div>"
      ],
      "text/plain": [
       "     name qualify  score\n",
       "a    Sonu     yes   12.5\n",
       "b    Raja      no    9.0\n",
       "c  Ketaki     yes   16.5"
      ]
     },
     "execution_count": 29,
     "metadata": {},
     "output_type": "execute_result"
    }
   ],
   "source": [
    "d.head(3)"
   ]
  },
  {
   "cell_type": "markdown",
   "id": "9221a842-16f5-43dc-8ac7-db543c0f75d6",
   "metadata": {},
   "source": [
    "Question4"
   ]
  },
  {
   "cell_type": "code",
   "execution_count": 30,
   "id": "09948981-d443-474b-8b76-b96e21578bcf",
   "metadata": {},
   "outputs": [
    {
     "data": {
      "text/html": [
       "<div>\n",
       "<style scoped>\n",
       "    .dataframe tbody tr th:only-of-type {\n",
       "        vertical-align: middle;\n",
       "    }\n",
       "\n",
       "    .dataframe tbody tr th {\n",
       "        vertical-align: top;\n",
       "    }\n",
       "\n",
       "    .dataframe thead th {\n",
       "        text-align: right;\n",
       "    }\n",
       "</style>\n",
       "<table border=\"1\" class=\"dataframe\">\n",
       "  <thead>\n",
       "    <tr style=\"text-align: right;\">\n",
       "      <th></th>\n",
       "      <th>name</th>\n",
       "      <th>score</th>\n",
       "    </tr>\n",
       "  </thead>\n",
       "  <tbody>\n",
       "    <tr>\n",
       "      <th>a</th>\n",
       "      <td>Sonu</td>\n",
       "      <td>12.5</td>\n",
       "    </tr>\n",
       "    <tr>\n",
       "      <th>b</th>\n",
       "      <td>Raja</td>\n",
       "      <td>9.0</td>\n",
       "    </tr>\n",
       "    <tr>\n",
       "      <th>c</th>\n",
       "      <td>Ketaki</td>\n",
       "      <td>16.5</td>\n",
       "    </tr>\n",
       "    <tr>\n",
       "      <th>d</th>\n",
       "      <td>Rupa</td>\n",
       "      <td>NaN</td>\n",
       "    </tr>\n",
       "    <tr>\n",
       "      <th>e</th>\n",
       "      <td>Radha</td>\n",
       "      <td>9.0</td>\n",
       "    </tr>\n",
       "    <tr>\n",
       "      <th>f</th>\n",
       "      <td>Reshma</td>\n",
       "      <td>20.0</td>\n",
       "    </tr>\n",
       "    <tr>\n",
       "      <th>g</th>\n",
       "      <td>Keshav</td>\n",
       "      <td>14.5</td>\n",
       "    </tr>\n",
       "    <tr>\n",
       "      <th>h</th>\n",
       "      <td>Narendra</td>\n",
       "      <td>NaN</td>\n",
       "    </tr>\n",
       "    <tr>\n",
       "      <th>i</th>\n",
       "      <td>Rani</td>\n",
       "      <td>8.0</td>\n",
       "    </tr>\n",
       "    <tr>\n",
       "      <th>j</th>\n",
       "      <td>Kittu</td>\n",
       "      <td>19.0</td>\n",
       "    </tr>\n",
       "  </tbody>\n",
       "</table>\n",
       "</div>"
      ],
      "text/plain": [
       "       name  score\n",
       "a      Sonu   12.5\n",
       "b      Raja    9.0\n",
       "c    Ketaki   16.5\n",
       "d      Rupa    NaN\n",
       "e     Radha    9.0\n",
       "f    Reshma   20.0\n",
       "g    Keshav   14.5\n",
       "h  Narendra    NaN\n",
       "i      Rani    8.0\n",
       "j     Kittu   19.0"
      ]
     },
     "execution_count": 30,
     "metadata": {},
     "output_type": "execute_result"
    }
   ],
   "source": [
    "d[[\"name\",\"score\"]]"
   ]
  },
  {
   "cell_type": "markdown",
   "id": "1fa22448-acba-45b4-ba29-fe847ad95254",
   "metadata": {},
   "source": [
    "Question 5"
   ]
  },
  {
   "cell_type": "code",
   "execution_count": 31,
   "id": "9db64230-384e-4a61-b7c7-567a127a82d6",
   "metadata": {},
   "outputs": [
    {
     "name": "stdout",
     "output_type": "stream",
     "text": [
      "   col1  col2  col3\n",
      "0     1     4     7\n",
      "1     2     5     8\n",
      "2     3     6     9\n"
     ]
    }
   ],
   "source": [
    "d={\"col1\":[1,2,3],\"col2\":[4,5,6],\"col3\":[7,8,9]}\n",
    "d1=pd.DataFrame(d)\n",
    "print(d1)"
   ]
  },
  {
   "cell_type": "code",
   "execution_count": 32,
   "id": "e39bee3a-d85e-44b8-9873-d0389bb248a8",
   "metadata": {},
   "outputs": [
    {
     "data": {
      "text/html": [
       "<div>\n",
       "<style scoped>\n",
       "    .dataframe tbody tr th:only-of-type {\n",
       "        vertical-align: middle;\n",
       "    }\n",
       "\n",
       "    .dataframe tbody tr th {\n",
       "        vertical-align: top;\n",
       "    }\n",
       "\n",
       "    .dataframe thead th {\n",
       "        text-align: right;\n",
       "    }\n",
       "</style>\n",
       "<table border=\"1\" class=\"dataframe\">\n",
       "  <thead>\n",
       "    <tr style=\"text-align: right;\">\n",
       "      <th></th>\n",
       "      <th>column1</th>\n",
       "      <th>column2</th>\n",
       "      <th>columns3</th>\n",
       "    </tr>\n",
       "  </thead>\n",
       "  <tbody>\n",
       "    <tr>\n",
       "      <th>0</th>\n",
       "      <td>1</td>\n",
       "      <td>4</td>\n",
       "      <td>7</td>\n",
       "    </tr>\n",
       "    <tr>\n",
       "      <th>1</th>\n",
       "      <td>2</td>\n",
       "      <td>5</td>\n",
       "      <td>8</td>\n",
       "    </tr>\n",
       "    <tr>\n",
       "      <th>2</th>\n",
       "      <td>3</td>\n",
       "      <td>6</td>\n",
       "      <td>9</td>\n",
       "    </tr>\n",
       "  </tbody>\n",
       "</table>\n",
       "</div>"
      ],
      "text/plain": [
       "   column1  column2  columns3\n",
       "0        1        4         7\n",
       "1        2        5         8\n",
       "2        3        6         9"
      ]
     },
     "execution_count": 32,
     "metadata": {},
     "output_type": "execute_result"
    }
   ],
   "source": [
    "d1.columns=[\"column1\",\"column2\",\"columns3\"]\n",
    "d1"
   ]
  },
  {
   "cell_type": "code",
   "execution_count": 33,
   "id": "2aa46e80-32ec-4bc5-9d08-224a0ad2dbb2",
   "metadata": {},
   "outputs": [
    {
     "data": {
      "text/html": [
       "<div>\n",
       "<style scoped>\n",
       "    .dataframe tbody tr th:only-of-type {\n",
       "        vertical-align: middle;\n",
       "    }\n",
       "\n",
       "    .dataframe tbody tr th {\n",
       "        vertical-align: top;\n",
       "    }\n",
       "\n",
       "    .dataframe thead th {\n",
       "        text-align: right;\n",
       "    }\n",
       "</style>\n",
       "<table border=\"1\" class=\"dataframe\">\n",
       "  <thead>\n",
       "    <tr style=\"text-align: right;\">\n",
       "      <th></th>\n",
       "      <th>column1</th>\n",
       "      <th>col2</th>\n",
       "      <th>columns3</th>\n",
       "    </tr>\n",
       "  </thead>\n",
       "  <tbody>\n",
       "    <tr>\n",
       "      <th>0</th>\n",
       "      <td>1</td>\n",
       "      <td>4</td>\n",
       "      <td>7</td>\n",
       "    </tr>\n",
       "    <tr>\n",
       "      <th>1</th>\n",
       "      <td>2</td>\n",
       "      <td>5</td>\n",
       "      <td>8</td>\n",
       "    </tr>\n",
       "    <tr>\n",
       "      <th>2</th>\n",
       "      <td>3</td>\n",
       "      <td>6</td>\n",
       "      <td>9</td>\n",
       "    </tr>\n",
       "  </tbody>\n",
       "</table>\n",
       "</div>"
      ],
      "text/plain": [
       "   column1  col2  columns3\n",
       "0        1     4         7\n",
       "1        2     5         8\n",
       "2        3     6         9"
      ]
     },
     "execution_count": 33,
     "metadata": {},
     "output_type": "execute_result"
    }
   ],
   "source": [
    "d1.rename(columns={\"column2\":\"col2\"})"
   ]
  },
  {
   "cell_type": "markdown",
   "id": "5eb457ed-081d-47e9-b924-db4193b009e9",
   "metadata": {},
   "source": [
    "Question6"
   ]
  },
  {
   "cell_type": "code",
   "execution_count": 34,
   "id": "097432ea-3864-41a6-b3b4-f60b0978c18c",
   "metadata": {},
   "outputs": [
    {
     "name": "stdout",
     "output_type": "stream",
     "text": [
      "     name qualify\n",
      "b    Raja      no\n",
      "d    Rupa      no\n",
      "f  Reshma     yes\n",
      "g  Keshav     yes\n"
     ]
    }
   ],
   "source": [
    "exam_data={'name':['Sonu','Raja','Ketaki','Rupa','Radha','Reshma','Keshav','Narendra','Rani','Kittu'],'qualify':['yes','no','yes','no','no','yes','yes','no','no','yes'],'score':[12.5,9,16.5,np.nan,9,20,14.5,np.nan,8,19],'qualify':['yes','no','yes','no','no','yes','yes','no','no','yes'],\"attempts\":[1,3,2,3,2,3,1,1,2,1]}\n",
    "labels=['a','b','c','d','e','f','g','h','i','j']\n",
    "\n",
    "d=pd.DataFrame(exam_data,labels)\n",
    "#print(d)\n",
    "\n",
    "print(d.iloc[[1,3,5,6],[0,1]])\n",
    "\n"
   ]
  },
  {
   "cell_type": "markdown",
   "id": "bb3e548d-2377-4474-9177-e4fe864d0a24",
   "metadata": {},
   "source": [
    "Question7"
   ]
  },
  {
   "cell_type": "code",
   "execution_count": 35,
   "id": "a3a5cbe5-a069-4e7d-99f3-b20875ad6ffe",
   "metadata": {},
   "outputs": [
    {
     "data": {
      "text/html": [
       "<div>\n",
       "<style scoped>\n",
       "    .dataframe tbody tr th:only-of-type {\n",
       "        vertical-align: middle;\n",
       "    }\n",
       "\n",
       "    .dataframe tbody tr th {\n",
       "        vertical-align: top;\n",
       "    }\n",
       "\n",
       "    .dataframe thead th {\n",
       "        text-align: right;\n",
       "    }\n",
       "</style>\n",
       "<table border=\"1\" class=\"dataframe\">\n",
       "  <thead>\n",
       "    <tr style=\"text-align: right;\">\n",
       "      <th></th>\n",
       "      <th>name</th>\n",
       "      <th>qualify</th>\n",
       "      <th>score</th>\n",
       "      <th>attempts</th>\n",
       "    </tr>\n",
       "  </thead>\n",
       "  <tbody>\n",
       "    <tr>\n",
       "      <th>b</th>\n",
       "      <td>Raja</td>\n",
       "      <td>no</td>\n",
       "      <td>9.0</td>\n",
       "      <td>3</td>\n",
       "    </tr>\n",
       "    <tr>\n",
       "      <th>d</th>\n",
       "      <td>Rupa</td>\n",
       "      <td>no</td>\n",
       "      <td>NaN</td>\n",
       "      <td>3</td>\n",
       "    </tr>\n",
       "    <tr>\n",
       "      <th>f</th>\n",
       "      <td>Reshma</td>\n",
       "      <td>yes</td>\n",
       "      <td>20.0</td>\n",
       "      <td>3</td>\n",
       "    </tr>\n",
       "  </tbody>\n",
       "</table>\n",
       "</div>"
      ],
      "text/plain": [
       "     name qualify  score  attempts\n",
       "b    Raja      no    9.0         3\n",
       "d    Rupa      no    NaN         3\n",
       "f  Reshma     yes   20.0         3"
      ]
     },
     "execution_count": 35,
     "metadata": {},
     "output_type": "execute_result"
    }
   ],
   "source": [
    "d[d[\"attempts\"]>2]"
   ]
  },
  {
   "cell_type": "code",
   "execution_count": 37,
   "id": "0785aab4-3406-490c-92e2-5a0313637f5e",
   "metadata": {},
   "outputs": [
    {
     "data": {
      "text/plain": [
       "(10, 4)"
      ]
     },
     "execution_count": 37,
     "metadata": {},
     "output_type": "execute_result"
    }
   ],
   "source": [
    "#question8\n",
    "\n",
    "d.shape"
   ]
  },
  {
   "cell_type": "code",
   "execution_count": 42,
   "id": "e1c9ead5-4bf5-47a0-8577-bbc836126111",
   "metadata": {},
   "outputs": [
    {
     "name": "stdout",
     "output_type": "stream",
     "text": [
      "10\n",
      "4\n"
     ]
    }
   ],
   "source": [
    "print(d.shape[0])\n",
    "print(d.shape[1])"
   ]
  },
  {
   "cell_type": "code",
   "execution_count": 44,
   "id": "43824032-10cf-455a-af76-82ae99ee1024",
   "metadata": {},
   "outputs": [
    {
     "data": {
      "text/html": [
       "<div>\n",
       "<style scoped>\n",
       "    .dataframe tbody tr th:only-of-type {\n",
       "        vertical-align: middle;\n",
       "    }\n",
       "\n",
       "    .dataframe tbody tr th {\n",
       "        vertical-align: top;\n",
       "    }\n",
       "\n",
       "    .dataframe thead th {\n",
       "        text-align: right;\n",
       "    }\n",
       "</style>\n",
       "<table border=\"1\" class=\"dataframe\">\n",
       "  <thead>\n",
       "    <tr style=\"text-align: right;\">\n",
       "      <th></th>\n",
       "      <th>name</th>\n",
       "      <th>qualify</th>\n",
       "      <th>score</th>\n",
       "      <th>attempts</th>\n",
       "    </tr>\n",
       "  </thead>\n",
       "  <tbody>\n",
       "    <tr>\n",
       "      <th>d</th>\n",
       "      <td>Rupa</td>\n",
       "      <td>no</td>\n",
       "      <td>NaN</td>\n",
       "      <td>3</td>\n",
       "    </tr>\n",
       "    <tr>\n",
       "      <th>h</th>\n",
       "      <td>Narendra</td>\n",
       "      <td>no</td>\n",
       "      <td>NaN</td>\n",
       "      <td>1</td>\n",
       "    </tr>\n",
       "  </tbody>\n",
       "</table>\n",
       "</div>"
      ],
      "text/plain": [
       "       name qualify  score  attempts\n",
       "d      Rupa      no    NaN         3\n",
       "h  Narendra      no    NaN         1"
      ]
     },
     "execution_count": 44,
     "metadata": {},
     "output_type": "execute_result"
    }
   ],
   "source": [
    "#question9 \n",
    "d[d[\"score\"].isna()==True]"
   ]
  },
  {
   "cell_type": "code",
   "execution_count": 52,
   "id": "27177097-50e7-45a2-8035-2108f23cd1f7",
   "metadata": {},
   "outputs": [
    {
     "data": {
      "text/html": [
       "<div>\n",
       "<style scoped>\n",
       "    .dataframe tbody tr th:only-of-type {\n",
       "        vertical-align: middle;\n",
       "    }\n",
       "\n",
       "    .dataframe tbody tr th {\n",
       "        vertical-align: top;\n",
       "    }\n",
       "\n",
       "    .dataframe thead th {\n",
       "        text-align: right;\n",
       "    }\n",
       "</style>\n",
       "<table border=\"1\" class=\"dataframe\">\n",
       "  <thead>\n",
       "    <tr style=\"text-align: right;\">\n",
       "      <th></th>\n",
       "      <th>name</th>\n",
       "      <th>qualify</th>\n",
       "      <th>score</th>\n",
       "      <th>attempts</th>\n",
       "    </tr>\n",
       "  </thead>\n",
       "  <tbody>\n",
       "    <tr>\n",
       "      <th>c</th>\n",
       "      <td>Ketaki</td>\n",
       "      <td>yes</td>\n",
       "      <td>16.5</td>\n",
       "      <td>2</td>\n",
       "    </tr>\n",
       "    <tr>\n",
       "      <th>f</th>\n",
       "      <td>Reshma</td>\n",
       "      <td>yes</td>\n",
       "      <td>20.0</td>\n",
       "      <td>3</td>\n",
       "    </tr>\n",
       "    <tr>\n",
       "      <th>g</th>\n",
       "      <td>Keshav</td>\n",
       "      <td>yes</td>\n",
       "      <td>14.5</td>\n",
       "      <td>1</td>\n",
       "    </tr>\n",
       "    <tr>\n",
       "      <th>j</th>\n",
       "      <td>Kittu</td>\n",
       "      <td>yes</td>\n",
       "      <td>19.0</td>\n",
       "      <td>1</td>\n",
       "    </tr>\n",
       "  </tbody>\n",
       "</table>\n",
       "</div>"
      ],
      "text/plain": [
       "     name qualify  score  attempts\n",
       "c  Ketaki     yes   16.5         2\n",
       "f  Reshma     yes   20.0         3\n",
       "g  Keshav     yes   14.5         1\n",
       "j   Kittu     yes   19.0         1"
      ]
     },
     "execution_count": 52,
     "metadata": {},
     "output_type": "execute_result"
    }
   ],
   "source": [
    "#question10\n",
    "\n",
    "d[(d[\"score\"]>14) & (d[\"score\"]<21)]\n",
    "#d[\"score\"].dtype"
   ]
  },
  {
   "cell_type": "code",
   "execution_count": 55,
   "id": "92f2ba3b-4c56-4e18-b69f-66e16204dea1",
   "metadata": {},
   "outputs": [
    {
     "data": {
      "text/html": [
       "<div>\n",
       "<style scoped>\n",
       "    .dataframe tbody tr th:only-of-type {\n",
       "        vertical-align: middle;\n",
       "    }\n",
       "\n",
       "    .dataframe tbody tr th {\n",
       "        vertical-align: top;\n",
       "    }\n",
       "\n",
       "    .dataframe thead th {\n",
       "        text-align: right;\n",
       "    }\n",
       "</style>\n",
       "<table border=\"1\" class=\"dataframe\">\n",
       "  <thead>\n",
       "    <tr style=\"text-align: right;\">\n",
       "      <th></th>\n",
       "      <th>name</th>\n",
       "      <th>qualify</th>\n",
       "      <th>score</th>\n",
       "      <th>attempts</th>\n",
       "    </tr>\n",
       "  </thead>\n",
       "  <tbody>\n",
       "    <tr>\n",
       "      <th>j</th>\n",
       "      <td>Kittu</td>\n",
       "      <td>yes</td>\n",
       "      <td>19.0</td>\n",
       "      <td>1</td>\n",
       "    </tr>\n",
       "  </tbody>\n",
       "</table>\n",
       "</div>"
      ],
      "text/plain": [
       "    name qualify  score  attempts\n",
       "j  Kittu     yes   19.0         1"
      ]
     },
     "execution_count": 55,
     "metadata": {},
     "output_type": "execute_result"
    }
   ],
   "source": [
    "#question 11\n",
    "d[(d[\"attempts\"]<2) & (d[\"score\"]>15)]"
   ]
  },
  {
   "cell_type": "code",
   "execution_count": 58,
   "id": "b838466d-234d-4d58-8219-8ae17f7c7185",
   "metadata": {},
   "outputs": [
    {
     "data": {
      "text/plain": [
       "19"
      ]
     },
     "execution_count": 58,
     "metadata": {},
     "output_type": "execute_result"
    }
   ],
   "source": [
    "#question12 \n",
    "d[\"attempts\"].sum()"
   ]
  },
  {
   "cell_type": "code",
   "execution_count": 61,
   "id": "a5070015-ddf6-4256-9541-07be6e80fa2a",
   "metadata": {},
   "outputs": [
    {
     "data": {
      "text/plain": [
       "13.5625"
      ]
     },
     "execution_count": 61,
     "metadata": {},
     "output_type": "execute_result"
    }
   ],
   "source": [
    "#question 13 \n",
    "d[\"score\"].mean()"
   ]
  },
  {
   "cell_type": "code",
   "execution_count": 73,
   "id": "2438b999-0b91-4eab-a5a8-459f682a9896",
   "metadata": {},
   "outputs": [],
   "source": [
    "#question 14 \n",
    "d.loc[\"k\"]=[\"Riya\",\"yes\",52.00,1]"
   ]
  },
  {
   "cell_type": "code",
   "execution_count": 74,
   "id": "faab3e73-d829-4e52-ae99-13b670b9c95c",
   "metadata": {},
   "outputs": [
    {
     "data": {
      "text/html": [
       "<div>\n",
       "<style scoped>\n",
       "    .dataframe tbody tr th:only-of-type {\n",
       "        vertical-align: middle;\n",
       "    }\n",
       "\n",
       "    .dataframe tbody tr th {\n",
       "        vertical-align: top;\n",
       "    }\n",
       "\n",
       "    .dataframe thead th {\n",
       "        text-align: right;\n",
       "    }\n",
       "</style>\n",
       "<table border=\"1\" class=\"dataframe\">\n",
       "  <thead>\n",
       "    <tr style=\"text-align: right;\">\n",
       "      <th></th>\n",
       "      <th>name</th>\n",
       "      <th>qualify</th>\n",
       "      <th>score</th>\n",
       "      <th>attempts</th>\n",
       "    </tr>\n",
       "  </thead>\n",
       "  <tbody>\n",
       "    <tr>\n",
       "      <th>a</th>\n",
       "      <td>Sonu</td>\n",
       "      <td>yes</td>\n",
       "      <td>12.5</td>\n",
       "      <td>1</td>\n",
       "    </tr>\n",
       "    <tr>\n",
       "      <th>b</th>\n",
       "      <td>Raja</td>\n",
       "      <td>no</td>\n",
       "      <td>9.0</td>\n",
       "      <td>3</td>\n",
       "    </tr>\n",
       "    <tr>\n",
       "      <th>c</th>\n",
       "      <td>Ketaki</td>\n",
       "      <td>yes</td>\n",
       "      <td>16.5</td>\n",
       "      <td>2</td>\n",
       "    </tr>\n",
       "    <tr>\n",
       "      <th>d</th>\n",
       "      <td>Rupa</td>\n",
       "      <td>no</td>\n",
       "      <td>NaN</td>\n",
       "      <td>3</td>\n",
       "    </tr>\n",
       "    <tr>\n",
       "      <th>e</th>\n",
       "      <td>Radha</td>\n",
       "      <td>no</td>\n",
       "      <td>9.0</td>\n",
       "      <td>2</td>\n",
       "    </tr>\n",
       "    <tr>\n",
       "      <th>f</th>\n",
       "      <td>Reshma</td>\n",
       "      <td>yes</td>\n",
       "      <td>20.0</td>\n",
       "      <td>3</td>\n",
       "    </tr>\n",
       "    <tr>\n",
       "      <th>g</th>\n",
       "      <td>Keshav</td>\n",
       "      <td>yes</td>\n",
       "      <td>14.5</td>\n",
       "      <td>1</td>\n",
       "    </tr>\n",
       "    <tr>\n",
       "      <th>h</th>\n",
       "      <td>Narendra</td>\n",
       "      <td>no</td>\n",
       "      <td>NaN</td>\n",
       "      <td>1</td>\n",
       "    </tr>\n",
       "    <tr>\n",
       "      <th>i</th>\n",
       "      <td>Rani</td>\n",
       "      <td>no</td>\n",
       "      <td>8.0</td>\n",
       "      <td>2</td>\n",
       "    </tr>\n",
       "    <tr>\n",
       "      <th>j</th>\n",
       "      <td>Kittu</td>\n",
       "      <td>yes</td>\n",
       "      <td>19.0</td>\n",
       "      <td>1</td>\n",
       "    </tr>\n",
       "    <tr>\n",
       "      <th>k</th>\n",
       "      <td>Riya</td>\n",
       "      <td>yes</td>\n",
       "      <td>52.0</td>\n",
       "      <td>1</td>\n",
       "    </tr>\n",
       "  </tbody>\n",
       "</table>\n",
       "</div>"
      ],
      "text/plain": [
       "       name qualify  score  attempts\n",
       "a      Sonu     yes   12.5         1\n",
       "b      Raja      no    9.0         3\n",
       "c    Ketaki     yes   16.5         2\n",
       "d      Rupa      no    NaN         3\n",
       "e     Radha      no    9.0         2\n",
       "f    Reshma     yes   20.0         3\n",
       "g    Keshav     yes   14.5         1\n",
       "h  Narendra      no    NaN         1\n",
       "i      Rani      no    8.0         2\n",
       "j     Kittu     yes   19.0         1\n",
       "k      Riya     yes   52.0         1"
      ]
     },
     "execution_count": 74,
     "metadata": {},
     "output_type": "execute_result"
    }
   ],
   "source": [
    "d"
   ]
  },
  {
   "cell_type": "code",
   "execution_count": null,
   "id": "64d9c33f-f320-472e-845a-792a5dbffeab",
   "metadata": {},
   "outputs": [],
   "source": [
    "#question 18"
   ]
  },
  {
   "cell_type": "code",
   "execution_count": 86,
   "id": "4e504b11-c2eb-48ec-9136-b2ebd87c44a0",
   "metadata": {},
   "outputs": [],
   "source": [
    "d[\"newColumn\"]=100"
   ]
  },
  {
   "cell_type": "code",
   "execution_count": 87,
   "id": "25ce1388-1dff-4815-b07e-ab06ea1d9398",
   "metadata": {},
   "outputs": [
    {
     "data": {
      "text/html": [
       "<div>\n",
       "<style scoped>\n",
       "    .dataframe tbody tr th:only-of-type {\n",
       "        vertical-align: middle;\n",
       "    }\n",
       "\n",
       "    .dataframe tbody tr th {\n",
       "        vertical-align: top;\n",
       "    }\n",
       "\n",
       "    .dataframe thead th {\n",
       "        text-align: right;\n",
       "    }\n",
       "</style>\n",
       "<table border=\"1\" class=\"dataframe\">\n",
       "  <thead>\n",
       "    <tr style=\"text-align: right;\">\n",
       "      <th></th>\n",
       "      <th>name</th>\n",
       "      <th>qualify</th>\n",
       "      <th>score</th>\n",
       "      <th>newColumn</th>\n",
       "    </tr>\n",
       "  </thead>\n",
       "  <tbody>\n",
       "    <tr>\n",
       "      <th>a</th>\n",
       "      <td>Sonu</td>\n",
       "      <td>yes</td>\n",
       "      <td>12.5</td>\n",
       "      <td>100</td>\n",
       "    </tr>\n",
       "    <tr>\n",
       "      <th>b</th>\n",
       "      <td>Raja</td>\n",
       "      <td>no</td>\n",
       "      <td>9.0</td>\n",
       "      <td>100</td>\n",
       "    </tr>\n",
       "    <tr>\n",
       "      <th>c</th>\n",
       "      <td>Ketaki</td>\n",
       "      <td>yes</td>\n",
       "      <td>16.5</td>\n",
       "      <td>100</td>\n",
       "    </tr>\n",
       "    <tr>\n",
       "      <th>d</th>\n",
       "      <td>Rupa</td>\n",
       "      <td>no</td>\n",
       "      <td>NaN</td>\n",
       "      <td>100</td>\n",
       "    </tr>\n",
       "    <tr>\n",
       "      <th>e</th>\n",
       "      <td>Radha</td>\n",
       "      <td>no</td>\n",
       "      <td>9.0</td>\n",
       "      <td>100</td>\n",
       "    </tr>\n",
       "    <tr>\n",
       "      <th>f</th>\n",
       "      <td>Reshma</td>\n",
       "      <td>yes</td>\n",
       "      <td>20.0</td>\n",
       "      <td>100</td>\n",
       "    </tr>\n",
       "    <tr>\n",
       "      <th>g</th>\n",
       "      <td>Keshav</td>\n",
       "      <td>yes</td>\n",
       "      <td>14.5</td>\n",
       "      <td>100</td>\n",
       "    </tr>\n",
       "    <tr>\n",
       "      <th>h</th>\n",
       "      <td>Narendra</td>\n",
       "      <td>no</td>\n",
       "      <td>NaN</td>\n",
       "      <td>100</td>\n",
       "    </tr>\n",
       "    <tr>\n",
       "      <th>i</th>\n",
       "      <td>Rani</td>\n",
       "      <td>no</td>\n",
       "      <td>8.0</td>\n",
       "      <td>100</td>\n",
       "    </tr>\n",
       "    <tr>\n",
       "      <th>j</th>\n",
       "      <td>Kittu</td>\n",
       "      <td>yes</td>\n",
       "      <td>19.0</td>\n",
       "      <td>100</td>\n",
       "    </tr>\n",
       "    <tr>\n",
       "      <th>k</th>\n",
       "      <td>Riya</td>\n",
       "      <td>yes</td>\n",
       "      <td>52.0</td>\n",
       "      <td>100</td>\n",
       "    </tr>\n",
       "  </tbody>\n",
       "</table>\n",
       "</div>"
      ],
      "text/plain": [
       "       name qualify  score  newColumn\n",
       "a      Sonu     yes   12.5        100\n",
       "b      Raja      no    9.0        100\n",
       "c    Ketaki     yes   16.5        100\n",
       "d      Rupa      no    NaN        100\n",
       "e     Radha      no    9.0        100\n",
       "f    Reshma     yes   20.0        100\n",
       "g    Keshav     yes   14.5        100\n",
       "h  Narendra      no    NaN        100\n",
       "i      Rani      no    8.0        100\n",
       "j     Kittu     yes   19.0        100\n",
       "k      Riya     yes   52.0        100"
      ]
     },
     "execution_count": 87,
     "metadata": {},
     "output_type": "execute_result"
    }
   ],
   "source": [
    "d"
   ]
  },
  {
   "cell_type": "code",
   "execution_count": null,
   "id": "5307ac50-bf06-4d3e-a1f0-edb4891a0add",
   "metadata": {},
   "outputs": [],
   "source": [
    "#question15"
   ]
  },
  {
   "cell_type": "code",
   "execution_count": 88,
   "id": "06ea777d-5803-47cb-a186-20c5da1daeed",
   "metadata": {},
   "outputs": [
    {
     "data": {
      "text/html": [
       "<div>\n",
       "<style scoped>\n",
       "    .dataframe tbody tr th:only-of-type {\n",
       "        vertical-align: middle;\n",
       "    }\n",
       "\n",
       "    .dataframe tbody tr th {\n",
       "        vertical-align: top;\n",
       "    }\n",
       "\n",
       "    .dataframe thead th {\n",
       "        text-align: right;\n",
       "    }\n",
       "</style>\n",
       "<table border=\"1\" class=\"dataframe\">\n",
       "  <thead>\n",
       "    <tr style=\"text-align: right;\">\n",
       "      <th></th>\n",
       "      <th>name</th>\n",
       "      <th>qualify</th>\n",
       "      <th>score</th>\n",
       "      <th>newColumn</th>\n",
       "    </tr>\n",
       "  </thead>\n",
       "  <tbody>\n",
       "    <tr>\n",
       "      <th>a</th>\n",
       "      <td>Sonu</td>\n",
       "      <td>yes</td>\n",
       "      <td>12.5</td>\n",
       "      <td>100</td>\n",
       "    </tr>\n",
       "    <tr>\n",
       "      <th>d</th>\n",
       "      <td>Rupa</td>\n",
       "      <td>no</td>\n",
       "      <td>NaN</td>\n",
       "      <td>100</td>\n",
       "    </tr>\n",
       "    <tr>\n",
       "      <th>k</th>\n",
       "      <td>Riya</td>\n",
       "      <td>yes</td>\n",
       "      <td>52.0</td>\n",
       "      <td>100</td>\n",
       "    </tr>\n",
       "    <tr>\n",
       "      <th>f</th>\n",
       "      <td>Reshma</td>\n",
       "      <td>yes</td>\n",
       "      <td>20.0</td>\n",
       "      <td>100</td>\n",
       "    </tr>\n",
       "    <tr>\n",
       "      <th>i</th>\n",
       "      <td>Rani</td>\n",
       "      <td>no</td>\n",
       "      <td>8.0</td>\n",
       "      <td>100</td>\n",
       "    </tr>\n",
       "    <tr>\n",
       "      <th>b</th>\n",
       "      <td>Raja</td>\n",
       "      <td>no</td>\n",
       "      <td>9.0</td>\n",
       "      <td>100</td>\n",
       "    </tr>\n",
       "    <tr>\n",
       "      <th>e</th>\n",
       "      <td>Radha</td>\n",
       "      <td>no</td>\n",
       "      <td>9.0</td>\n",
       "      <td>100</td>\n",
       "    </tr>\n",
       "    <tr>\n",
       "      <th>h</th>\n",
       "      <td>Narendra</td>\n",
       "      <td>no</td>\n",
       "      <td>NaN</td>\n",
       "      <td>100</td>\n",
       "    </tr>\n",
       "    <tr>\n",
       "      <th>j</th>\n",
       "      <td>Kittu</td>\n",
       "      <td>yes</td>\n",
       "      <td>19.0</td>\n",
       "      <td>100</td>\n",
       "    </tr>\n",
       "    <tr>\n",
       "      <th>c</th>\n",
       "      <td>Ketaki</td>\n",
       "      <td>yes</td>\n",
       "      <td>16.5</td>\n",
       "      <td>100</td>\n",
       "    </tr>\n",
       "    <tr>\n",
       "      <th>g</th>\n",
       "      <td>Keshav</td>\n",
       "      <td>yes</td>\n",
       "      <td>14.5</td>\n",
       "      <td>100</td>\n",
       "    </tr>\n",
       "  </tbody>\n",
       "</table>\n",
       "</div>"
      ],
      "text/plain": [
       "       name qualify  score  newColumn\n",
       "a      Sonu     yes   12.5        100\n",
       "d      Rupa      no    NaN        100\n",
       "k      Riya     yes   52.0        100\n",
       "f    Reshma     yes   20.0        100\n",
       "i      Rani      no    8.0        100\n",
       "b      Raja      no    9.0        100\n",
       "e     Radha      no    9.0        100\n",
       "h  Narendra      no    NaN        100\n",
       "j     Kittu     yes   19.0        100\n",
       "c    Ketaki     yes   16.5        100\n",
       "g    Keshav     yes   14.5        100"
      ]
     },
     "execution_count": 88,
     "metadata": {},
     "output_type": "execute_result"
    }
   ],
   "source": [
    "d.sort_values([\"name\",\"score\"],ascending=[False,True])"
   ]
  },
  {
   "cell_type": "code",
   "execution_count": null,
   "id": "0a50f558-efde-420c-8f61-83ab02fc8c10",
   "metadata": {},
   "outputs": [],
   "source": [
    "#question17"
   ]
  },
  {
   "cell_type": "code",
   "execution_count": 84,
   "id": "5d49acb2-49d0-4435-8231-1a78e0fc08d1",
   "metadata": {},
   "outputs": [
    {
     "data": {
      "text/html": [
       "<div>\n",
       "<style scoped>\n",
       "    .dataframe tbody tr th:only-of-type {\n",
       "        vertical-align: middle;\n",
       "    }\n",
       "\n",
       "    .dataframe tbody tr th {\n",
       "        vertical-align: top;\n",
       "    }\n",
       "\n",
       "    .dataframe thead th {\n",
       "        text-align: right;\n",
       "    }\n",
       "</style>\n",
       "<table border=\"1\" class=\"dataframe\">\n",
       "  <thead>\n",
       "    <tr style=\"text-align: right;\">\n",
       "      <th></th>\n",
       "      <th>name</th>\n",
       "      <th>qualify</th>\n",
       "      <th>score</th>\n",
       "    </tr>\n",
       "  </thead>\n",
       "  <tbody>\n",
       "    <tr>\n",
       "      <th>a</th>\n",
       "      <td>Sonu</td>\n",
       "      <td>yes</td>\n",
       "      <td>12.5</td>\n",
       "    </tr>\n",
       "    <tr>\n",
       "      <th>b</th>\n",
       "      <td>Raja</td>\n",
       "      <td>no</td>\n",
       "      <td>9.0</td>\n",
       "    </tr>\n",
       "    <tr>\n",
       "      <th>c</th>\n",
       "      <td>Ketaki</td>\n",
       "      <td>yes</td>\n",
       "      <td>16.5</td>\n",
       "    </tr>\n",
       "    <tr>\n",
       "      <th>d</th>\n",
       "      <td>Rupa</td>\n",
       "      <td>no</td>\n",
       "      <td>NaN</td>\n",
       "    </tr>\n",
       "    <tr>\n",
       "      <th>e</th>\n",
       "      <td>Radha</td>\n",
       "      <td>no</td>\n",
       "      <td>9.0</td>\n",
       "    </tr>\n",
       "    <tr>\n",
       "      <th>f</th>\n",
       "      <td>Reshma</td>\n",
       "      <td>yes</td>\n",
       "      <td>20.0</td>\n",
       "    </tr>\n",
       "    <tr>\n",
       "      <th>g</th>\n",
       "      <td>Keshav</td>\n",
       "      <td>yes</td>\n",
       "      <td>14.5</td>\n",
       "    </tr>\n",
       "    <tr>\n",
       "      <th>h</th>\n",
       "      <td>Narendra</td>\n",
       "      <td>no</td>\n",
       "      <td>NaN</td>\n",
       "    </tr>\n",
       "    <tr>\n",
       "      <th>i</th>\n",
       "      <td>Rani</td>\n",
       "      <td>no</td>\n",
       "      <td>8.0</td>\n",
       "    </tr>\n",
       "    <tr>\n",
       "      <th>j</th>\n",
       "      <td>Kittu</td>\n",
       "      <td>yes</td>\n",
       "      <td>19.0</td>\n",
       "    </tr>\n",
       "    <tr>\n",
       "      <th>k</th>\n",
       "      <td>Riya</td>\n",
       "      <td>yes</td>\n",
       "      <td>52.0</td>\n",
       "    </tr>\n",
       "  </tbody>\n",
       "</table>\n",
       "</div>"
      ],
      "text/plain": [
       "       name qualify  score\n",
       "a      Sonu     yes   12.5\n",
       "b      Raja      no    9.0\n",
       "c    Ketaki     yes   16.5\n",
       "d      Rupa      no    NaN\n",
       "e     Radha      no    9.0\n",
       "f    Reshma     yes   20.0\n",
       "g    Keshav     yes   14.5\n",
       "h  Narendra      no    NaN\n",
       "i      Rani      no    8.0\n",
       "j     Kittu     yes   19.0\n",
       "k      Riya     yes   52.0"
      ]
     },
     "execution_count": 84,
     "metadata": {},
     "output_type": "execute_result"
    }
   ],
   "source": [
    "d.drop(columns=\"attempts\",inplace=True) \n",
    "# inplace = true that will modify current df by default it is False so it will return new df\n",
    "d"
   ]
  },
  {
   "cell_type": "code",
   "execution_count": 89,
   "id": "0e17e735-ddd9-4cb9-b763-4d7d2afa8148",
   "metadata": {},
   "outputs": [
    {
     "data": {
      "text/html": [
       "<div>\n",
       "<style scoped>\n",
       "    .dataframe tbody tr th:only-of-type {\n",
       "        vertical-align: middle;\n",
       "    }\n",
       "\n",
       "    .dataframe tbody tr th {\n",
       "        vertical-align: top;\n",
       "    }\n",
       "\n",
       "    .dataframe thead th {\n",
       "        text-align: right;\n",
       "    }\n",
       "</style>\n",
       "<table border=\"1\" class=\"dataframe\">\n",
       "  <thead>\n",
       "    <tr style=\"text-align: right;\">\n",
       "      <th></th>\n",
       "      <th>name</th>\n",
       "      <th>qualify</th>\n",
       "      <th>score</th>\n",
       "      <th>newColumn</th>\n",
       "    </tr>\n",
       "  </thead>\n",
       "  <tbody>\n",
       "    <tr>\n",
       "      <th>a</th>\n",
       "      <td>Sonu</td>\n",
       "      <td>True</td>\n",
       "      <td>12.5</td>\n",
       "      <td>100</td>\n",
       "    </tr>\n",
       "    <tr>\n",
       "      <th>b</th>\n",
       "      <td>Raja</td>\n",
       "      <td>False</td>\n",
       "      <td>9.0</td>\n",
       "      <td>100</td>\n",
       "    </tr>\n",
       "    <tr>\n",
       "      <th>c</th>\n",
       "      <td>Ketaki</td>\n",
       "      <td>True</td>\n",
       "      <td>16.5</td>\n",
       "      <td>100</td>\n",
       "    </tr>\n",
       "    <tr>\n",
       "      <th>d</th>\n",
       "      <td>Rupa</td>\n",
       "      <td>False</td>\n",
       "      <td>NaN</td>\n",
       "      <td>100</td>\n",
       "    </tr>\n",
       "    <tr>\n",
       "      <th>e</th>\n",
       "      <td>Radha</td>\n",
       "      <td>False</td>\n",
       "      <td>9.0</td>\n",
       "      <td>100</td>\n",
       "    </tr>\n",
       "    <tr>\n",
       "      <th>f</th>\n",
       "      <td>Reshma</td>\n",
       "      <td>True</td>\n",
       "      <td>20.0</td>\n",
       "      <td>100</td>\n",
       "    </tr>\n",
       "    <tr>\n",
       "      <th>g</th>\n",
       "      <td>Keshav</td>\n",
       "      <td>True</td>\n",
       "      <td>14.5</td>\n",
       "      <td>100</td>\n",
       "    </tr>\n",
       "    <tr>\n",
       "      <th>h</th>\n",
       "      <td>Narendra</td>\n",
       "      <td>False</td>\n",
       "      <td>NaN</td>\n",
       "      <td>100</td>\n",
       "    </tr>\n",
       "    <tr>\n",
       "      <th>i</th>\n",
       "      <td>Rani</td>\n",
       "      <td>False</td>\n",
       "      <td>8.0</td>\n",
       "      <td>100</td>\n",
       "    </tr>\n",
       "    <tr>\n",
       "      <th>j</th>\n",
       "      <td>Kittu</td>\n",
       "      <td>True</td>\n",
       "      <td>19.0</td>\n",
       "      <td>100</td>\n",
       "    </tr>\n",
       "    <tr>\n",
       "      <th>k</th>\n",
       "      <td>Riya</td>\n",
       "      <td>True</td>\n",
       "      <td>52.0</td>\n",
       "      <td>100</td>\n",
       "    </tr>\n",
       "  </tbody>\n",
       "</table>\n",
       "</div>"
      ],
      "text/plain": [
       "       name qualify  score  newColumn\n",
       "a      Sonu    True   12.5        100\n",
       "b      Raja   False    9.0        100\n",
       "c    Ketaki    True   16.5        100\n",
       "d      Rupa   False    NaN        100\n",
       "e     Radha   False    9.0        100\n",
       "f    Reshma    True   20.0        100\n",
       "g    Keshav    True   14.5        100\n",
       "h  Narendra   False    NaN        100\n",
       "i      Rani   False    8.0        100\n",
       "j     Kittu    True   19.0        100\n",
       "k      Riya    True   52.0        100"
      ]
     },
     "execution_count": 89,
     "metadata": {},
     "output_type": "execute_result"
    }
   ],
   "source": [
    "#question16\n",
    "d[\"qualify\"].replace({'yes':'True',\"no\":'False'},inplace=True)  #on Series/Single column\n",
    "d\n"
   ]
  },
  {
   "cell_type": "code",
   "execution_count": null,
   "id": "c5f56b0f-671e-44ff-a432-372d66f6313e",
   "metadata": {},
   "outputs": [],
   "source": []
  }
 ],
 "metadata": {
  "kernelspec": {
   "display_name": "Python 3 (ipykernel)",
   "language": "python",
   "name": "python3"
  },
  "language_info": {
   "codemirror_mode": {
    "name": "ipython",
    "version": 3
   },
   "file_extension": ".py",
   "mimetype": "text/x-python",
   "name": "python",
   "nbconvert_exporter": "python",
   "pygments_lexer": "ipython3",
   "version": "3.12.0"
  }
 },
 "nbformat": 4,
 "nbformat_minor": 5
}
