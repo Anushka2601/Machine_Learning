{
 "cells": [
  {
   "cell_type": "code",
   "execution_count": 1,
   "id": "8c2b3e00-fb90-49cb-85fc-8f79202c2d37",
   "metadata": {},
   "outputs": [],
   "source": [
    "import pulp as p"
   ]
  },
  {
   "cell_type": "code",
   "execution_count": 2,
   "id": "4a5e21c9-e322-4252-9633-bde9eb437430",
   "metadata": {},
   "outputs": [],
   "source": [
    "Lp_prob=p.LpProblem('Problem1',p.LpMaximize)"
   ]
  },
  {
   "cell_type": "markdown",
   "id": "915a5e9b-af10-499b-8952-0b49cd1821e0",
   "metadata": {},
   "source": [
    "Decision Variables"
   ]
  },
  {
   "cell_type": "code",
   "execution_count": 3,
   "id": "f2c3cf0b-52e8-4a48-8b10-5450c2cb4586",
   "metadata": {},
   "outputs": [],
   "source": [
    "#decision variables \n",
    "x1=p.LpVariable('x1',lowBound = 0) #crete a variable x>=0\n",
    "x2=p.LpVariable('x2',lowBound=0)#create variable y>=0"
   ]
  },
  {
   "cell_type": "markdown",
   "id": "632b78a4-3f2d-484a-9e26-c8365a5b8ed3",
   "metadata": {},
   "source": [
    "Objective Function"
   ]
  },
  {
   "cell_type": "code",
   "execution_count": 4,
   "id": "79157bd5-9404-48b2-ad8c-5eed3acfa3e5",
   "metadata": {},
   "outputs": [],
   "source": [
    "Lp_prob+=5*x1+7*x2"
   ]
  },
  {
   "cell_type": "markdown",
   "id": "dab91691-c594-434b-9005-aa15a684679c",
   "metadata": {},
   "source": [
    "Constraints"
   ]
  },
  {
   "cell_type": "code",
   "execution_count": 5,
   "id": "bbaf4e88-a52f-413b-964f-c379e1f2f215",
   "metadata": {},
   "outputs": [],
   "source": [
    "Lp_prob+=1*x1+0*x2 <=6\n",
    "Lp_prob+=2*x1+3*x2 <=19\n",
    "Lp_prob+=1*x1+1*x2 <=8"
   ]
  },
  {
   "cell_type": "markdown",
   "id": "7d32e54e-ab08-468a-9101-58ea6e31bc7a",
   "metadata": {},
   "source": [
    "Solving the LPP"
   ]
  },
  {
   "cell_type": "code",
   "execution_count": 6,
   "id": "6a613c57-b42b-488d-972e-0108a5ce593a",
   "metadata": {},
   "outputs": [
    {
     "name": "stdout",
     "output_type": "stream",
     "text": [
      "Optimal\n"
     ]
    }
   ],
   "source": [
    "status=Lp_prob.solve()\n",
    "print(p.LpStatus[status])"
   ]
  },
  {
   "cell_type": "markdown",
   "id": "8add2431-efb3-4f52-87cf-298884e20c6b",
   "metadata": {},
   "source": [
    "Solution"
   ]
  },
  {
   "cell_type": "code",
   "execution_count": 7,
   "id": "498e7568-4a9e-43bc-ac88-5e5ff295053e",
   "metadata": {},
   "outputs": [
    {
     "name": "stdout",
     "output_type": "stream",
     "text": [
      "X1= 5.0\n",
      "X2= 3.0\n",
      "Objective 46.0\n"
     ]
    }
   ],
   "source": [
    "print(\"X1=\",p.value(x1))\n",
    "print(\"X2=\",p.value(x2))\n",
    "print(\"Objective\",p.value(Lp_prob.objective))"
   ]
  },
  {
   "cell_type": "code",
   "execution_count": 8,
   "id": "3956c00e-824f-4e00-bd68-ed7d48679193",
   "metadata": {},
   "outputs": [
    {
     "name": "stdout",
     "output_type": "stream",
     "text": [
      "Optimal\n",
      "A= 0.0\n",
      "B= 200.0\n",
      "Objective 20000.0\n"
     ]
    }
   ],
   "source": [
    "Lp_prob=p.LpProblem('Problem1',p.LpMaximize)\n",
    "#decision variables \n",
    "A=p.LpVariable('A',lowBound = 0) #crete a variable x>=0\n",
    "B=p.LpVariable('B',lowBound=0)#create variable y>=0\n",
    "\n",
    "#maximize profit \n",
    "Lp_prob+=40*A+100*B\n",
    "\n",
    "#constraints \n",
    "\n",
    "Lp_prob+=12*A+6*B <=3000\n",
    "Lp_prob+=4*A+10*B <=2000     #(A,B>=0)\n",
    "Lp_prob+=2*A+3*B <=900\n",
    "\n",
    "status=Lp_prob.solve()\n",
    "print(p.LpStatus[status])\n",
    "\n",
    "print(\"A=\",p.value(A))\n",
    "print(\"B=\",p.value(B))\n",
    "print(\"Objective\",p.value(Lp_prob.objective))\n"
   ]
  },
  {
   "cell_type": "markdown",
   "id": "596b36d8-76cc-49b8-aea9-082fdeef4da4",
   "metadata": {},
   "source": [
    "Problem 3"
   ]
  },
  {
   "cell_type": "code",
   "execution_count": 13,
   "id": "96425c35-5c12-4c09-8cbb-8fe2b643c31e",
   "metadata": {},
   "outputs": [
    {
     "name": "stdout",
     "output_type": "stream",
     "text": [
      "Optimal\n",
      "A= 12.0\n",
      "B= 4.0\n",
      "Objective 8800.0\n"
     ]
    }
   ],
   "source": [
    "Lp_prob=p.LpProblem('Problem1',p.LpMinimize)\n",
    "#decision variables \n",
    "A=p.LpVariable('A',lowBound = 0,upBound=30) #crete a variable x>=0\n",
    "B=p.LpVariable('B',lowBound=0,upBound=30)#create variable y>=0\n",
    "#C=p.LpVariable('C',lowBound=0)#create variable y>=0\n",
    "\n",
    "#maximize profit \n",
    "Lp_prob+=600*A+400*B\n",
    "\n",
    "#constraints \n",
    "\n",
    "Lp_prob+=1500*A+3000*B >=20000     #demands --greater than equal to \n",
    "Lp_prob+=3000*A+1000*B >=40000     #(A,B>=0)\n",
    "Lp_prob+=2000*A+5000*B >=44000\n",
    "\n",
    "status=Lp_prob.solve()\n",
    "print(p.LpStatus[status])\n",
    "\n",
    "print(\"A=\",p.value(A))\n",
    "print(\"B=\",p.value(B))\n",
    "print(\"Objective\",p.value(Lp_prob.objective))\n"
   ]
  },
  {
   "cell_type": "code",
   "execution_count": null,
   "id": "7ae4d986-851d-40ab-a942-7b4085d125df",
   "metadata": {},
   "outputs": [],
   "source": []
  }
 ],
 "metadata": {
  "kernelspec": {
   "display_name": "Python 3 (ipykernel)",
   "language": "python",
   "name": "python3"
  },
  "language_info": {
   "codemirror_mode": {
    "name": "ipython",
    "version": 3
   },
   "file_extension": ".py",
   "mimetype": "text/x-python",
   "name": "python",
   "nbconvert_exporter": "python",
   "pygments_lexer": "ipython3",
   "version": "3.12.0"
  }
 },
 "nbformat": 4,
 "nbformat_minor": 5
}
