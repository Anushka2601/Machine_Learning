{
 "cells": [
  {
   "cell_type": "code",
   "execution_count": 1,
   "id": "f713050c-3dc0-4d16-82c9-0fe889bf19ce",
   "metadata": {},
   "outputs": [],
   "source": [
    "#importing neccessory libraries \n",
    "\n",
    "import numpy as np \n",
    "import pandas as pd \n",
    "from sklearn.model_selection import KFold\n",
    "from sklearn.model_selection import GridSearchCV\n",
    "from sklearn.linear_model import Lasso"
   ]
  },
  {
   "cell_type": "code",
   "execution_count": 2,
   "id": "8a873df5-e4f0-4e35-9032-9104073d92d0",
   "metadata": {},
   "outputs": [],
   "source": [
    "df=pd.read_csv(\"C:\\\\my_files\\\\word files\\\\Desktop\\\\sacremento.csv\")"
   ]
  },
  {
   "cell_type": "code",
   "execution_count": 3,
   "id": "5b5aedcb-3c81-4293-8a61-dc3373608b5b",
   "metadata": {},
   "outputs": [
    {
     "data": {
      "text/html": [
       "<div>\n",
       "<style scoped>\n",
       "    .dataframe tbody tr th:only-of-type {\n",
       "        vertical-align: middle;\n",
       "    }\n",
       "\n",
       "    .dataframe tbody tr th {\n",
       "        vertical-align: top;\n",
       "    }\n",
       "\n",
       "    .dataframe thead th {\n",
       "        text-align: right;\n",
       "    }\n",
       "</style>\n",
       "<table border=\"1\" class=\"dataframe\">\n",
       "  <thead>\n",
       "    <tr style=\"text-align: right;\">\n",
       "      <th></th>\n",
       "      <th>city</th>\n",
       "      <th>zip</th>\n",
       "      <th>beds</th>\n",
       "      <th>baths</th>\n",
       "      <th>sqft</th>\n",
       "      <th>type</th>\n",
       "      <th>price</th>\n",
       "      <th>latitude</th>\n",
       "      <th>longitude</th>\n",
       "    </tr>\n",
       "  </thead>\n",
       "  <tbody>\n",
       "    <tr>\n",
       "      <th>0</th>\n",
       "      <td>SACRAMENTO</td>\n",
       "      <td>z95838</td>\n",
       "      <td>2</td>\n",
       "      <td>1.0</td>\n",
       "      <td>836</td>\n",
       "      <td>Residential</td>\n",
       "      <td>59222</td>\n",
       "      <td>38.631913</td>\n",
       "      <td>-121.434879</td>\n",
       "    </tr>\n",
       "    <tr>\n",
       "      <th>1</th>\n",
       "      <td>SACRAMENTO</td>\n",
       "      <td>z95823</td>\n",
       "      <td>3</td>\n",
       "      <td>1.0</td>\n",
       "      <td>1167</td>\n",
       "      <td>Residential</td>\n",
       "      <td>68212</td>\n",
       "      <td>38.478902</td>\n",
       "      <td>-121.431028</td>\n",
       "    </tr>\n",
       "    <tr>\n",
       "      <th>2</th>\n",
       "      <td>SACRAMENTO</td>\n",
       "      <td>z95815</td>\n",
       "      <td>2</td>\n",
       "      <td>1.0</td>\n",
       "      <td>796</td>\n",
       "      <td>Residential</td>\n",
       "      <td>68880</td>\n",
       "      <td>38.618305</td>\n",
       "      <td>-121.443839</td>\n",
       "    </tr>\n",
       "    <tr>\n",
       "      <th>3</th>\n",
       "      <td>SACRAMENTO</td>\n",
       "      <td>z95815</td>\n",
       "      <td>2</td>\n",
       "      <td>1.0</td>\n",
       "      <td>852</td>\n",
       "      <td>Residential</td>\n",
       "      <td>69307</td>\n",
       "      <td>38.616835</td>\n",
       "      <td>-121.439146</td>\n",
       "    </tr>\n",
       "    <tr>\n",
       "      <th>4</th>\n",
       "      <td>SACRAMENTO</td>\n",
       "      <td>z95824</td>\n",
       "      <td>2</td>\n",
       "      <td>1.0</td>\n",
       "      <td>797</td>\n",
       "      <td>Residential</td>\n",
       "      <td>81900</td>\n",
       "      <td>38.519470</td>\n",
       "      <td>-121.435768</td>\n",
       "    </tr>\n",
       "    <tr>\n",
       "      <th>...</th>\n",
       "      <td>...</td>\n",
       "      <td>...</td>\n",
       "      <td>...</td>\n",
       "      <td>...</td>\n",
       "      <td>...</td>\n",
       "      <td>...</td>\n",
       "      <td>...</td>\n",
       "      <td>...</td>\n",
       "      <td>...</td>\n",
       "    </tr>\n",
       "    <tr>\n",
       "      <th>927</th>\n",
       "      <td>SACRAMENTO</td>\n",
       "      <td>z95829</td>\n",
       "      <td>4</td>\n",
       "      <td>3.0</td>\n",
       "      <td>2280</td>\n",
       "      <td>Residential</td>\n",
       "      <td>232425</td>\n",
       "      <td>38.457679</td>\n",
       "      <td>-121.359620</td>\n",
       "    </tr>\n",
       "    <tr>\n",
       "      <th>928</th>\n",
       "      <td>SACRAMENTO</td>\n",
       "      <td>z95823</td>\n",
       "      <td>3</td>\n",
       "      <td>2.0</td>\n",
       "      <td>1477</td>\n",
       "      <td>Residential</td>\n",
       "      <td>234000</td>\n",
       "      <td>38.499893</td>\n",
       "      <td>-121.458890</td>\n",
       "    </tr>\n",
       "    <tr>\n",
       "      <th>929</th>\n",
       "      <td>CITRUS_HEIGHTS</td>\n",
       "      <td>z95610</td>\n",
       "      <td>3</td>\n",
       "      <td>2.0</td>\n",
       "      <td>1216</td>\n",
       "      <td>Residential</td>\n",
       "      <td>235000</td>\n",
       "      <td>38.708824</td>\n",
       "      <td>-121.256803</td>\n",
       "    </tr>\n",
       "    <tr>\n",
       "      <th>930</th>\n",
       "      <td>ELK_GROVE</td>\n",
       "      <td>z95758</td>\n",
       "      <td>4</td>\n",
       "      <td>2.0</td>\n",
       "      <td>1685</td>\n",
       "      <td>Residential</td>\n",
       "      <td>235301</td>\n",
       "      <td>38.417000</td>\n",
       "      <td>-121.397424</td>\n",
       "    </tr>\n",
       "    <tr>\n",
       "      <th>931</th>\n",
       "      <td>EL_DORADO_HILLS</td>\n",
       "      <td>z95762</td>\n",
       "      <td>3</td>\n",
       "      <td>2.0</td>\n",
       "      <td>1362</td>\n",
       "      <td>Residential</td>\n",
       "      <td>235738</td>\n",
       "      <td>38.655245</td>\n",
       "      <td>-121.075915</td>\n",
       "    </tr>\n",
       "  </tbody>\n",
       "</table>\n",
       "<p>932 rows × 9 columns</p>\n",
       "</div>"
      ],
      "text/plain": [
       "                city     zip  beds  baths  sqft         type   price  \\\n",
       "0         SACRAMENTO  z95838     2    1.0   836  Residential   59222   \n",
       "1         SACRAMENTO  z95823     3    1.0  1167  Residential   68212   \n",
       "2         SACRAMENTO  z95815     2    1.0   796  Residential   68880   \n",
       "3         SACRAMENTO  z95815     2    1.0   852  Residential   69307   \n",
       "4         SACRAMENTO  z95824     2    1.0   797  Residential   81900   \n",
       "..               ...     ...   ...    ...   ...          ...     ...   \n",
       "927       SACRAMENTO  z95829     4    3.0  2280  Residential  232425   \n",
       "928       SACRAMENTO  z95823     3    2.0  1477  Residential  234000   \n",
       "929   CITRUS_HEIGHTS  z95610     3    2.0  1216  Residential  235000   \n",
       "930        ELK_GROVE  z95758     4    2.0  1685  Residential  235301   \n",
       "931  EL_DORADO_HILLS  z95762     3    2.0  1362  Residential  235738   \n",
       "\n",
       "      latitude   longitude  \n",
       "0    38.631913 -121.434879  \n",
       "1    38.478902 -121.431028  \n",
       "2    38.618305 -121.443839  \n",
       "3    38.616835 -121.439146  \n",
       "4    38.519470 -121.435768  \n",
       "..         ...         ...  \n",
       "927  38.457679 -121.359620  \n",
       "928  38.499893 -121.458890  \n",
       "929  38.708824 -121.256803  \n",
       "930  38.417000 -121.397424  \n",
       "931  38.655245 -121.075915  \n",
       "\n",
       "[932 rows x 9 columns]"
      ]
     },
     "execution_count": 3,
     "metadata": {},
     "output_type": "execute_result"
    }
   ],
   "source": [
    "df"
   ]
  },
  {
   "cell_type": "code",
   "execution_count": 4,
   "id": "7de1b80f-37b4-4955-befe-f860237da9bb",
   "metadata": {},
   "outputs": [],
   "source": [
    "X=df.drop(['zip','city','price'],axis=1)\t"
   ]
  },
  {
   "cell_type": "code",
   "execution_count": 5,
   "id": "6fa01c90-ae57-420a-b182-03f3150d9255",
   "metadata": {},
   "outputs": [
    {
     "data": {
      "text/plain": [
       "0       59222\n",
       "1       68212\n",
       "2       68880\n",
       "3       69307\n",
       "4       81900\n",
       "        ...  \n",
       "927    232425\n",
       "928    234000\n",
       "929    235000\n",
       "930    235301\n",
       "931    235738\n",
       "Name: price, Length: 932, dtype: int64"
      ]
     },
     "execution_count": 5,
     "metadata": {},
     "output_type": "execute_result"
    }
   ],
   "source": [
    "y=df['price']\n",
    "y"
   ]
  },
  {
   "cell_type": "code",
   "execution_count": 6,
   "id": "b04b552a-e4aa-4a91-a414-413addbdcdd8",
   "metadata": {},
   "outputs": [],
   "source": [
    "\n",
    "X_dum=pd.get_dummies(X,drop_first=True)"
   ]
  },
  {
   "cell_type": "code",
   "execution_count": 7,
   "id": "efe058fc-92ec-40bc-b796-656c8d154c2e",
   "metadata": {},
   "outputs": [
    {
     "data": {
      "text/html": [
       "<div>\n",
       "<style scoped>\n",
       "    .dataframe tbody tr th:only-of-type {\n",
       "        vertical-align: middle;\n",
       "    }\n",
       "\n",
       "    .dataframe tbody tr th {\n",
       "        vertical-align: top;\n",
       "    }\n",
       "\n",
       "    .dataframe thead th {\n",
       "        text-align: right;\n",
       "    }\n",
       "</style>\n",
       "<table border=\"1\" class=\"dataframe\">\n",
       "  <thead>\n",
       "    <tr style=\"text-align: right;\">\n",
       "      <th></th>\n",
       "      <th>beds</th>\n",
       "      <th>baths</th>\n",
       "      <th>sqft</th>\n",
       "      <th>latitude</th>\n",
       "      <th>longitude</th>\n",
       "      <th>type_Multi_Family</th>\n",
       "      <th>type_Residential</th>\n",
       "    </tr>\n",
       "  </thead>\n",
       "  <tbody>\n",
       "    <tr>\n",
       "      <th>0</th>\n",
       "      <td>2</td>\n",
       "      <td>1.0</td>\n",
       "      <td>836</td>\n",
       "      <td>38.631913</td>\n",
       "      <td>-121.434879</td>\n",
       "      <td>False</td>\n",
       "      <td>True</td>\n",
       "    </tr>\n",
       "    <tr>\n",
       "      <th>1</th>\n",
       "      <td>3</td>\n",
       "      <td>1.0</td>\n",
       "      <td>1167</td>\n",
       "      <td>38.478902</td>\n",
       "      <td>-121.431028</td>\n",
       "      <td>False</td>\n",
       "      <td>True</td>\n",
       "    </tr>\n",
       "    <tr>\n",
       "      <th>2</th>\n",
       "      <td>2</td>\n",
       "      <td>1.0</td>\n",
       "      <td>796</td>\n",
       "      <td>38.618305</td>\n",
       "      <td>-121.443839</td>\n",
       "      <td>False</td>\n",
       "      <td>True</td>\n",
       "    </tr>\n",
       "    <tr>\n",
       "      <th>3</th>\n",
       "      <td>2</td>\n",
       "      <td>1.0</td>\n",
       "      <td>852</td>\n",
       "      <td>38.616835</td>\n",
       "      <td>-121.439146</td>\n",
       "      <td>False</td>\n",
       "      <td>True</td>\n",
       "    </tr>\n",
       "    <tr>\n",
       "      <th>4</th>\n",
       "      <td>2</td>\n",
       "      <td>1.0</td>\n",
       "      <td>797</td>\n",
       "      <td>38.519470</td>\n",
       "      <td>-121.435768</td>\n",
       "      <td>False</td>\n",
       "      <td>True</td>\n",
       "    </tr>\n",
       "    <tr>\n",
       "      <th>...</th>\n",
       "      <td>...</td>\n",
       "      <td>...</td>\n",
       "      <td>...</td>\n",
       "      <td>...</td>\n",
       "      <td>...</td>\n",
       "      <td>...</td>\n",
       "      <td>...</td>\n",
       "    </tr>\n",
       "    <tr>\n",
       "      <th>927</th>\n",
       "      <td>4</td>\n",
       "      <td>3.0</td>\n",
       "      <td>2280</td>\n",
       "      <td>38.457679</td>\n",
       "      <td>-121.359620</td>\n",
       "      <td>False</td>\n",
       "      <td>True</td>\n",
       "    </tr>\n",
       "    <tr>\n",
       "      <th>928</th>\n",
       "      <td>3</td>\n",
       "      <td>2.0</td>\n",
       "      <td>1477</td>\n",
       "      <td>38.499893</td>\n",
       "      <td>-121.458890</td>\n",
       "      <td>False</td>\n",
       "      <td>True</td>\n",
       "    </tr>\n",
       "    <tr>\n",
       "      <th>929</th>\n",
       "      <td>3</td>\n",
       "      <td>2.0</td>\n",
       "      <td>1216</td>\n",
       "      <td>38.708824</td>\n",
       "      <td>-121.256803</td>\n",
       "      <td>False</td>\n",
       "      <td>True</td>\n",
       "    </tr>\n",
       "    <tr>\n",
       "      <th>930</th>\n",
       "      <td>4</td>\n",
       "      <td>2.0</td>\n",
       "      <td>1685</td>\n",
       "      <td>38.417000</td>\n",
       "      <td>-121.397424</td>\n",
       "      <td>False</td>\n",
       "      <td>True</td>\n",
       "    </tr>\n",
       "    <tr>\n",
       "      <th>931</th>\n",
       "      <td>3</td>\n",
       "      <td>2.0</td>\n",
       "      <td>1362</td>\n",
       "      <td>38.655245</td>\n",
       "      <td>-121.075915</td>\n",
       "      <td>False</td>\n",
       "      <td>True</td>\n",
       "    </tr>\n",
       "  </tbody>\n",
       "</table>\n",
       "<p>932 rows × 7 columns</p>\n",
       "</div>"
      ],
      "text/plain": [
       "     beds  baths  sqft   latitude   longitude  type_Multi_Family  \\\n",
       "0       2    1.0   836  38.631913 -121.434879              False   \n",
       "1       3    1.0  1167  38.478902 -121.431028              False   \n",
       "2       2    1.0   796  38.618305 -121.443839              False   \n",
       "3       2    1.0   852  38.616835 -121.439146              False   \n",
       "4       2    1.0   797  38.519470 -121.435768              False   \n",
       "..    ...    ...   ...        ...         ...                ...   \n",
       "927     4    3.0  2280  38.457679 -121.359620              False   \n",
       "928     3    2.0  1477  38.499893 -121.458890              False   \n",
       "929     3    2.0  1216  38.708824 -121.256803              False   \n",
       "930     4    2.0  1685  38.417000 -121.397424              False   \n",
       "931     3    2.0  1362  38.655245 -121.075915              False   \n",
       "\n",
       "     type_Residential  \n",
       "0                True  \n",
       "1                True  \n",
       "2                True  \n",
       "3                True  \n",
       "4                True  \n",
       "..                ...  \n",
       "927              True  \n",
       "928              True  \n",
       "929              True  \n",
       "930              True  \n",
       "931              True  \n",
       "\n",
       "[932 rows x 7 columns]"
      ]
     },
     "execution_count": 7,
     "metadata": {},
     "output_type": "execute_result"
    }
   ],
   "source": [
    "X_dum"
   ]
  },
  {
   "cell_type": "code",
   "execution_count": 8,
   "id": "50c59d76-5116-4986-ba44-971cc2b9352a",
   "metadata": {},
   "outputs": [],
   "source": [
    "ls=Lasso()\n",
    "params={'alpha':[0,0.1,1,1.5,2]}"
   ]
  },
  {
   "cell_type": "code",
   "execution_count": 9,
   "id": "e009c057-4ffc-40a3-abae-099aad7e9547",
   "metadata": {},
   "outputs": [],
   "source": [
    "import warnings \n",
    "warnings.filterwarnings(\"ignore\")"
   ]
  },
  {
   "cell_type": "code",
   "execution_count": 10,
   "id": "8f63943d-c51d-430e-b455-53241b297f40",
   "metadata": {},
   "outputs": [
    {
     "name": "stdout",
     "output_type": "stream",
     "text": [
      "{'alpha': 2}\n",
      "0.5212978028366431\n"
     ]
    }
   ],
   "source": [
    "kfold=KFold(n_splits=5,shuffle=True,random_state=23)\n",
    "gcv=GridSearchCV(ls,param_grid=params,scoring='r2')\n",
    "gcv.fit(X_dum,y)\n",
    "print(gcv.best_params_)\n",
    "print(gcv.best_score_)"
   ]
  },
  {
   "cell_type": "code",
   "execution_count": 11,
   "id": "7f42896f-033f-44ce-8574-eaece90cd007",
   "metadata": {},
   "outputs": [],
   "source": [
    "from sklearn.ensemble import RandomForestRegressor"
   ]
  },
  {
   "cell_type": "code",
   "execution_count": 12,
   "id": "848a97cf-7519-47e4-b878-c4a3b79ef37b",
   "metadata": {},
   "outputs": [],
   "source": [
    "rf=RandomForestRegressor()"
   ]
  },
  {
   "cell_type": "code",
   "execution_count": 13,
   "id": "7e3288fe-a6a8-48ea-8229-1cb639d614f2",
   "metadata": {},
   "outputs": [
    {
     "name": "stdout",
     "output_type": "stream",
     "text": [
      "{'bootstrap': True, 'ccp_alpha': 0.0, 'criterion': 'squared_error', 'max_depth': None, 'max_features': 1.0, 'max_leaf_nodes': None, 'max_samples': None, 'min_impurity_decrease': 0.0, 'min_samples_leaf': 1, 'min_samples_split': 2, 'min_weight_fraction_leaf': 0.0, 'n_estimators': 100, 'n_jobs': None, 'oob_score': False, 'random_state': None, 'verbose': 0, 'warm_start': False}\n"
     ]
    }
   ],
   "source": [
    "print(rf.get_params())"
   ]
  },
  {
   "cell_type": "code",
   "execution_count": 14,
   "id": "13635e2a-5a6d-4884-8e02-7f7315f44821",
   "metadata": {},
   "outputs": [],
   "source": [
    "#params={'n_estimators':[50,100],'max_depth':[None,2,4,6], 'max_features':[2,4,6],'min_samples_split':[2,3,4]}"
   ]
  },
  {
   "cell_type": "code",
   "execution_count": 15,
   "id": "11107ecf-77df-4cb4-bf2e-bfbb1af17fa2",
   "metadata": {},
   "outputs": [],
   "source": [
    "params={'max_depth':[6],'min_samples_split':[6],'min_samples_leaf':[5],'n_estimators':[100]}"
   ]
  },
  {
   "cell_type": "code",
   "execution_count": 16,
   "id": "919e68a9-35bb-462b-8af2-94e691afeb87",
   "metadata": {},
   "outputs": [
    {
     "name": "stdout",
     "output_type": "stream",
     "text": [
      "{'max_depth': 6, 'min_samples_leaf': 5, 'min_samples_split': 6, 'n_estimators': 100}\n",
      "0.5518405513161353\n"
     ]
    }
   ],
   "source": [
    "kfold=KFold(n_splits=5,shuffle=True,random_state=23)\n",
    "gcv=GridSearchCV(rf,param_grid=params,scoring='r2')\n",
    "gcv.fit(X_dum,y)\n",
    "print(gcv.best_params_)\n",
    "print(gcv.best_score_)"
   ]
  },
  {
   "cell_type": "code",
   "execution_count": 60,
   "id": "45cb7b66-7ee8-4108-a5c5-76ef647fff74",
   "metadata": {},
   "outputs": [],
   "source": [
    "import sklearn"
   ]
  },
  {
   "cell_type": "code",
   "execution_count": 61,
   "id": "f9e97441-29bb-45b0-b6b6-5005847d3065",
   "metadata": {},
   "outputs": [
    {
     "data": {
      "text/plain": [
       "'1.3.2'"
      ]
     },
     "execution_count": 61,
     "metadata": {},
     "output_type": "execute_result"
    }
   ],
   "source": [
    "sklearn.__version__"
   ]
  },
  {
   "cell_type": "code",
   "execution_count": null,
   "id": "a5d28324-feb6-4c6a-a277-cf8312026ac3",
   "metadata": {},
   "outputs": [],
   "source": []
  }
 ],
 "metadata": {
  "kernelspec": {
   "display_name": "Python 3 (ipykernel)",
   "language": "python",
   "name": "python3"
  },
  "language_info": {
   "codemirror_mode": {
    "name": "ipython",
    "version": 3
   },
   "file_extension": ".py",
   "mimetype": "text/x-python",
   "name": "python",
   "nbconvert_exporter": "python",
   "pygments_lexer": "ipython3",
   "version": "3.11.6"
  }
 },
 "nbformat": 4,
 "nbformat_minor": 5
}
